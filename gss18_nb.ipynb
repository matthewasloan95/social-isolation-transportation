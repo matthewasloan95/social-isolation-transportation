{
 "cells": [
  {
   "cell_type": "code",
   "execution_count": 24,
   "metadata": {},
   "outputs": [],
   "source": [
    "import pandas as pd\n",
    "import matplotlib.pyplot as plt\n",
    "import seaborn as sns"
   ]
  },
  {
   "cell_type": "code",
   "execution_count": 25,
   "metadata": {},
   "outputs": [
    {
     "data": {
      "text/html": [
       "<div>\n",
       "<style scoped>\n",
       "    .dataframe tbody tr th:only-of-type {\n",
       "        vertical-align: middle;\n",
       "    }\n",
       "\n",
       "    .dataframe tbody tr th {\n",
       "        vertical-align: top;\n",
       "    }\n",
       "\n",
       "    .dataframe thead th {\n",
       "        text-align: right;\n",
       "    }\n",
       "</style>\n",
       "<table border=\"1\" class=\"dataframe\">\n",
       "  <thead>\n",
       "    <tr style=\"text-align: right;\">\n",
       "      <th></th>\n",
       "      <th>Unnamed: 0</th>\n",
       "      <th>ABANY</th>\n",
       "      <th>ABDEFECT</th>\n",
       "      <th>ABFELEGL</th>\n",
       "      <th>ABHELP1</th>\n",
       "      <th>ABHELP2</th>\n",
       "      <th>ABHELP3</th>\n",
       "      <th>ABHELP4</th>\n",
       "      <th>ABHLTH</th>\n",
       "      <th>ABINSPAY</th>\n",
       "      <th>...</th>\n",
       "      <th>XMARSEX</th>\n",
       "      <th>XMARSEX1</th>\n",
       "      <th>XMOVIE</th>\n",
       "      <th>XNORCSIZ</th>\n",
       "      <th>YEAR</th>\n",
       "      <th>YEARSJOB</th>\n",
       "      <th>YEARSUSA</th>\n",
       "      <th>YEARVAL</th>\n",
       "      <th>YOUSUP</th>\n",
       "      <th>ZODIAC</th>\n",
       "    </tr>\n",
       "  </thead>\n",
       "  <tbody>\n",
       "    <tr>\n",
       "      <th>0</th>\n",
       "      <td>0</td>\n",
       "      <td>2.0</td>\n",
       "      <td>1.0</td>\n",
       "      <td>NaN</td>\n",
       "      <td>1.0</td>\n",
       "      <td>1.0</td>\n",
       "      <td>1.0</td>\n",
       "      <td>1.0</td>\n",
       "      <td>1.0</td>\n",
       "      <td>1.0</td>\n",
       "      <td>...</td>\n",
       "      <td>1.0</td>\n",
       "      <td>1.0</td>\n",
       "      <td>NaN</td>\n",
       "      <td>6.0</td>\n",
       "      <td>2018.0</td>\n",
       "      <td>1.0</td>\n",
       "      <td>NaN</td>\n",
       "      <td>NaN</td>\n",
       "      <td>45.0</td>\n",
       "      <td>6.0</td>\n",
       "    </tr>\n",
       "    <tr>\n",
       "      <th>1</th>\n",
       "      <td>1</td>\n",
       "      <td>1.0</td>\n",
       "      <td>1.0</td>\n",
       "      <td>3.0</td>\n",
       "      <td>2.0</td>\n",
       "      <td>2.0</td>\n",
       "      <td>2.0</td>\n",
       "      <td>2.0</td>\n",
       "      <td>1.0</td>\n",
       "      <td>2.0</td>\n",
       "      <td>...</td>\n",
       "      <td>1.0</td>\n",
       "      <td>NaN</td>\n",
       "      <td>2.0</td>\n",
       "      <td>6.0</td>\n",
       "      <td>2018.0</td>\n",
       "      <td>NaN</td>\n",
       "      <td>NaN</td>\n",
       "      <td>NaN</td>\n",
       "      <td>NaN</td>\n",
       "      <td>11.0</td>\n",
       "    </tr>\n",
       "    <tr>\n",
       "      <th>2</th>\n",
       "      <td>2</td>\n",
       "      <td>NaN</td>\n",
       "      <td>NaN</td>\n",
       "      <td>NaN</td>\n",
       "      <td>1.0</td>\n",
       "      <td>2.0</td>\n",
       "      <td>1.0</td>\n",
       "      <td>1.0</td>\n",
       "      <td>NaN</td>\n",
       "      <td>2.0</td>\n",
       "      <td>...</td>\n",
       "      <td>NaN</td>\n",
       "      <td>1.0</td>\n",
       "      <td>2.0</td>\n",
       "      <td>6.0</td>\n",
       "      <td>2018.0</td>\n",
       "      <td>15.0</td>\n",
       "      <td>NaN</td>\n",
       "      <td>NaN</td>\n",
       "      <td>3.0</td>\n",
       "      <td>1.0</td>\n",
       "    </tr>\n",
       "    <tr>\n",
       "      <th>3</th>\n",
       "      <td>3</td>\n",
       "      <td>NaN</td>\n",
       "      <td>NaN</td>\n",
       "      <td>1.0</td>\n",
       "      <td>1.0</td>\n",
       "      <td>1.0</td>\n",
       "      <td>1.0</td>\n",
       "      <td>1.0</td>\n",
       "      <td>NaN</td>\n",
       "      <td>1.0</td>\n",
       "      <td>...</td>\n",
       "      <td>NaN</td>\n",
       "      <td>NaN</td>\n",
       "      <td>2.0</td>\n",
       "      <td>6.0</td>\n",
       "      <td>2018.0</td>\n",
       "      <td>25.0</td>\n",
       "      <td>NaN</td>\n",
       "      <td>NaN</td>\n",
       "      <td>10.0</td>\n",
       "      <td>1.0</td>\n",
       "    </tr>\n",
       "    <tr>\n",
       "      <th>4</th>\n",
       "      <td>4</td>\n",
       "      <td>2.0</td>\n",
       "      <td>1.0</td>\n",
       "      <td>NaN</td>\n",
       "      <td>2.0</td>\n",
       "      <td>2.0</td>\n",
       "      <td>2.0</td>\n",
       "      <td>1.0</td>\n",
       "      <td>1.0</td>\n",
       "      <td>2.0</td>\n",
       "      <td>...</td>\n",
       "      <td>1.0</td>\n",
       "      <td>NaN</td>\n",
       "      <td>2.0</td>\n",
       "      <td>6.0</td>\n",
       "      <td>2018.0</td>\n",
       "      <td>NaN</td>\n",
       "      <td>NaN</td>\n",
       "      <td>NaN</td>\n",
       "      <td>NaN</td>\n",
       "      <td>4.0</td>\n",
       "    </tr>\n",
       "  </tbody>\n",
       "</table>\n",
       "<p>5 rows × 1066 columns</p>\n",
       "</div>"
      ],
      "text/plain": [
       "   Unnamed: 0  ABANY  ABDEFECT  ABFELEGL  ABHELP1  ABHELP2  ABHELP3  ABHELP4  \\\n",
       "0           0    2.0       1.0       NaN      1.0      1.0      1.0      1.0   \n",
       "1           1    1.0       1.0       3.0      2.0      2.0      2.0      2.0   \n",
       "2           2    NaN       NaN       NaN      1.0      2.0      1.0      1.0   \n",
       "3           3    NaN       NaN       1.0      1.0      1.0      1.0      1.0   \n",
       "4           4    2.0       1.0       NaN      2.0      2.0      2.0      1.0   \n",
       "\n",
       "   ABHLTH  ABINSPAY  ...  XMARSEX  XMARSEX1  XMOVIE  XNORCSIZ    YEAR  \\\n",
       "0     1.0       1.0  ...      1.0       1.0     NaN       6.0  2018.0   \n",
       "1     1.0       2.0  ...      1.0       NaN     2.0       6.0  2018.0   \n",
       "2     NaN       2.0  ...      NaN       1.0     2.0       6.0  2018.0   \n",
       "3     NaN       1.0  ...      NaN       NaN     2.0       6.0  2018.0   \n",
       "4     1.0       2.0  ...      1.0       NaN     2.0       6.0  2018.0   \n",
       "\n",
       "   YEARSJOB  YEARSUSA  YEARVAL  YOUSUP  ZODIAC  \n",
       "0       1.0       NaN      NaN    45.0     6.0  \n",
       "1       NaN       NaN      NaN     NaN    11.0  \n",
       "2      15.0       NaN      NaN     3.0     1.0  \n",
       "3      25.0       NaN      NaN    10.0     1.0  \n",
       "4       NaN       NaN      NaN     NaN     4.0  \n",
       "\n",
       "[5 rows x 1066 columns]"
      ]
     },
     "execution_count": 25,
     "metadata": {},
     "output_type": "execute_result"
    }
   ],
   "source": [
    "df = pd.read_csv('Data/gss18.csv')\n",
    "df.head()"
   ]
  },
  {
   "cell_type": "markdown",
   "metadata": {},
   "source": [
    "### Looking at all possible values for social isolation"
   ]
  },
  {
   "cell_type": "code",
   "execution_count": 26,
   "metadata": {},
   "outputs": [
    {
     "data": {
      "text/plain": [
       "array([nan,  1.,  2.,  3.,  4.,  5.])"
      ]
     },
     "execution_count": 26,
     "metadata": {},
     "output_type": "execute_result"
    }
   ],
   "source": [
    "df['LONELY2'].unique()"
   ]
  },
  {
   "cell_type": "markdown",
   "metadata": {},
   "source": [
    "### Making a new binary variable for being considered socially isolated based on indicating 'Sometimes', 'Often', or 'Very Often'"
   ]
  },
  {
   "cell_type": "code",
   "execution_count": 27,
   "metadata": {},
   "outputs": [],
   "source": [
    "df['is_si'] = df['LONELY2'].apply(lambda x: 1.0 if x==3.0 or x==4.0 or x==5.0 else 0)"
   ]
  },
  {
   "cell_type": "markdown",
   "metadata": {},
   "source": [
    "### Checking to make sure logic was executed correctly"
   ]
  },
  {
   "cell_type": "code",
   "execution_count": 28,
   "metadata": {},
   "outputs": [
    {
     "data": {
      "text/html": [
       "<div>\n",
       "<style scoped>\n",
       "    .dataframe tbody tr th:only-of-type {\n",
       "        vertical-align: middle;\n",
       "    }\n",
       "\n",
       "    .dataframe tbody tr th {\n",
       "        vertical-align: top;\n",
       "    }\n",
       "\n",
       "    .dataframe thead th {\n",
       "        text-align: right;\n",
       "    }\n",
       "</style>\n",
       "<table border=\"1\" class=\"dataframe\">\n",
       "  <thead>\n",
       "    <tr style=\"text-align: right;\">\n",
       "      <th></th>\n",
       "      <th>LONELY2</th>\n",
       "      <th>is_si</th>\n",
       "    </tr>\n",
       "  </thead>\n",
       "  <tbody>\n",
       "    <tr>\n",
       "      <th>6</th>\n",
       "      <td>3.0</td>\n",
       "      <td>1.0</td>\n",
       "    </tr>\n",
       "    <tr>\n",
       "      <th>9</th>\n",
       "      <td>3.0</td>\n",
       "      <td>1.0</td>\n",
       "    </tr>\n",
       "    <tr>\n",
       "      <th>11</th>\n",
       "      <td>3.0</td>\n",
       "      <td>1.0</td>\n",
       "    </tr>\n",
       "    <tr>\n",
       "      <th>19</th>\n",
       "      <td>3.0</td>\n",
       "      <td>1.0</td>\n",
       "    </tr>\n",
       "    <tr>\n",
       "      <th>21</th>\n",
       "      <td>3.0</td>\n",
       "      <td>1.0</td>\n",
       "    </tr>\n",
       "    <tr>\n",
       "      <th>...</th>\n",
       "      <td>...</td>\n",
       "      <td>...</td>\n",
       "    </tr>\n",
       "    <tr>\n",
       "      <th>2260</th>\n",
       "      <td>3.0</td>\n",
       "      <td>1.0</td>\n",
       "    </tr>\n",
       "    <tr>\n",
       "      <th>2269</th>\n",
       "      <td>3.0</td>\n",
       "      <td>1.0</td>\n",
       "    </tr>\n",
       "    <tr>\n",
       "      <th>2275</th>\n",
       "      <td>3.0</td>\n",
       "      <td>1.0</td>\n",
       "    </tr>\n",
       "    <tr>\n",
       "      <th>2276</th>\n",
       "      <td>3.0</td>\n",
       "      <td>1.0</td>\n",
       "    </tr>\n",
       "    <tr>\n",
       "      <th>2310</th>\n",
       "      <td>3.0</td>\n",
       "      <td>1.0</td>\n",
       "    </tr>\n",
       "  </tbody>\n",
       "</table>\n",
       "<p>171 rows × 2 columns</p>\n",
       "</div>"
      ],
      "text/plain": [
       "      LONELY2  is_si\n",
       "6         3.0    1.0\n",
       "9         3.0    1.0\n",
       "11        3.0    1.0\n",
       "19        3.0    1.0\n",
       "21        3.0    1.0\n",
       "...       ...    ...\n",
       "2260      3.0    1.0\n",
       "2269      3.0    1.0\n",
       "2275      3.0    1.0\n",
       "2276      3.0    1.0\n",
       "2310      3.0    1.0\n",
       "\n",
       "[171 rows x 2 columns]"
      ]
     },
     "execution_count": 28,
     "metadata": {},
     "output_type": "execute_result"
    }
   ],
   "source": [
    "df[df['LONELY2']==3][['LONELY2','is_si']]"
   ]
  },
  {
   "cell_type": "markdown",
   "metadata": {},
   "source": [
    "### Putting Age's into bins to match the AARP"
   ]
  },
  {
   "cell_type": "code",
   "execution_count": 29,
   "metadata": {},
   "outputs": [
    {
     "data": {
      "text/plain": [
       "count    2341.000000\n",
       "mean       48.971380\n",
       "std        18.060879\n",
       "min        18.000000\n",
       "25%        34.000000\n",
       "50%        48.000000\n",
       "75%        63.000000\n",
       "max        89.000000\n",
       "Name: AGE, dtype: float64"
      ]
     },
     "execution_count": 29,
     "metadata": {},
     "output_type": "execute_result"
    }
   ],
   "source": [
    "df['AGE'].describe()"
   ]
  },
  {
   "cell_type": "code",
   "execution_count": 30,
   "metadata": {},
   "outputs": [],
   "source": [
    "bins = pd.IntervalIndex.from_tuples([(18, 29), (30, 44), (45, 59),(60,89)])\n",
    "\n",
    "\n",
    "df['Age Group'] = pd.cut(df['AGE'],bins,labels=['18-29','30-44','45-59','60-85'])"
   ]
  },
  {
   "cell_type": "markdown",
   "metadata": {},
   "source": [
    "### Graphing Age Groups and Social Isolation"
   ]
  },
  {
   "cell_type": "code",
   "execution_count": 31,
   "metadata": {},
   "outputs": [
    {
     "name": "stderr",
     "output_type": "stream",
     "text": [
      "C:\\Users\\Tonyj\\AppData\\Local\\Temp/ipykernel_23244/2802061794.py:10: UserWarning: FixedFormatter should only be used together with FixedLocator\n",
      "  ax.set_yticklabels(['{:,.1%}'.format(x) for x in ax.get_yticks()])\n"
     ]
    },
    {
     "data": {
      "text/plain": [
       "Text(0.07, -0.01, '**Data: General Social Survey 2018')"
      ]
     },
     "execution_count": 31,
     "metadata": {},
     "output_type": "execute_result"
    },
    {
     "data": {
      "image/png": "[encoded data removed]",
      "text/plain": [
       "<Figure size 936x720 with 1 Axes>"
      ]
     },
     "metadata": {
      "needs_background": "light"
     },
     "output_type": "display_data"
    }
   ],
   "source": [
    "plt.figure(figsize=(20,100))\n",
    "ax = df[df['is_si']==1]['Age Group'].value_counts(normalize=True).plot.bar(figsize=(13,10),rot=0,color=['teal'])\n",
    "\n",
    "plt.title('Social Isolation by Age Group From the GSS', fontsize=20)\n",
    "plt.ylabel('Percent of Respondents',fontsize=15)\n",
    "plt.xlabel('Age Group',fontsize=15)\n",
    "ax.tick_params(axis='y',labelsize=15)\n",
    "ax.tick_params(axis='x', labelsize=20,rotation=0)\n",
    "ax.set_xticklabels(['18-29','30-44','45-59','60-89'])\n",
    "ax.set_yticklabels(['{:,.1%}'.format(x) for x in ax.get_yticks()])\n",
    "plt.figtext(0.07, -0.01,'**Data: General Social Survey 2018',fontsize=11)"
   ]
  },
  {
   "cell_type": "markdown",
   "metadata": {},
   "source": [
    "### Graphing Household Income and Social Isolation"
   ]
  },
  {
   "cell_type": "markdown",
   "metadata": {},
   "source": [
    "### ***This first one is looking at proportions of income brackets being Socially Isolated instead of proportion of all who are socially isolated being in a respective bracket"
   ]
  },
  {
   "cell_type": "code",
   "execution_count": 42,
   "metadata": {},
   "outputs": [
    {
     "name": "stderr",
     "output_type": "stream",
     "text": [
      "C:\\Users\\Tonyj\\AppData\\Local\\Temp/ipykernel_23244/571246505.py:10: UserWarning: FixedFormatter should only be used together with FixedLocator\n",
      "  ax.set_yticklabels(['{:,.1%}'.format(x) for x in ax.get_yticks()])\n"
     ]
    },
    {
     "ename": "AttributeError",
     "evalue": "module 'matplotlib.pyplot' has no attribute 'tightplot'",
     "output_type": "error",
     "traceback": [
      "\u001b[1;31m---------------------------------------------------------------------------\u001b[0m",
      "\u001b[1;31mAttributeError\u001b[0m                            Traceback (most recent call last)",
      "\u001b[1;32m~\\AppData\\Local\\Temp/ipykernel_23244/571246505.py\u001b[0m in \u001b[0;36m<module>\u001b[1;34m\u001b[0m\n\u001b[0;32m     10\u001b[0m \u001b[0max\u001b[0m\u001b[1;33m.\u001b[0m\u001b[0mset_yticklabels\u001b[0m\u001b[1;33m(\u001b[0m\u001b[1;33m[\u001b[0m\u001b[1;34m'{:,.1%}'\u001b[0m\u001b[1;33m.\u001b[0m\u001b[0mformat\u001b[0m\u001b[1;33m(\u001b[0m\u001b[0mx\u001b[0m\u001b[1;33m)\u001b[0m \u001b[1;32mfor\u001b[0m \u001b[0mx\u001b[0m \u001b[1;32min\u001b[0m \u001b[0max\u001b[0m\u001b[1;33m.\u001b[0m\u001b[0mget_yticks\u001b[0m\u001b[1;33m(\u001b[0m\u001b[1;33m)\u001b[0m\u001b[1;33m]\u001b[0m\u001b[1;33m)\u001b[0m\u001b[1;33m\u001b[0m\u001b[1;33m\u001b[0m\u001b[0m\n\u001b[0;32m     11\u001b[0m \u001b[0mplt\u001b[0m\u001b[1;33m.\u001b[0m\u001b[0mfigtext\u001b[0m\u001b[1;33m(\u001b[0m\u001b[1;36m0.07\u001b[0m\u001b[1;33m,\u001b[0m \u001b[1;33m-\u001b[0m\u001b[1;36m0.01\u001b[0m\u001b[1;33m,\u001b[0m\u001b[1;34m'**Data: General Social Survey 2018'\u001b[0m\u001b[1;33m,\u001b[0m\u001b[0mfontsize\u001b[0m\u001b[1;33m=\u001b[0m\u001b[1;36m11\u001b[0m\u001b[1;33m)\u001b[0m\u001b[1;33m\u001b[0m\u001b[1;33m\u001b[0m\u001b[0m\n\u001b[1;32m---> 12\u001b[1;33m \u001b[0mplt\u001b[0m\u001b[1;33m.\u001b[0m\u001b[0mtightplot\u001b[0m\u001b[1;33m(\u001b[0m\u001b[1;33m)\u001b[0m\u001b[1;33m\u001b[0m\u001b[1;33m\u001b[0m\u001b[0m\n\u001b[0m",
      "\u001b[1;31mAttributeError\u001b[0m: module 'matplotlib.pyplot' has no attribute 'tightplot'"
     ]
    },
    {
     "data": {
      "image/png": "[encoded data removed]",
      "text/plain": [
       "<Figure size 936x720 with 1 Axes>"
      ]
     },
     "metadata": {
      "needs_background": "light"
     },
     "output_type": "display_data"
    }
   ],
   "source": [
    "plt.figure(figsize=(20,100))\n",
    "ax = df[df['is_si']==1]['EDUC'].value_counts(normalize=True).plot.bar(figsize=(13,10),rot=0,color=['lightcoral'])\n",
    "\n",
    "plt.title('Social Isolation by Education Level From the GSS', fontsize=20)\n",
    "plt.ylabel('Percent of Respondents',fontsize=15)\n",
    "plt.xlabel('Education Level',fontsize=15)\n",
    "ax.tick_params(axis='y',labelsize=15)\n",
    "ax.tick_params(axis='x', labelsize=20,rotation=0)\n",
    "#ax.set_xticklabels(['18-29','30-44','45-59','60-89'])\n",
    "ax.set_yticklabels(['{:,.1%}'.format(x) for x in ax.get_yticks()])\n",
    "plt.figtext(0.07, -0.01,'**Data: General Social Survey 2018',fontsize=11)"
   ]
  },
  {
   "cell_type": "code",
   "execution_count": 46,
   "metadata": {},
   "outputs": [
    {
     "name": "stderr",
     "output_type": "stream",
     "text": [
      "C:\\Users\\Tonyj\\AppData\\Local\\Temp/ipykernel_23244/2062619690.py:9: UserWarning: FixedFormatter should only be used together with FixedLocator\n",
      "  ax.set_yticklabels(['{:,.1%}'.format(x) for x in ax.get_yticks()])\n"
     ]
    },
    {
     "data": {
      "text/plain": [
       "Text(0.07, -0.05, '**Data: General Social Survey 2018')"
      ]
     },
     "execution_count": 46,
     "metadata": {},
     "output_type": "execute_result"
    },
    {
     "data": {
      "image/png": "[encoded data removed]",
      "text/plain": [
       "<Figure size 936x720 with 1 Axes>"
      ]
     },
     "metadata": {
      "needs_background": "light"
     },
     "output_type": "display_data"
    }
   ],
   "source": [
    "plt.figure(figsize=(20,100))\n",
    "ax = df[df['is_si']==1]['RINCOME'].value_counts(normalize=True)[[1,2,3,4,5,6,7,8,9,10,11,12]].plot.bar(figsize=(13,10),rot=0,color=['lightcoral'])\n",
    "\n",
    "plt.title('Social Isolation by Income From the GSS', fontsize=20)\n",
    "plt.ylabel('Percent of Respondents',fontsize=15)\n",
    "plt.xlabel('Household Income',fontsize=15)\n",
    "ax.tick_params(axis='y',labelsize=15)\n",
    "ax.tick_params(axis='x', labelsize=20,rotation=45)\n",
    "ax.set_yticklabels(['{:,.1%}'.format(x) for x in ax.get_yticks()])\n",
    "ax.set_xticklabels(['Under 1k','1-3k','3-4k','4-5k','5-6k','6-7k','7-8k','8-9k','10-15k','15-20k','20-25k','Over 25k'])\n",
    "plt.figtext(0.07, -0.05,'**Data: General Social Survey 2018',fontsize=11)\n",
    "#plt.setp(ax.xaxis.get_majorticklabels(), ha=\"right\" )"
   ]
  },
  {
   "cell_type": "code",
   "execution_count": null,
   "metadata": {},
   "outputs": [],
   "source": [
    "plt.figure(figsize=(20,100))\n",
    "ax = df[df['is_si']==1]['RINCOME'].value_counts(normalize=True)[[1,2,3,4,5,6,7,8,9,10,11,12]].plot.bar(figsize=(13,10),rot=0,color=['lightcoral'])\n",
    "\n",
    "plt.title('Social Isolation by Income From the GSS', fontsize=20)\n",
    "plt.ylabel('Percent of Respondents',fontsize=15)\n",
    "plt.xlabel('Household Income',fontsize=15)\n",
    "ax.tick_params(axis='y',labelsize=15)\n",
    "ax.tick_params(axis='x', labelsize=20,rotation=45)\n",
    "ax.set_yticklabels(['{:,.1%}'.format(x) for x in ax.get_yticks()])\n",
    "ax.set_xticklabels(['Under 1k','1-3k','3-4k','4-5k','5-6k','6-7k','7-8k','8-9k','10-15k','15-20k','20-25k','Over 25k'])\n",
    "plt.figtext(0.07, -0.05,'**Data: General Social Survey 2018',fontsize=11)\n",
    "plt.setp(ax.xaxis.get_majorticklabels(), ha=\"right\" )"
   ]
  },
  {
   "cell_type": "markdown",
   "metadata": {},
   "source": [
    "Filtering for people who responded 3: Sometimes 4: Often 5: Very often for feeling isolated from others in last 4 weeks.\n",
    "282 respondents"
   ]
  },
  {
   "cell_type": "code",
   "execution_count": null,
   "metadata": {},
   "outputs": [],
   "source": [
    "isolated_df= df[(df['LONELY2']==3) | (df['LONELY2']==4) | (df['LONELY2']==5)]"
   ]
  },
  {
   "cell_type": "code",
   "execution_count": null,
   "metadata": {},
   "outputs": [],
   "source": [
    "isolated_df['AGE'].plot(kind= 'hist', bins= 10)"
   ]
  },
  {
   "cell_type": "code",
   "execution_count": null,
   "metadata": {},
   "outputs": [],
   "source": [
    "isolated_df['RINCOME'].value_counts(normalize= 'column').plot(kind= 'bar')"
   ]
  },
  {
   "cell_type": "code",
   "execution_count": null,
   "metadata": {},
   "outputs": [],
   "source": [
    "#white balck other\n",
    "isolated_df['RACE'].value_counts(normalize= 'column').plot(kind= 'bar')"
   ]
  },
  {
   "cell_type": "code",
   "execution_count": null,
   "metadata": {},
   "outputs": [],
   "source": [
    "#num of people in household\n",
    "isolated_df['HOMPOP'].value_counts(normalize= 'column').plot(kind= 'bar')"
   ]
  },
  {
   "cell_type": "code",
   "execution_count": null,
   "metadata": {},
   "outputs": [],
   "source": [
    "plt.figure(figsize=(20,100))\n",
    "ax = df[df['is_si']==1]['HOMPOP'].value_counts(normalize=True).plot.bar(figsize=(13,10),rot=0,color=['teal'])\n",
    "\n",
    "plt.title('Social Isolation by HouseHold Size From the GSS', fontsize=20)\n",
    "plt.ylabel('Percent of Respondents',fontsize=15)\n",
    "plt.xlabel('Household Size',fontsize=15)\n",
    "ax.tick_params(axis='y',labelsize=15)\n",
    "ax.tick_params(axis='x', labelsize=20,rotation=0)\n",
    "ax.set_yticklabels(['{:,.1%}'.format(x) for x in ax.get_yticks()])\n",
    "plt.figtext(0.07, -0.02,'**Data: General Social Survey 2018',fontsize=11)\n",
    "#plt.setp(ax.xaxis.get_majorticklabels(), ha=\"right\" )"
   ]
  }
 ],
 "metadata": {
  "kernelspec": {
   "display_name": "Python 3 (ipykernel)",
   "language": "python",
   "name": "python3"
  },
  "language_info": {
   "codemirror_mode": {
    "name": "ipython",
    "version": 3
   },
   "file_extension": ".py",
   "mimetype": "text/x-python",
   "name": "python",
   "nbconvert_exporter": "python",
   "pygments_lexer": "ipython3",
   "version": "3.9.7"
  }
 },
 "nbformat": 4,
 "nbformat_minor": 4
}
