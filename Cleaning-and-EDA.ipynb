{
 "cells": [
  {
   "cell_type": "markdown",
   "id": "b8cf6580-194e-46de-b48d-11da145af16b",
   "metadata": {
    "tags": []
   },
   "source": [
    "# Analyzing Public Transportation Usage to enhance Efforts of Reducing Social Isolation"
   ]
  },
  {
   "cell_type": "markdown",
   "id": "6edd7029-a56e-4c79-88b7-2eeb737ef6f0",
   "metadata": {
    "tags": []
   },
   "source": [
    "### Install Dependencies"
   ]
  },
  {
   "cell_type": "code",
   "execution_count": 1,
   "id": "09cdcc52-740f-4133-ad94-3b69833a7404",
   "metadata": {},
   "outputs": [],
   "source": [
    "import pandas as pd\n",
    "import matplotlib.pyplot as plt\n",
    "import matplotlib.ticker as mtick\n",
    "import numpy as np\n",
    "import seaborn as sns"
   ]
  },
  {
   "cell_type": "markdown",
   "id": "dbb43071-cb43-4cf5-9a89-8f43f57d3d4f",
   "metadata": {},
   "source": [
    "### Read in Data"
   ]
  },
  {
   "cell_type": "code",
   "execution_count": 2,
   "id": "d22617f5-0469-4cc3-b146-3ac56cf59c96",
   "metadata": {},
   "outputs": [],
   "source": [
    "#2018 AARP Survey\n",
    "df_2018 = pd.read_csv('Data/aarp.csv')\n",
    "\n",
    "#2017 AARP Survey\n",
    "\n",
    "#Hopefully Prior year Surveys"
   ]
  },
  {
   "cell_type": "markdown",
   "id": "0c366309-967e-44c0-9cba-7cb45755cd57",
   "metadata": {},
   "source": [
    "# EDA"
   ]
  },
  {
   "cell_type": "code",
   "execution_count": 3,
   "id": "c4a614d9-3c21-4137-bd2d-b7ff872b3a09",
   "metadata": {},
   "outputs": [
    {
     "data": {
      "text/html": [
       "<div>\n",
       "<style scoped>\n",
       "    .dataframe tbody tr th:only-of-type {\n",
       "        vertical-align: middle;\n",
       "    }\n",
       "\n",
       "    .dataframe tbody tr th {\n",
       "        vertical-align: top;\n",
       "    }\n",
       "\n",
       "    .dataframe thead th {\n",
       "        text-align: right;\n",
       "    }\n",
       "</style>\n",
       "<table border=\"1\" class=\"dataframe\">\n",
       "  <thead>\n",
       "    <tr style=\"text-align: right;\">\n",
       "      <th></th>\n",
       "      <th>Unnamed: 0</th>\n",
       "      <th>CaseId</th>\n",
       "      <th>WEIGHT</th>\n",
       "      <th>LGBT</th>\n",
       "      <th>Q1</th>\n",
       "      <th>Q2</th>\n",
       "      <th>Q3</th>\n",
       "      <th>Q4A</th>\n",
       "      <th>Q4B</th>\n",
       "      <th>Q4C</th>\n",
       "      <th>...</th>\n",
       "      <th>CASTATE</th>\n",
       "      <th>filter_$</th>\n",
       "      <th>Ownership</th>\n",
       "      <th>housecomp</th>\n",
       "      <th>dumunder18</th>\n",
       "      <th>dumover18</th>\n",
       "      <th>dumcollege</th>\n",
       "      <th>dumparents</th>\n",
       "      <th>dumother</th>\n",
       "      <th>countInHouse</th>\n",
       "    </tr>\n",
       "  </thead>\n",
       "  <tbody>\n",
       "    <tr>\n",
       "      <th>0</th>\n",
       "      <td>0</td>\n",
       "      <td>54.0</td>\n",
       "      <td>0.756810</td>\n",
       "      <td>Straight (that is not gay/lesbian)</td>\n",
       "      <td>Strongly agree</td>\n",
       "      <td>Strongly agree</td>\n",
       "      <td>Move to a different community</td>\n",
       "      <td>No</td>\n",
       "      <td>No</td>\n",
       "      <td>No</td>\n",
       "      <td>...</td>\n",
       "      <td>Other</td>\n",
       "      <td>Selected</td>\n",
       "      <td>Own</td>\n",
       "      <td>NaN</td>\n",
       "      <td>Other</td>\n",
       "      <td>Other</td>\n",
       "      <td>Other</td>\n",
       "      <td>Other</td>\n",
       "      <td>Yes</td>\n",
       "      <td>1.0</td>\n",
       "    </tr>\n",
       "    <tr>\n",
       "      <th>1</th>\n",
       "      <td>1</td>\n",
       "      <td>56.0</td>\n",
       "      <td>2.931238</td>\n",
       "      <td>Straight (that is not gay/lesbian)</td>\n",
       "      <td>Strongly agree</td>\n",
       "      <td>Strongly agree</td>\n",
       "      <td>Stay in your current residence and never move</td>\n",
       "      <td>Yes</td>\n",
       "      <td>No</td>\n",
       "      <td>Yes</td>\n",
       "      <td>...</td>\n",
       "      <td>Other</td>\n",
       "      <td>Selected</td>\n",
       "      <td>Own</td>\n",
       "      <td>NaN</td>\n",
       "      <td>Other</td>\n",
       "      <td>Yes</td>\n",
       "      <td>Other</td>\n",
       "      <td>Other</td>\n",
       "      <td>Other</td>\n",
       "      <td>1.0</td>\n",
       "    </tr>\n",
       "    <tr>\n",
       "      <th>2</th>\n",
       "      <td>2</td>\n",
       "      <td>67.0</td>\n",
       "      <td>6.867710</td>\n",
       "      <td>Straight (that is not gay/lesbian)</td>\n",
       "      <td>Strongly agree</td>\n",
       "      <td>Strongly agree</td>\n",
       "      <td>Move to a different community</td>\n",
       "      <td>Yes</td>\n",
       "      <td>No</td>\n",
       "      <td>Yes</td>\n",
       "      <td>...</td>\n",
       "      <td>Other</td>\n",
       "      <td>Selected</td>\n",
       "      <td>Other</td>\n",
       "      <td>NaN</td>\n",
       "      <td>Other</td>\n",
       "      <td>Other</td>\n",
       "      <td>Other</td>\n",
       "      <td>Yes</td>\n",
       "      <td>Yes</td>\n",
       "      <td>2.0</td>\n",
       "    </tr>\n",
       "    <tr>\n",
       "      <th>3</th>\n",
       "      <td>3</td>\n",
       "      <td>68.0</td>\n",
       "      <td>0.827716</td>\n",
       "      <td>Straight (that is not gay/lesbian)</td>\n",
       "      <td>Strongly agree</td>\n",
       "      <td>Strongly agree</td>\n",
       "      <td>Stay in your current residence and never move</td>\n",
       "      <td>No</td>\n",
       "      <td>Yes</td>\n",
       "      <td>No</td>\n",
       "      <td>...</td>\n",
       "      <td>CA</td>\n",
       "      <td>Selected</td>\n",
       "      <td>Own</td>\n",
       "      <td>NaN</td>\n",
       "      <td>Yes</td>\n",
       "      <td>Other</td>\n",
       "      <td>Other</td>\n",
       "      <td>Other</td>\n",
       "      <td>Other</td>\n",
       "      <td>1.0</td>\n",
       "    </tr>\n",
       "    <tr>\n",
       "      <th>4</th>\n",
       "      <td>4</td>\n",
       "      <td>72.0</td>\n",
       "      <td>0.712991</td>\n",
       "      <td>Straight (that is not gay/lesbian)</td>\n",
       "      <td>Somewhat agree</td>\n",
       "      <td>Somewhat agree</td>\n",
       "      <td>Move to a different community</td>\n",
       "      <td>No</td>\n",
       "      <td>Yes</td>\n",
       "      <td>No</td>\n",
       "      <td>...</td>\n",
       "      <td>Other</td>\n",
       "      <td>Selected</td>\n",
       "      <td>Own</td>\n",
       "      <td>NaN</td>\n",
       "      <td>Yes</td>\n",
       "      <td>Other</td>\n",
       "      <td>Other</td>\n",
       "      <td>Other</td>\n",
       "      <td>Other</td>\n",
       "      <td>1.0</td>\n",
       "    </tr>\n",
       "  </tbody>\n",
       "</table>\n",
       "<p>5 rows × 259 columns</p>\n",
       "</div>"
      ],
      "text/plain": [
       "   Unnamed: 0  CaseId    WEIGHT                                LGBT  \\\n",
       "0           0    54.0  0.756810  Straight (that is not gay/lesbian)   \n",
       "1           1    56.0  2.931238  Straight (that is not gay/lesbian)   \n",
       "2           2    67.0  6.867710  Straight (that is not gay/lesbian)   \n",
       "3           3    68.0  0.827716  Straight (that is not gay/lesbian)   \n",
       "4           4    72.0  0.712991  Straight (that is not gay/lesbian)   \n",
       "\n",
       "               Q1              Q2  \\\n",
       "0  Strongly agree  Strongly agree   \n",
       "1  Strongly agree  Strongly agree   \n",
       "2  Strongly agree  Strongly agree   \n",
       "3  Strongly agree  Strongly agree   \n",
       "4  Somewhat agree  Somewhat agree   \n",
       "\n",
       "                                              Q3  Q4A  Q4B  Q4C  ... CASTATE  \\\n",
       "0                  Move to a different community   No   No   No  ...   Other   \n",
       "1  Stay in your current residence and never move  Yes   No  Yes  ...   Other   \n",
       "2                  Move to a different community  Yes   No  Yes  ...   Other   \n",
       "3  Stay in your current residence and never move   No  Yes   No  ...      CA   \n",
       "4                  Move to a different community   No  Yes   No  ...   Other   \n",
       "\n",
       "   filter_$ Ownership housecomp dumunder18 dumover18 dumcollege dumparents  \\\n",
       "0  Selected       Own       NaN      Other     Other      Other      Other   \n",
       "1  Selected       Own       NaN      Other       Yes      Other      Other   \n",
       "2  Selected     Other       NaN      Other     Other      Other        Yes   \n",
       "3  Selected       Own       NaN        Yes     Other      Other      Other   \n",
       "4  Selected       Own       NaN        Yes     Other      Other      Other   \n",
       "\n",
       "  dumother countInHouse  \n",
       "0      Yes          1.0  \n",
       "1    Other          1.0  \n",
       "2      Yes          2.0  \n",
       "3    Other          1.0  \n",
       "4    Other          1.0  \n",
       "\n",
       "[5 rows x 259 columns]"
      ]
     },
     "execution_count": 3,
     "metadata": {},
     "output_type": "execute_result"
    }
   ],
   "source": [
    "df_2018.head()"
   ]
  },
  {
   "cell_type": "code",
   "execution_count": 4,
   "id": "ec388109-e4e1-432f-a762-ec0ad5fefa73",
   "metadata": {},
   "outputs": [
    {
     "data": {
      "text/html": [
       "<div>\n",
       "<style scoped>\n",
       "    .dataframe tbody tr th:only-of-type {\n",
       "        vertical-align: middle;\n",
       "    }\n",
       "\n",
       "    .dataframe tbody tr th {\n",
       "        vertical-align: top;\n",
       "    }\n",
       "\n",
       "    .dataframe thead th {\n",
       "        text-align: right;\n",
       "    }\n",
       "</style>\n",
       "<table border=\"1\" class=\"dataframe\">\n",
       "  <thead>\n",
       "    <tr style=\"text-align: right;\">\n",
       "      <th></th>\n",
       "      <th>Unnamed: 0</th>\n",
       "      <th>CaseId</th>\n",
       "      <th>WEIGHT</th>\n",
       "      <th>duration</th>\n",
       "      <th>LGBTFLAG</th>\n",
       "      <th>AGE</th>\n",
       "      <th>HHSIZE</th>\n",
       "      <th>HH01</th>\n",
       "      <th>HH25</th>\n",
       "      <th>HH612</th>\n",
       "      <th>HH1317</th>\n",
       "      <th>HH18OV</th>\n",
       "      <th>Disablecombo</th>\n",
       "      <th>housecomp</th>\n",
       "      <th>countInHouse</th>\n",
       "    </tr>\n",
       "  </thead>\n",
       "  <tbody>\n",
       "    <tr>\n",
       "      <th>count</th>\n",
       "      <td>1947.000000</td>\n",
       "      <td>1947.000000</td>\n",
       "      <td>1947.000000</td>\n",
       "      <td>1947.000000</td>\n",
       "      <td>363.0</td>\n",
       "      <td>1947.000000</td>\n",
       "      <td>1947.000000</td>\n",
       "      <td>1947.000000</td>\n",
       "      <td>1947.000000</td>\n",
       "      <td>1947.000000</td>\n",
       "      <td>1947.000000</td>\n",
       "      <td>1947.00000</td>\n",
       "      <td>0.0</td>\n",
       "      <td>0.0</td>\n",
       "      <td>1947.000000</td>\n",
       "    </tr>\n",
       "    <tr>\n",
       "      <th>mean</th>\n",
       "      <td>973.000000</td>\n",
       "      <td>4122.983051</td>\n",
       "      <td>1.000000</td>\n",
       "      <td>358.551104</td>\n",
       "      <td>1.0</td>\n",
       "      <td>44.743708</td>\n",
       "      <td>2.833590</td>\n",
       "      <td>0.032357</td>\n",
       "      <td>0.134052</td>\n",
       "      <td>0.216744</td>\n",
       "      <td>0.174114</td>\n",
       "      <td>2.24756</td>\n",
       "      <td>NaN</td>\n",
       "      <td>NaN</td>\n",
       "      <td>1.222393</td>\n",
       "    </tr>\n",
       "    <tr>\n",
       "      <th>std</th>\n",
       "      <td>562.194806</td>\n",
       "      <td>2367.516620</td>\n",
       "      <td>1.213575</td>\n",
       "      <td>1169.262974</td>\n",
       "      <td>0.0</td>\n",
       "      <td>17.473649</td>\n",
       "      <td>1.463162</td>\n",
       "      <td>0.196267</td>\n",
       "      <td>0.424102</td>\n",
       "      <td>0.544303</td>\n",
       "      <td>0.473325</td>\n",
       "      <td>1.15069</td>\n",
       "      <td>NaN</td>\n",
       "      <td>NaN</td>\n",
       "      <td>1.088269</td>\n",
       "    </tr>\n",
       "    <tr>\n",
       "      <th>min</th>\n",
       "      <td>0.000000</td>\n",
       "      <td>54.000000</td>\n",
       "      <td>0.001845</td>\n",
       "      <td>2.000000</td>\n",
       "      <td>1.0</td>\n",
       "      <td>19.000000</td>\n",
       "      <td>1.000000</td>\n",
       "      <td>0.000000</td>\n",
       "      <td>0.000000</td>\n",
       "      <td>0.000000</td>\n",
       "      <td>0.000000</td>\n",
       "      <td>1.00000</td>\n",
       "      <td>NaN</td>\n",
       "      <td>NaN</td>\n",
       "      <td>0.000000</td>\n",
       "    </tr>\n",
       "    <tr>\n",
       "      <th>25%</th>\n",
       "      <td>486.500000</td>\n",
       "      <td>2086.500000</td>\n",
       "      <td>0.210824</td>\n",
       "      <td>13.000000</td>\n",
       "      <td>1.0</td>\n",
       "      <td>29.000000</td>\n",
       "      <td>2.000000</td>\n",
       "      <td>0.000000</td>\n",
       "      <td>0.000000</td>\n",
       "      <td>0.000000</td>\n",
       "      <td>0.000000</td>\n",
       "      <td>1.00000</td>\n",
       "      <td>NaN</td>\n",
       "      <td>NaN</td>\n",
       "      <td>0.000000</td>\n",
       "    </tr>\n",
       "    <tr>\n",
       "      <th>50%</th>\n",
       "      <td>973.000000</td>\n",
       "      <td>4161.000000</td>\n",
       "      <td>0.592207</td>\n",
       "      <td>20.000000</td>\n",
       "      <td>1.0</td>\n",
       "      <td>42.000000</td>\n",
       "      <td>3.000000</td>\n",
       "      <td>0.000000</td>\n",
       "      <td>0.000000</td>\n",
       "      <td>0.000000</td>\n",
       "      <td>0.000000</td>\n",
       "      <td>2.00000</td>\n",
       "      <td>NaN</td>\n",
       "      <td>NaN</td>\n",
       "      <td>1.000000</td>\n",
       "    </tr>\n",
       "    <tr>\n",
       "      <th>75%</th>\n",
       "      <td>1459.500000</td>\n",
       "      <td>6212.000000</td>\n",
       "      <td>1.272429</td>\n",
       "      <td>34.000000</td>\n",
       "      <td>1.0</td>\n",
       "      <td>59.000000</td>\n",
       "      <td>4.000000</td>\n",
       "      <td>0.000000</td>\n",
       "      <td>0.000000</td>\n",
       "      <td>0.000000</td>\n",
       "      <td>0.000000</td>\n",
       "      <td>3.00000</td>\n",
       "      <td>NaN</td>\n",
       "      <td>NaN</td>\n",
       "      <td>2.000000</td>\n",
       "    </tr>\n",
       "    <tr>\n",
       "      <th>max</th>\n",
       "      <td>1946.000000</td>\n",
       "      <td>8216.000000</td>\n",
       "      <td>10.519664</td>\n",
       "      <td>12563.000000</td>\n",
       "      <td>1.0</td>\n",
       "      <td>90.000000</td>\n",
       "      <td>6.000000</td>\n",
       "      <td>3.000000</td>\n",
       "      <td>3.000000</td>\n",
       "      <td>4.000000</td>\n",
       "      <td>3.000000</td>\n",
       "      <td>10.00000</td>\n",
       "      <td>NaN</td>\n",
       "      <td>NaN</td>\n",
       "      <td>5.000000</td>\n",
       "    </tr>\n",
       "  </tbody>\n",
       "</table>\n",
       "</div>"
      ],
      "text/plain": [
       "        Unnamed: 0       CaseId       WEIGHT      duration  LGBTFLAG  \\\n",
       "count  1947.000000  1947.000000  1947.000000   1947.000000     363.0   \n",
       "mean    973.000000  4122.983051     1.000000    358.551104       1.0   \n",
       "std     562.194806  2367.516620     1.213575   1169.262974       0.0   \n",
       "min       0.000000    54.000000     0.001845      2.000000       1.0   \n",
       "25%     486.500000  2086.500000     0.210824     13.000000       1.0   \n",
       "50%     973.000000  4161.000000     0.592207     20.000000       1.0   \n",
       "75%    1459.500000  6212.000000     1.272429     34.000000       1.0   \n",
       "max    1946.000000  8216.000000    10.519664  12563.000000       1.0   \n",
       "\n",
       "               AGE       HHSIZE         HH01         HH25        HH612  \\\n",
       "count  1947.000000  1947.000000  1947.000000  1947.000000  1947.000000   \n",
       "mean     44.743708     2.833590     0.032357     0.134052     0.216744   \n",
       "std      17.473649     1.463162     0.196267     0.424102     0.544303   \n",
       "min      19.000000     1.000000     0.000000     0.000000     0.000000   \n",
       "25%      29.000000     2.000000     0.000000     0.000000     0.000000   \n",
       "50%      42.000000     3.000000     0.000000     0.000000     0.000000   \n",
       "75%      59.000000     4.000000     0.000000     0.000000     0.000000   \n",
       "max      90.000000     6.000000     3.000000     3.000000     4.000000   \n",
       "\n",
       "            HH1317      HH18OV  Disablecombo  housecomp  countInHouse  \n",
       "count  1947.000000  1947.00000           0.0        0.0   1947.000000  \n",
       "mean      0.174114     2.24756           NaN        NaN      1.222393  \n",
       "std       0.473325     1.15069           NaN        NaN      1.088269  \n",
       "min       0.000000     1.00000           NaN        NaN      0.000000  \n",
       "25%       0.000000     1.00000           NaN        NaN      0.000000  \n",
       "50%       0.000000     2.00000           NaN        NaN      1.000000  \n",
       "75%       0.000000     3.00000           NaN        NaN      2.000000  \n",
       "max       3.000000    10.00000           NaN        NaN      5.000000  "
      ]
     },
     "execution_count": 4,
     "metadata": {},
     "output_type": "execute_result"
    }
   ],
   "source": [
    "df_2018.describe()"
   ]
  },
  {
   "cell_type": "code",
   "execution_count": 5,
   "id": "e048b99b-5737-44a3-a1bc-8d09a05acbf9",
   "metadata": {
    "jupyter": {
     "source_hidden": true
    },
    "tags": []
   },
   "outputs": [
    {
     "data": {
      "text/plain": [
       "Unnamed: 0        int64\n",
       "CaseId          float64\n",
       "WEIGHT          float64\n",
       "LGBT             object\n",
       "Q1               object\n",
       "                 ...   \n",
       "dumover18        object\n",
       "dumcollege       object\n",
       "dumparents       object\n",
       "dumother         object\n",
       "countInHouse    float64\n",
       "Length: 259, dtype: object"
      ]
     },
     "execution_count": 5,
     "metadata": {},
     "output_type": "execute_result"
    }
   ],
   "source": [
    "df_2018.dtypes"
   ]
  },
  {
   "cell_type": "code",
   "execution_count": 6,
   "id": "26db31dd-48d2-4d5b-b812-5860c53cf26f",
   "metadata": {},
   "outputs": [
    {
     "data": {
      "text/html": [
       "<div>\n",
       "<style scoped>\n",
       "    .dataframe tbody tr th:only-of-type {\n",
       "        vertical-align: middle;\n",
       "    }\n",
       "\n",
       "    .dataframe tbody tr th {\n",
       "        vertical-align: top;\n",
       "    }\n",
       "\n",
       "    .dataframe thead th {\n",
       "        text-align: right;\n",
       "    }\n",
       "</style>\n",
       "<table border=\"1\" class=\"dataframe\">\n",
       "  <thead>\n",
       "    <tr style=\"text-align: right;\">\n",
       "      <th></th>\n",
       "      <th>Unnamed: 0</th>\n",
       "      <th>CaseId</th>\n",
       "      <th>WEIGHT</th>\n",
       "      <th>duration</th>\n",
       "      <th>LGBTFLAG</th>\n",
       "      <th>AGE</th>\n",
       "      <th>HHSIZE</th>\n",
       "      <th>HH01</th>\n",
       "      <th>HH25</th>\n",
       "      <th>HH612</th>\n",
       "      <th>HH1317</th>\n",
       "      <th>HH18OV</th>\n",
       "      <th>Disablecombo</th>\n",
       "      <th>housecomp</th>\n",
       "      <th>countInHouse</th>\n",
       "    </tr>\n",
       "  </thead>\n",
       "  <tbody>\n",
       "    <tr>\n",
       "      <th>Unnamed: 0</th>\n",
       "      <td>1.000000</td>\n",
       "      <td>0.999853</td>\n",
       "      <td>-0.018289</td>\n",
       "      <td>0.008076</td>\n",
       "      <td>NaN</td>\n",
       "      <td>0.007297</td>\n",
       "      <td>-0.026321</td>\n",
       "      <td>-0.012602</td>\n",
       "      <td>-0.040629</td>\n",
       "      <td>-0.023265</td>\n",
       "      <td>0.001835</td>\n",
       "      <td>-0.013427</td>\n",
       "      <td>NaN</td>\n",
       "      <td>NaN</td>\n",
       "      <td>-0.035253</td>\n",
       "    </tr>\n",
       "    <tr>\n",
       "      <th>CaseId</th>\n",
       "      <td>0.999853</td>\n",
       "      <td>1.000000</td>\n",
       "      <td>-0.018127</td>\n",
       "      <td>0.008400</td>\n",
       "      <td>NaN</td>\n",
       "      <td>0.006919</td>\n",
       "      <td>-0.026038</td>\n",
       "      <td>-0.012789</td>\n",
       "      <td>-0.040462</td>\n",
       "      <td>-0.023408</td>\n",
       "      <td>0.001644</td>\n",
       "      <td>-0.012818</td>\n",
       "      <td>NaN</td>\n",
       "      <td>NaN</td>\n",
       "      <td>-0.035075</td>\n",
       "    </tr>\n",
       "    <tr>\n",
       "      <th>WEIGHT</th>\n",
       "      <td>-0.018289</td>\n",
       "      <td>-0.018127</td>\n",
       "      <td>1.000000</td>\n",
       "      <td>-0.041480</td>\n",
       "      <td>NaN</td>\n",
       "      <td>0.119629</td>\n",
       "      <td>0.024403</td>\n",
       "      <td>-0.012955</td>\n",
       "      <td>0.053040</td>\n",
       "      <td>0.063985</td>\n",
       "      <td>-0.009896</td>\n",
       "      <td>-0.011798</td>\n",
       "      <td>NaN</td>\n",
       "      <td>NaN</td>\n",
       "      <td>-0.014410</td>\n",
       "    </tr>\n",
       "    <tr>\n",
       "      <th>duration</th>\n",
       "      <td>0.008076</td>\n",
       "      <td>0.008400</td>\n",
       "      <td>-0.041480</td>\n",
       "      <td>1.000000</td>\n",
       "      <td>NaN</td>\n",
       "      <td>-0.094509</td>\n",
       "      <td>0.058512</td>\n",
       "      <td>0.011987</td>\n",
       "      <td>0.020296</td>\n",
       "      <td>0.041990</td>\n",
       "      <td>0.003359</td>\n",
       "      <td>0.050868</td>\n",
       "      <td>NaN</td>\n",
       "      <td>NaN</td>\n",
       "      <td>0.019028</td>\n",
       "    </tr>\n",
       "    <tr>\n",
       "      <th>LGBTFLAG</th>\n",
       "      <td>NaN</td>\n",
       "      <td>NaN</td>\n",
       "      <td>NaN</td>\n",
       "      <td>NaN</td>\n",
       "      <td>NaN</td>\n",
       "      <td>NaN</td>\n",
       "      <td>NaN</td>\n",
       "      <td>NaN</td>\n",
       "      <td>NaN</td>\n",
       "      <td>NaN</td>\n",
       "      <td>NaN</td>\n",
       "      <td>NaN</td>\n",
       "      <td>NaN</td>\n",
       "      <td>NaN</td>\n",
       "      <td>NaN</td>\n",
       "    </tr>\n",
       "    <tr>\n",
       "      <th>AGE</th>\n",
       "      <td>0.007297</td>\n",
       "      <td>0.006919</td>\n",
       "      <td>0.119629</td>\n",
       "      <td>-0.094509</td>\n",
       "      <td>NaN</td>\n",
       "      <td>1.000000</td>\n",
       "      <td>-0.385264</td>\n",
       "      <td>-0.095126</td>\n",
       "      <td>-0.202975</td>\n",
       "      <td>-0.148195</td>\n",
       "      <td>-0.114392</td>\n",
       "      <td>-0.285129</td>\n",
       "      <td>NaN</td>\n",
       "      <td>NaN</td>\n",
       "      <td>-0.288258</td>\n",
       "    </tr>\n",
       "    <tr>\n",
       "      <th>HHSIZE</th>\n",
       "      <td>-0.026321</td>\n",
       "      <td>-0.026038</td>\n",
       "      <td>0.024403</td>\n",
       "      <td>0.058512</td>\n",
       "      <td>NaN</td>\n",
       "      <td>-0.385264</td>\n",
       "      <td>1.000000</td>\n",
       "      <td>0.172652</td>\n",
       "      <td>0.365560</td>\n",
       "      <td>0.487949</td>\n",
       "      <td>0.423248</td>\n",
       "      <td>0.732580</td>\n",
       "      <td>NaN</td>\n",
       "      <td>NaN</td>\n",
       "      <td>0.540900</td>\n",
       "    </tr>\n",
       "    <tr>\n",
       "      <th>HH01</th>\n",
       "      <td>-0.012602</td>\n",
       "      <td>-0.012789</td>\n",
       "      <td>-0.012955</td>\n",
       "      <td>0.011987</td>\n",
       "      <td>NaN</td>\n",
       "      <td>-0.095126</td>\n",
       "      <td>0.172652</td>\n",
       "      <td>1.000000</td>\n",
       "      <td>0.071334</td>\n",
       "      <td>0.069004</td>\n",
       "      <td>0.016765</td>\n",
       "      <td>0.005469</td>\n",
       "      <td>NaN</td>\n",
       "      <td>NaN</td>\n",
       "      <td>0.086586</td>\n",
       "    </tr>\n",
       "    <tr>\n",
       "      <th>HH25</th>\n",
       "      <td>-0.040629</td>\n",
       "      <td>-0.040462</td>\n",
       "      <td>0.053040</td>\n",
       "      <td>0.020296</td>\n",
       "      <td>NaN</td>\n",
       "      <td>-0.202975</td>\n",
       "      <td>0.365560</td>\n",
       "      <td>0.071334</td>\n",
       "      <td>1.000000</td>\n",
       "      <td>0.207985</td>\n",
       "      <td>0.003984</td>\n",
       "      <td>0.050951</td>\n",
       "      <td>NaN</td>\n",
       "      <td>NaN</td>\n",
       "      <td>0.135785</td>\n",
       "    </tr>\n",
       "    <tr>\n",
       "      <th>HH612</th>\n",
       "      <td>-0.023265</td>\n",
       "      <td>-0.023408</td>\n",
       "      <td>0.063985</td>\n",
       "      <td>0.041990</td>\n",
       "      <td>NaN</td>\n",
       "      <td>-0.148195</td>\n",
       "      <td>0.487949</td>\n",
       "      <td>0.069004</td>\n",
       "      <td>0.207985</td>\n",
       "      <td>1.000000</td>\n",
       "      <td>0.140667</td>\n",
       "      <td>0.068533</td>\n",
       "      <td>NaN</td>\n",
       "      <td>NaN</td>\n",
       "      <td>0.244771</td>\n",
       "    </tr>\n",
       "    <tr>\n",
       "      <th>HH1317</th>\n",
       "      <td>0.001835</td>\n",
       "      <td>0.001644</td>\n",
       "      <td>-0.009896</td>\n",
       "      <td>0.003359</td>\n",
       "      <td>NaN</td>\n",
       "      <td>-0.114392</td>\n",
       "      <td>0.423248</td>\n",
       "      <td>0.016765</td>\n",
       "      <td>0.003984</td>\n",
       "      <td>0.140667</td>\n",
       "      <td>1.000000</td>\n",
       "      <td>0.141597</td>\n",
       "      <td>NaN</td>\n",
       "      <td>NaN</td>\n",
       "      <td>0.288917</td>\n",
       "    </tr>\n",
       "    <tr>\n",
       "      <th>HH18OV</th>\n",
       "      <td>-0.013427</td>\n",
       "      <td>-0.012818</td>\n",
       "      <td>-0.011798</td>\n",
       "      <td>0.050868</td>\n",
       "      <td>NaN</td>\n",
       "      <td>-0.285129</td>\n",
       "      <td>0.732580</td>\n",
       "      <td>0.005469</td>\n",
       "      <td>0.050951</td>\n",
       "      <td>0.068533</td>\n",
       "      <td>0.141597</td>\n",
       "      <td>1.000000</td>\n",
       "      <td>NaN</td>\n",
       "      <td>NaN</td>\n",
       "      <td>0.386888</td>\n",
       "    </tr>\n",
       "    <tr>\n",
       "      <th>Disablecombo</th>\n",
       "      <td>NaN</td>\n",
       "      <td>NaN</td>\n",
       "      <td>NaN</td>\n",
       "      <td>NaN</td>\n",
       "      <td>NaN</td>\n",
       "      <td>NaN</td>\n",
       "      <td>NaN</td>\n",
       "      <td>NaN</td>\n",
       "      <td>NaN</td>\n",
       "      <td>NaN</td>\n",
       "      <td>NaN</td>\n",
       "      <td>NaN</td>\n",
       "      <td>NaN</td>\n",
       "      <td>NaN</td>\n",
       "      <td>NaN</td>\n",
       "    </tr>\n",
       "    <tr>\n",
       "      <th>housecomp</th>\n",
       "      <td>NaN</td>\n",
       "      <td>NaN</td>\n",
       "      <td>NaN</td>\n",
       "      <td>NaN</td>\n",
       "      <td>NaN</td>\n",
       "      <td>NaN</td>\n",
       "      <td>NaN</td>\n",
       "      <td>NaN</td>\n",
       "      <td>NaN</td>\n",
       "      <td>NaN</td>\n",
       "      <td>NaN</td>\n",
       "      <td>NaN</td>\n",
       "      <td>NaN</td>\n",
       "      <td>NaN</td>\n",
       "      <td>NaN</td>\n",
       "    </tr>\n",
       "    <tr>\n",
       "      <th>countInHouse</th>\n",
       "      <td>-0.035253</td>\n",
       "      <td>-0.035075</td>\n",
       "      <td>-0.014410</td>\n",
       "      <td>0.019028</td>\n",
       "      <td>NaN</td>\n",
       "      <td>-0.288258</td>\n",
       "      <td>0.540900</td>\n",
       "      <td>0.086586</td>\n",
       "      <td>0.135785</td>\n",
       "      <td>0.244771</td>\n",
       "      <td>0.288917</td>\n",
       "      <td>0.386888</td>\n",
       "      <td>NaN</td>\n",
       "      <td>NaN</td>\n",
       "      <td>1.000000</td>\n",
       "    </tr>\n",
       "  </tbody>\n",
       "</table>\n",
       "</div>"
      ],
      "text/plain": [
       "              Unnamed: 0    CaseId    WEIGHT  duration  LGBTFLAG       AGE  \\\n",
       "Unnamed: 0      1.000000  0.999853 -0.018289  0.008076       NaN  0.007297   \n",
       "CaseId          0.999853  1.000000 -0.018127  0.008400       NaN  0.006919   \n",
       "WEIGHT         -0.018289 -0.018127  1.000000 -0.041480       NaN  0.119629   \n",
       "duration        0.008076  0.008400 -0.041480  1.000000       NaN -0.094509   \n",
       "LGBTFLAG             NaN       NaN       NaN       NaN       NaN       NaN   \n",
       "AGE             0.007297  0.006919  0.119629 -0.094509       NaN  1.000000   \n",
       "HHSIZE         -0.026321 -0.026038  0.024403  0.058512       NaN -0.385264   \n",
       "HH01           -0.012602 -0.012789 -0.012955  0.011987       NaN -0.095126   \n",
       "HH25           -0.040629 -0.040462  0.053040  0.020296       NaN -0.202975   \n",
       "HH612          -0.023265 -0.023408  0.063985  0.041990       NaN -0.148195   \n",
       "HH1317          0.001835  0.001644 -0.009896  0.003359       NaN -0.114392   \n",
       "HH18OV         -0.013427 -0.012818 -0.011798  0.050868       NaN -0.285129   \n",
       "Disablecombo         NaN       NaN       NaN       NaN       NaN       NaN   \n",
       "housecomp            NaN       NaN       NaN       NaN       NaN       NaN   \n",
       "countInHouse   -0.035253 -0.035075 -0.014410  0.019028       NaN -0.288258   \n",
       "\n",
       "                HHSIZE      HH01      HH25     HH612    HH1317    HH18OV  \\\n",
       "Unnamed: 0   -0.026321 -0.012602 -0.040629 -0.023265  0.001835 -0.013427   \n",
       "CaseId       -0.026038 -0.012789 -0.040462 -0.023408  0.001644 -0.012818   \n",
       "WEIGHT        0.024403 -0.012955  0.053040  0.063985 -0.009896 -0.011798   \n",
       "duration      0.058512  0.011987  0.020296  0.041990  0.003359  0.050868   \n",
       "LGBTFLAG           NaN       NaN       NaN       NaN       NaN       NaN   \n",
       "AGE          -0.385264 -0.095126 -0.202975 -0.148195 -0.114392 -0.285129   \n",
       "HHSIZE        1.000000  0.172652  0.365560  0.487949  0.423248  0.732580   \n",
       "HH01          0.172652  1.000000  0.071334  0.069004  0.016765  0.005469   \n",
       "HH25          0.365560  0.071334  1.000000  0.207985  0.003984  0.050951   \n",
       "HH612         0.487949  0.069004  0.207985  1.000000  0.140667  0.068533   \n",
       "HH1317        0.423248  0.016765  0.003984  0.140667  1.000000  0.141597   \n",
       "HH18OV        0.732580  0.005469  0.050951  0.068533  0.141597  1.000000   \n",
       "Disablecombo       NaN       NaN       NaN       NaN       NaN       NaN   \n",
       "housecomp          NaN       NaN       NaN       NaN       NaN       NaN   \n",
       "countInHouse  0.540900  0.086586  0.135785  0.244771  0.288917  0.386888   \n",
       "\n",
       "              Disablecombo  housecomp  countInHouse  \n",
       "Unnamed: 0             NaN        NaN     -0.035253  \n",
       "CaseId                 NaN        NaN     -0.035075  \n",
       "WEIGHT                 NaN        NaN     -0.014410  \n",
       "duration               NaN        NaN      0.019028  \n",
       "LGBTFLAG               NaN        NaN           NaN  \n",
       "AGE                    NaN        NaN     -0.288258  \n",
       "HHSIZE                 NaN        NaN      0.540900  \n",
       "HH01                   NaN        NaN      0.086586  \n",
       "HH25                   NaN        NaN      0.135785  \n",
       "HH612                  NaN        NaN      0.244771  \n",
       "HH1317                 NaN        NaN      0.288917  \n",
       "HH18OV                 NaN        NaN      0.386888  \n",
       "Disablecombo           NaN        NaN           NaN  \n",
       "housecomp              NaN        NaN           NaN  \n",
       "countInHouse           NaN        NaN      1.000000  "
      ]
     },
     "execution_count": 6,
     "metadata": {},
     "output_type": "execute_result"
    }
   ],
   "source": [
    "df_2018.corr()"
   ]
  },
  {
   "cell_type": "markdown",
   "id": "20b8f3b4-7228-42ce-8417-474f355f98b0",
   "metadata": {},
   "source": [
    "### Look at attributes about people who use public transit"
   ]
  },
  {
   "cell_type": "code",
   "execution_count": 7,
   "id": "64f58c53-a2ba-4608-9ed0-418b84465b3a",
   "metadata": {},
   "outputs": [
    {
     "data": {
      "text/html": [
       "<div>\n",
       "<style scoped>\n",
       "    .dataframe tbody tr th:only-of-type {\n",
       "        vertical-align: middle;\n",
       "    }\n",
       "\n",
       "    .dataframe tbody tr th {\n",
       "        vertical-align: top;\n",
       "    }\n",
       "\n",
       "    .dataframe thead th {\n",
       "        text-align: right;\n",
       "    }\n",
       "</style>\n",
       "<table border=\"1\" class=\"dataframe\">\n",
       "  <thead>\n",
       "    <tr style=\"text-align: right;\">\n",
       "      <th></th>\n",
       "      <th>Unnamed: 0</th>\n",
       "      <th>CaseId</th>\n",
       "      <th>WEIGHT</th>\n",
       "      <th>LGBT</th>\n",
       "      <th>Q1</th>\n",
       "      <th>Q2</th>\n",
       "      <th>Q3</th>\n",
       "      <th>Q4A</th>\n",
       "      <th>Q4B</th>\n",
       "      <th>Q4C</th>\n",
       "      <th>...</th>\n",
       "      <th>CASTATE</th>\n",
       "      <th>filter_$</th>\n",
       "      <th>Ownership</th>\n",
       "      <th>housecomp</th>\n",
       "      <th>dumunder18</th>\n",
       "      <th>dumover18</th>\n",
       "      <th>dumcollege</th>\n",
       "      <th>dumparents</th>\n",
       "      <th>dumother</th>\n",
       "      <th>countInHouse</th>\n",
       "    </tr>\n",
       "  </thead>\n",
       "  <tbody>\n",
       "    <tr>\n",
       "      <th>5</th>\n",
       "      <td>5</td>\n",
       "      <td>77.0</td>\n",
       "      <td>0.358276</td>\n",
       "      <td>Other</td>\n",
       "      <td>Somewhat agree</td>\n",
       "      <td>Somewhat disagree</td>\n",
       "      <td>Move to a different community</td>\n",
       "      <td>No</td>\n",
       "      <td>No</td>\n",
       "      <td>No</td>\n",
       "      <td>...</td>\n",
       "      <td>Other</td>\n",
       "      <td>Selected</td>\n",
       "      <td>Rent</td>\n",
       "      <td>NaN</td>\n",
       "      <td>Other</td>\n",
       "      <td>Other</td>\n",
       "      <td>Other</td>\n",
       "      <td>Other</td>\n",
       "      <td>Yes</td>\n",
       "      <td>1.0</td>\n",
       "    </tr>\n",
       "    <tr>\n",
       "      <th>14</th>\n",
       "      <td>14</td>\n",
       "      <td>97.0</td>\n",
       "      <td>0.105040</td>\n",
       "      <td>Straight (that is not gay/lesbian)</td>\n",
       "      <td>Somewhat agree</td>\n",
       "      <td>Somewhat agree</td>\n",
       "      <td>Stay in your current residence and never move</td>\n",
       "      <td>Yes</td>\n",
       "      <td>No</td>\n",
       "      <td>No</td>\n",
       "      <td>...</td>\n",
       "      <td>Other</td>\n",
       "      <td>Selected</td>\n",
       "      <td>Rent</td>\n",
       "      <td>NaN</td>\n",
       "      <td>Other</td>\n",
       "      <td>Other</td>\n",
       "      <td>Other</td>\n",
       "      <td>Other</td>\n",
       "      <td>Other</td>\n",
       "      <td>0.0</td>\n",
       "    </tr>\n",
       "    <tr>\n",
       "      <th>15</th>\n",
       "      <td>15</td>\n",
       "      <td>100.0</td>\n",
       "      <td>0.453580</td>\n",
       "      <td>Straight (that is not gay/lesbian)</td>\n",
       "      <td>Strongly agree</td>\n",
       "      <td>Strongly disagree</td>\n",
       "      <td>Move into a different residence within your cu...</td>\n",
       "      <td>No</td>\n",
       "      <td>Yes</td>\n",
       "      <td>No</td>\n",
       "      <td>...</td>\n",
       "      <td>Other</td>\n",
       "      <td>Selected</td>\n",
       "      <td>Other</td>\n",
       "      <td>NaN</td>\n",
       "      <td>Other</td>\n",
       "      <td>Yes</td>\n",
       "      <td>Yes</td>\n",
       "      <td>Yes</td>\n",
       "      <td>Other</td>\n",
       "      <td>3.0</td>\n",
       "    </tr>\n",
       "    <tr>\n",
       "      <th>20</th>\n",
       "      <td>20</td>\n",
       "      <td>122.0</td>\n",
       "      <td>0.343383</td>\n",
       "      <td>Straight (that is not gay/lesbian)</td>\n",
       "      <td>Strongly agree</td>\n",
       "      <td>Somewhat disagree</td>\n",
       "      <td>Move into a different residence within your cu...</td>\n",
       "      <td>Yes</td>\n",
       "      <td>No</td>\n",
       "      <td>Yes</td>\n",
       "      <td>...</td>\n",
       "      <td>CA</td>\n",
       "      <td>Selected</td>\n",
       "      <td>Rent</td>\n",
       "      <td>NaN</td>\n",
       "      <td>Other</td>\n",
       "      <td>Other</td>\n",
       "      <td>Other</td>\n",
       "      <td>Yes</td>\n",
       "      <td>Other</td>\n",
       "      <td>1.0</td>\n",
       "    </tr>\n",
       "    <tr>\n",
       "      <th>24</th>\n",
       "      <td>24</td>\n",
       "      <td>134.0</td>\n",
       "      <td>0.569368</td>\n",
       "      <td>Straight (that is not gay/lesbian)</td>\n",
       "      <td>Somewhat agree</td>\n",
       "      <td>Somewhat disagree</td>\n",
       "      <td>Move to a different community</td>\n",
       "      <td>No</td>\n",
       "      <td>No</td>\n",
       "      <td>Yes</td>\n",
       "      <td>...</td>\n",
       "      <td>Other</td>\n",
       "      <td>Selected</td>\n",
       "      <td>Own</td>\n",
       "      <td>NaN</td>\n",
       "      <td>Yes</td>\n",
       "      <td>Other</td>\n",
       "      <td>Other</td>\n",
       "      <td>Other</td>\n",
       "      <td>Other</td>\n",
       "      <td>1.0</td>\n",
       "    </tr>\n",
       "    <tr>\n",
       "      <th>...</th>\n",
       "      <td>...</td>\n",
       "      <td>...</td>\n",
       "      <td>...</td>\n",
       "      <td>...</td>\n",
       "      <td>...</td>\n",
       "      <td>...</td>\n",
       "      <td>...</td>\n",
       "      <td>...</td>\n",
       "      <td>...</td>\n",
       "      <td>...</td>\n",
       "      <td>...</td>\n",
       "      <td>...</td>\n",
       "      <td>...</td>\n",
       "      <td>...</td>\n",
       "      <td>...</td>\n",
       "      <td>...</td>\n",
       "      <td>...</td>\n",
       "      <td>...</td>\n",
       "      <td>...</td>\n",
       "      <td>...</td>\n",
       "      <td>...</td>\n",
       "    </tr>\n",
       "    <tr>\n",
       "      <th>1921</th>\n",
       "      <td>1921</td>\n",
       "      <td>8108.0</td>\n",
       "      <td>0.467560</td>\n",
       "      <td>Straight (that is not gay/lesbian)</td>\n",
       "      <td>Somewhat agree</td>\n",
       "      <td>Somewhat agree</td>\n",
       "      <td>Not sure</td>\n",
       "      <td>Yes</td>\n",
       "      <td>No</td>\n",
       "      <td>Yes</td>\n",
       "      <td>...</td>\n",
       "      <td>Other</td>\n",
       "      <td>Selected</td>\n",
       "      <td>Rent</td>\n",
       "      <td>NaN</td>\n",
       "      <td>Other</td>\n",
       "      <td>Other</td>\n",
       "      <td>Other</td>\n",
       "      <td>Other</td>\n",
       "      <td>Yes</td>\n",
       "      <td>1.0</td>\n",
       "    </tr>\n",
       "    <tr>\n",
       "      <th>1928</th>\n",
       "      <td>1928</td>\n",
       "      <td>8135.0</td>\n",
       "      <td>0.717754</td>\n",
       "      <td>Straight (that is not gay/lesbian)</td>\n",
       "      <td>Strongly agree</td>\n",
       "      <td>Strongly agree</td>\n",
       "      <td>Move into a different residence within your cu...</td>\n",
       "      <td>No</td>\n",
       "      <td>No</td>\n",
       "      <td>No</td>\n",
       "      <td>...</td>\n",
       "      <td>Other</td>\n",
       "      <td>Selected</td>\n",
       "      <td>Rent</td>\n",
       "      <td>NaN</td>\n",
       "      <td>Other</td>\n",
       "      <td>Other</td>\n",
       "      <td>Other</td>\n",
       "      <td>Other</td>\n",
       "      <td>Yes</td>\n",
       "      <td>1.0</td>\n",
       "    </tr>\n",
       "    <tr>\n",
       "      <th>1933</th>\n",
       "      <td>1933</td>\n",
       "      <td>8156.0</td>\n",
       "      <td>0.633565</td>\n",
       "      <td>Straight (that is not gay/lesbian)</td>\n",
       "      <td>Strongly agree</td>\n",
       "      <td>Strongly agree</td>\n",
       "      <td>Stay in your current residence and never move</td>\n",
       "      <td>Yes</td>\n",
       "      <td>No</td>\n",
       "      <td>Yes</td>\n",
       "      <td>...</td>\n",
       "      <td>Other</td>\n",
       "      <td>Selected</td>\n",
       "      <td>Rent</td>\n",
       "      <td>NaN</td>\n",
       "      <td>Other</td>\n",
       "      <td>Other</td>\n",
       "      <td>Other</td>\n",
       "      <td>Other</td>\n",
       "      <td>Other</td>\n",
       "      <td>0.0</td>\n",
       "    </tr>\n",
       "    <tr>\n",
       "      <th>1939</th>\n",
       "      <td>1939</td>\n",
       "      <td>8192.0</td>\n",
       "      <td>0.249703</td>\n",
       "      <td>Straight (that is not gay/lesbian)</td>\n",
       "      <td>Strongly agree</td>\n",
       "      <td>Strongly agree</td>\n",
       "      <td>Not sure</td>\n",
       "      <td>Yes</td>\n",
       "      <td>Yes</td>\n",
       "      <td>Yes</td>\n",
       "      <td>...</td>\n",
       "      <td>Other</td>\n",
       "      <td>Selected</td>\n",
       "      <td>Other</td>\n",
       "      <td>NaN</td>\n",
       "      <td>Other</td>\n",
       "      <td>Other</td>\n",
       "      <td>Other</td>\n",
       "      <td>Yes</td>\n",
       "      <td>Yes</td>\n",
       "      <td>2.0</td>\n",
       "    </tr>\n",
       "    <tr>\n",
       "      <th>1943</th>\n",
       "      <td>1943</td>\n",
       "      <td>8205.0</td>\n",
       "      <td>0.043247</td>\n",
       "      <td>Gay/lesbian</td>\n",
       "      <td>Strongly agree</td>\n",
       "      <td>Strongly agree</td>\n",
       "      <td>Stay in your current residence and never move</td>\n",
       "      <td>Yes</td>\n",
       "      <td>No</td>\n",
       "      <td>Yes</td>\n",
       "      <td>...</td>\n",
       "      <td>Other</td>\n",
       "      <td>Selected</td>\n",
       "      <td>Rent</td>\n",
       "      <td>NaN</td>\n",
       "      <td>Other</td>\n",
       "      <td>Other</td>\n",
       "      <td>Other</td>\n",
       "      <td>Other</td>\n",
       "      <td>Other</td>\n",
       "      <td>0.0</td>\n",
       "    </tr>\n",
       "  </tbody>\n",
       "</table>\n",
       "<p>402 rows × 259 columns</p>\n",
       "</div>"
      ],
      "text/plain": [
       "      Unnamed: 0  CaseId    WEIGHT                                LGBT  \\\n",
       "5              5    77.0  0.358276                               Other   \n",
       "14            14    97.0  0.105040  Straight (that is not gay/lesbian)   \n",
       "15            15   100.0  0.453580  Straight (that is not gay/lesbian)   \n",
       "20            20   122.0  0.343383  Straight (that is not gay/lesbian)   \n",
       "24            24   134.0  0.569368  Straight (that is not gay/lesbian)   \n",
       "...          ...     ...       ...                                 ...   \n",
       "1921        1921  8108.0  0.467560  Straight (that is not gay/lesbian)   \n",
       "1928        1928  8135.0  0.717754  Straight (that is not gay/lesbian)   \n",
       "1933        1933  8156.0  0.633565  Straight (that is not gay/lesbian)   \n",
       "1939        1939  8192.0  0.249703  Straight (that is not gay/lesbian)   \n",
       "1943        1943  8205.0  0.043247                         Gay/lesbian   \n",
       "\n",
       "                  Q1                 Q2  \\\n",
       "5     Somewhat agree  Somewhat disagree   \n",
       "14    Somewhat agree     Somewhat agree   \n",
       "15    Strongly agree  Strongly disagree   \n",
       "20    Strongly agree  Somewhat disagree   \n",
       "24    Somewhat agree  Somewhat disagree   \n",
       "...              ...                ...   \n",
       "1921  Somewhat agree     Somewhat agree   \n",
       "1928  Strongly agree     Strongly agree   \n",
       "1933  Strongly agree     Strongly agree   \n",
       "1939  Strongly agree     Strongly agree   \n",
       "1943  Strongly agree     Strongly agree   \n",
       "\n",
       "                                                     Q3  Q4A  Q4B  Q4C  ...  \\\n",
       "5                         Move to a different community   No   No   No  ...   \n",
       "14        Stay in your current residence and never move  Yes   No   No  ...   \n",
       "15    Move into a different residence within your cu...   No  Yes   No  ...   \n",
       "20    Move into a different residence within your cu...  Yes   No  Yes  ...   \n",
       "24                        Move to a different community   No   No  Yes  ...   \n",
       "...                                                 ...  ...  ...  ...  ...   \n",
       "1921                                           Not sure  Yes   No  Yes  ...   \n",
       "1928  Move into a different residence within your cu...   No   No   No  ...   \n",
       "1933      Stay in your current residence and never move  Yes   No  Yes  ...   \n",
       "1939                                           Not sure  Yes  Yes  Yes  ...   \n",
       "1943      Stay in your current residence and never move  Yes   No  Yes  ...   \n",
       "\n",
       "     CASTATE  filter_$ Ownership housecomp dumunder18 dumover18 dumcollege  \\\n",
       "5      Other  Selected      Rent       NaN      Other     Other      Other   \n",
       "14     Other  Selected      Rent       NaN      Other     Other      Other   \n",
       "15     Other  Selected     Other       NaN      Other       Yes        Yes   \n",
       "20        CA  Selected      Rent       NaN      Other     Other      Other   \n",
       "24     Other  Selected       Own       NaN        Yes     Other      Other   \n",
       "...      ...       ...       ...       ...        ...       ...        ...   \n",
       "1921   Other  Selected      Rent       NaN      Other     Other      Other   \n",
       "1928   Other  Selected      Rent       NaN      Other     Other      Other   \n",
       "1933   Other  Selected      Rent       NaN      Other     Other      Other   \n",
       "1939   Other  Selected     Other       NaN      Other     Other      Other   \n",
       "1943   Other  Selected      Rent       NaN      Other     Other      Other   \n",
       "\n",
       "     dumparents dumother countInHouse  \n",
       "5         Other      Yes          1.0  \n",
       "14        Other    Other          0.0  \n",
       "15          Yes    Other          3.0  \n",
       "20          Yes    Other          1.0  \n",
       "24        Other    Other          1.0  \n",
       "...         ...      ...          ...  \n",
       "1921      Other      Yes          1.0  \n",
       "1928      Other      Yes          1.0  \n",
       "1933      Other    Other          0.0  \n",
       "1939        Yes      Yes          2.0  \n",
       "1943      Other    Other          0.0  \n",
       "\n",
       "[402 rows x 259 columns]"
      ]
     },
     "execution_count": 7,
     "metadata": {},
     "output_type": "execute_result"
    }
   ],
   "source": [
    "df_2018[df_2018['Q24G']=='Yes']"
   ]
  },
  {
   "cell_type": "code",
   "execution_count": 8,
   "id": "a0e4810c-0b33-441b-99fd-9ca05eb6c88a",
   "metadata": {},
   "outputs": [
    {
     "data": {
      "text/plain": [
       "array(['No', 'SKIPPED ON WEB', 'Yes', 'DON’T KNOW'], dtype=object)"
      ]
     },
     "execution_count": 8,
     "metadata": {},
     "output_type": "execute_result"
    }
   ],
   "source": [
    "df_2018[['Q24G','Q24A','Q24B','Q24C','Q24D','Q24E','Q24F','Q24J']]['Q24G'].unique()"
   ]
  },
  {
   "cell_type": "code",
   "execution_count": 9,
   "id": "e41a72f7-946f-4e3f-b52d-ba4cbe92e07e",
   "metadata": {},
   "outputs": [
    {
     "data": {
      "text/plain": [
       "0         60+\n",
       "1         60+\n",
       "2       30-44\n",
       "3       30-44\n",
       "4       45-59\n",
       "        ...  \n",
       "1942    18-29\n",
       "1943    45-59\n",
       "1944      60+\n",
       "1945      60+\n",
       "1946    45-59\n",
       "Name: AGE4, Length: 1947, dtype: object"
      ]
     },
     "execution_count": 9,
     "metadata": {},
     "output_type": "execute_result"
    }
   ],
   "source": [
    "df_2018['AGE4']"
   ]
  },
  {
   "cell_type": "code",
   "execution_count": 10,
   "id": "a3815c7c-7777-46b6-8eb4-09d4956691bd",
   "metadata": {},
   "outputs": [
    {
     "data": {
      "text/plain": [
       "array(['Rural area',\n",
       "       'Suburban with a mix of offices, apartments and shops',\n",
       "       'Urban near mix of offices, apartments and shops',\n",
       "       'Suburban and mostly residential', 'Urban and mostly residential',\n",
       "       'Small town', 'SKIPPED ON WEB', 'DON’T KNOW'], dtype=object)"
      ]
     },
     "execution_count": 10,
     "metadata": {},
     "output_type": "execute_result"
    }
   ],
   "source": [
    "df_2018['D26'].unique()"
   ]
  },
  {
   "cell_type": "markdown",
   "id": "687fc846-92a4-4262-a60c-7eadd7e3f6cb",
   "metadata": {},
   "source": [
    "### -------------------------------------------------------------------------------------------------------------------------------------------------------"
   ]
  },
  {
   "cell_type": "markdown",
   "id": "4a4de6b6-9960-4d86-80f5-9694d85241df",
   "metadata": {},
   "source": [
    "# Feature Engineering"
   ]
  },
  {
   "cell_type": "markdown",
   "id": "a3a3f37b-a345-4dd7-a29b-d2a9fdf0d026",
   "metadata": {},
   "source": [
    "### Create Binary Dependent Variable for someone using public transit"
   ]
  },
  {
   "cell_type": "code",
   "execution_count": 11,
   "id": "cc795dd0-967b-4fce-8438-c34bcba37f76",
   "metadata": {},
   "outputs": [],
   "source": [
    "df_2018['uses_pt'] = df_2018['Q24G'].apply(lambda x: 1 if x == 'Yes' else 0).astype(int)"
   ]
  },
  {
   "cell_type": "code",
   "execution_count": 12,
   "id": "954b408d-6840-4339-90c9-a1fba0942e27",
   "metadata": {},
   "outputs": [
    {
     "data": {
      "text/plain": [
       "0    1545\n",
       "1     402\n",
       "Name: uses_pt, dtype: int64"
      ]
     },
     "execution_count": 12,
     "metadata": {},
     "output_type": "execute_result"
    }
   ],
   "source": [
    "#Look at the distribution\n",
    "df_2018['uses_pt'].value_counts()"
   ]
  },
  {
   "cell_type": "markdown",
   "id": "a95a0872-1b8e-4fef-91a0-ef78ee96703f",
   "metadata": {},
   "source": [
    "### Create New Feature that identifies how many modes of Transportation someone uses"
   ]
  },
  {
   "cell_type": "code",
   "execution_count": 13,
   "id": "6170e9f4-51b1-480b-bdfb-0b96e0e08dff",
   "metadata": {},
   "outputs": [],
   "source": [
    "#Create New Variable\n",
    "df_2018['number_of_modes'] = 0\n",
    "\n",
    "#Loop through the questions that establish which modes used\n",
    "for question in df_2018[['Q24G','Q24A','Q24B','Q24C','Q24D','Q24E','Q24F','Q24J']]:\n",
    "    \n",
    "    #Track the index of the respondent\n",
    "    index = 0\n",
    "    \n",
    "    #Loop through each respondent answer for each question\n",
    "    for respondent in df_2018[question]:\n",
    "        \n",
    "        #If they indicate they use that transportation, then add one count to the new variable\n",
    "        if respondent == 'Yes':\n",
    "            \n",
    "            #Locate the new variable for the specific respondent\n",
    "            df_2018.iloc[index,260]+=1\n",
    "        \n",
    "        #update the index    \n",
    "        index +=1\n",
    "        "
   ]
  },
  {
   "cell_type": "markdown",
   "id": "0f444571-3ca2-4467-9e38-a4ad0ebcc7de",
   "metadata": {},
   "source": [
    "## Create features that identifies if some one travels completely independently, completely dependently, or both"
   ]
  },
  {
   "cell_type": "code",
   "execution_count": 14,
   "id": "c7c9cb24-7bf4-4f63-9598-e9baef2eb17b",
   "metadata": {},
   "outputs": [],
   "source": [
    "#Create completely Independent Travel Variable\n",
    "df_2018['independent_travel'] = 0\n",
    "\n",
    "#Loop through completely independent modes\n",
    "for question in df_2018[['Q24A','Q24B','Q24H']]:\n",
    "\n",
    "    #Track the index of the respondent\n",
    "    index = 0\n",
    "    \n",
    "    #Loop through each respondent answer for each question\n",
    "    for respondent in df_2018[question]:\n",
    "        \n",
    "        #If they indicate they use that transportation, set equal to 1\n",
    "        if respondent == 'Yes':\n",
    "            \n",
    "            #Locate the new variable for the specific respondent\n",
    "            df_2018.iloc[index,261] = 1\n",
    "        \n",
    "        #update the index    \n",
    "        index +=1"
   ]
  },
  {
   "cell_type": "code",
   "execution_count": 15,
   "id": "11c2a5ae-5d0d-4590-a18d-02b4dba48ac0",
   "metadata": {},
   "outputs": [
    {
     "data": {
      "text/plain": [
       "1    1726\n",
       "0     221\n",
       "Name: independent_travel, dtype: int64"
      ]
     },
     "execution_count": 15,
     "metadata": {},
     "output_type": "execute_result"
    }
   ],
   "source": [
    "#check values\n",
    "df_2018['independent_travel'].value_counts()"
   ]
  },
  {
   "cell_type": "code",
   "execution_count": 16,
   "id": "ff0bda38-d9b6-4ce9-98a4-9700f1f9ea8b",
   "metadata": {},
   "outputs": [],
   "source": [
    "#Create completely Dependent Travel Variable\n",
    "df_2018['dependent_travel'] = 0\n",
    "\n",
    "#Loop through completely dependent modes\n",
    "for question in df_2018[['Q24G','Q24C','Q24D','Q24E','Q24F']]:\n",
    "    \n",
    "    #Track the index of the respondent\n",
    "    index = 0\n",
    "    \n",
    "    #Loop through each respondent answer for each question\n",
    "    for respondent in df_2018[question]:\n",
    "        \n",
    "        #If they indicate they use that transportation, set equal to 1\n",
    "        if respondent == 'Yes':\n",
    "            \n",
    "            #Locate the new variable for the specific respondent\n",
    "            df_2018.iloc[index,262] = 1\n",
    "        \n",
    "        #update the index    \n",
    "        index +=1"
   ]
  },
  {
   "cell_type": "code",
   "execution_count": 17,
   "id": "92f4d2a5-30cf-4825-963c-f18d30a0814b",
   "metadata": {},
   "outputs": [
    {
     "data": {
      "text/plain": [
       "0    1066\n",
       "1     881\n",
       "Name: dependent_travel, dtype: int64"
      ]
     },
     "execution_count": 17,
     "metadata": {},
     "output_type": "execute_result"
    }
   ],
   "source": [
    "#check values\n",
    "df_2018['dependent_travel'].value_counts()"
   ]
  },
  {
   "cell_type": "code",
   "execution_count": 18,
   "id": "94a15d9f-548e-4f8b-8983-4d9fd4549ec9",
   "metadata": {},
   "outputs": [],
   "source": [
    "#Create Both Travel Variable, this is where if independent and dependent equal 1, put both as 1, if not put 0\n",
    "df_2018['both_travel'] = np.where((df_2018['independent_travel'] == 1) & (df_2018['dependent_travel'] == 1), 1, 0)\n",
    "\n",
    "#update completely independent travel variable, this says if there is a 1 in either dependent or both, make a 0, if not keep as is\n",
    "df_2018['independent_travel'] = np.where((df_2018['both_travel'] == 1) | (df_2018['dependent_travel'] == 1), 0, df_2018['independent_travel'])\n",
    "\n",
    "#update completely dependent travel variable, this says if there is a 1 in either independent or both, make a 0, if not keep as is\n",
    "df_2018['dependent_travel'] = np.where((df_2018['both_travel'] == 1) | (df_2018['independent_travel'] == 1), 0, df_2018['dependent_travel'])"
   ]
  },
  {
   "cell_type": "code",
   "execution_count": 19,
   "id": "e0d63495-ade3-4c2b-bb61-d20240283133",
   "metadata": {},
   "outputs": [],
   "source": [
    "#wanted to note that I left out the 'some other way' and 'dont leave the house', so they will be 0's for everything at this point\n",
    "#if we want to make an other column we can do that too"
   ]
  },
  {
   "cell_type": "code",
   "execution_count": 20,
   "id": "017ba673-2492-445d-aab3-34ddeb41e8d3",
   "metadata": {},
   "outputs": [
    {
     "data": {
      "text/html": [
       "<div>\n",
       "<style scoped>\n",
       "    .dataframe tbody tr th:only-of-type {\n",
       "        vertical-align: middle;\n",
       "    }\n",
       "\n",
       "    .dataframe tbody tr th {\n",
       "        vertical-align: top;\n",
       "    }\n",
       "\n",
       "    .dataframe thead th {\n",
       "        text-align: right;\n",
       "    }\n",
       "</style>\n",
       "<table border=\"1\" class=\"dataframe\">\n",
       "  <thead>\n",
       "    <tr style=\"text-align: right;\">\n",
       "      <th></th>\n",
       "      <th>Unnamed: 0</th>\n",
       "      <th>CaseId</th>\n",
       "      <th>WEIGHT</th>\n",
       "      <th>LGBT</th>\n",
       "      <th>Q1</th>\n",
       "      <th>Q2</th>\n",
       "      <th>Q3</th>\n",
       "      <th>Q4A</th>\n",
       "      <th>Q4B</th>\n",
       "      <th>Q4C</th>\n",
       "      <th>...</th>\n",
       "      <th>dumover18</th>\n",
       "      <th>dumcollege</th>\n",
       "      <th>dumparents</th>\n",
       "      <th>dumother</th>\n",
       "      <th>countInHouse</th>\n",
       "      <th>uses_pt</th>\n",
       "      <th>number_of_modes</th>\n",
       "      <th>independent_travel</th>\n",
       "      <th>dependent_travel</th>\n",
       "      <th>both_travel</th>\n",
       "    </tr>\n",
       "  </thead>\n",
       "  <tbody>\n",
       "    <tr>\n",
       "      <th>0</th>\n",
       "      <td>0</td>\n",
       "      <td>54.0</td>\n",
       "      <td>0.756810</td>\n",
       "      <td>Straight (that is not gay/lesbian)</td>\n",
       "      <td>Strongly agree</td>\n",
       "      <td>Strongly agree</td>\n",
       "      <td>Move to a different community</td>\n",
       "      <td>No</td>\n",
       "      <td>No</td>\n",
       "      <td>No</td>\n",
       "      <td>...</td>\n",
       "      <td>Other</td>\n",
       "      <td>Other</td>\n",
       "      <td>Other</td>\n",
       "      <td>Yes</td>\n",
       "      <td>1.0</td>\n",
       "      <td>0</td>\n",
       "      <td>2</td>\n",
       "      <td>1</td>\n",
       "      <td>0</td>\n",
       "      <td>0</td>\n",
       "    </tr>\n",
       "    <tr>\n",
       "      <th>1</th>\n",
       "      <td>1</td>\n",
       "      <td>56.0</td>\n",
       "      <td>2.931238</td>\n",
       "      <td>Straight (that is not gay/lesbian)</td>\n",
       "      <td>Strongly agree</td>\n",
       "      <td>Strongly agree</td>\n",
       "      <td>Stay in your current residence and never move</td>\n",
       "      <td>Yes</td>\n",
       "      <td>No</td>\n",
       "      <td>Yes</td>\n",
       "      <td>...</td>\n",
       "      <td>Yes</td>\n",
       "      <td>Other</td>\n",
       "      <td>Other</td>\n",
       "      <td>Other</td>\n",
       "      <td>1.0</td>\n",
       "      <td>0</td>\n",
       "      <td>1</td>\n",
       "      <td>1</td>\n",
       "      <td>0</td>\n",
       "      <td>0</td>\n",
       "    </tr>\n",
       "    <tr>\n",
       "      <th>2</th>\n",
       "      <td>2</td>\n",
       "      <td>67.0</td>\n",
       "      <td>6.867710</td>\n",
       "      <td>Straight (that is not gay/lesbian)</td>\n",
       "      <td>Strongly agree</td>\n",
       "      <td>Strongly agree</td>\n",
       "      <td>Move to a different community</td>\n",
       "      <td>Yes</td>\n",
       "      <td>No</td>\n",
       "      <td>Yes</td>\n",
       "      <td>...</td>\n",
       "      <td>Other</td>\n",
       "      <td>Other</td>\n",
       "      <td>Yes</td>\n",
       "      <td>Yes</td>\n",
       "      <td>2.0</td>\n",
       "      <td>0</td>\n",
       "      <td>0</td>\n",
       "      <td>0</td>\n",
       "      <td>0</td>\n",
       "      <td>0</td>\n",
       "    </tr>\n",
       "    <tr>\n",
       "      <th>3</th>\n",
       "      <td>3</td>\n",
       "      <td>68.0</td>\n",
       "      <td>0.827716</td>\n",
       "      <td>Straight (that is not gay/lesbian)</td>\n",
       "      <td>Strongly agree</td>\n",
       "      <td>Strongly agree</td>\n",
       "      <td>Stay in your current residence and never move</td>\n",
       "      <td>No</td>\n",
       "      <td>Yes</td>\n",
       "      <td>No</td>\n",
       "      <td>...</td>\n",
       "      <td>Other</td>\n",
       "      <td>Other</td>\n",
       "      <td>Other</td>\n",
       "      <td>Other</td>\n",
       "      <td>1.0</td>\n",
       "      <td>0</td>\n",
       "      <td>0</td>\n",
       "      <td>0</td>\n",
       "      <td>0</td>\n",
       "      <td>0</td>\n",
       "    </tr>\n",
       "    <tr>\n",
       "      <th>4</th>\n",
       "      <td>4</td>\n",
       "      <td>72.0</td>\n",
       "      <td>0.712991</td>\n",
       "      <td>Straight (that is not gay/lesbian)</td>\n",
       "      <td>Somewhat agree</td>\n",
       "      <td>Somewhat agree</td>\n",
       "      <td>Move to a different community</td>\n",
       "      <td>No</td>\n",
       "      <td>Yes</td>\n",
       "      <td>No</td>\n",
       "      <td>...</td>\n",
       "      <td>Other</td>\n",
       "      <td>Other</td>\n",
       "      <td>Other</td>\n",
       "      <td>Other</td>\n",
       "      <td>1.0</td>\n",
       "      <td>0</td>\n",
       "      <td>1</td>\n",
       "      <td>1</td>\n",
       "      <td>0</td>\n",
       "      <td>0</td>\n",
       "    </tr>\n",
       "    <tr>\n",
       "      <th>...</th>\n",
       "      <td>...</td>\n",
       "      <td>...</td>\n",
       "      <td>...</td>\n",
       "      <td>...</td>\n",
       "      <td>...</td>\n",
       "      <td>...</td>\n",
       "      <td>...</td>\n",
       "      <td>...</td>\n",
       "      <td>...</td>\n",
       "      <td>...</td>\n",
       "      <td>...</td>\n",
       "      <td>...</td>\n",
       "      <td>...</td>\n",
       "      <td>...</td>\n",
       "      <td>...</td>\n",
       "      <td>...</td>\n",
       "      <td>...</td>\n",
       "      <td>...</td>\n",
       "      <td>...</td>\n",
       "      <td>...</td>\n",
       "      <td>...</td>\n",
       "    </tr>\n",
       "    <tr>\n",
       "      <th>1942</th>\n",
       "      <td>1942</td>\n",
       "      <td>8204.0</td>\n",
       "      <td>0.408771</td>\n",
       "      <td>Straight (that is not gay/lesbian)</td>\n",
       "      <td>Neither agree nor disagree</td>\n",
       "      <td>Neither agree nor disagree</td>\n",
       "      <td>Move to a different community</td>\n",
       "      <td>No</td>\n",
       "      <td>No</td>\n",
       "      <td>No</td>\n",
       "      <td>...</td>\n",
       "      <td>Other</td>\n",
       "      <td>Other</td>\n",
       "      <td>Yes</td>\n",
       "      <td>Other</td>\n",
       "      <td>1.0</td>\n",
       "      <td>0</td>\n",
       "      <td>1</td>\n",
       "      <td>1</td>\n",
       "      <td>0</td>\n",
       "      <td>0</td>\n",
       "    </tr>\n",
       "    <tr>\n",
       "      <th>1943</th>\n",
       "      <td>1943</td>\n",
       "      <td>8205.0</td>\n",
       "      <td>0.043247</td>\n",
       "      <td>Gay/lesbian</td>\n",
       "      <td>Strongly agree</td>\n",
       "      <td>Strongly agree</td>\n",
       "      <td>Stay in your current residence and never move</td>\n",
       "      <td>Yes</td>\n",
       "      <td>No</td>\n",
       "      <td>Yes</td>\n",
       "      <td>...</td>\n",
       "      <td>Other</td>\n",
       "      <td>Other</td>\n",
       "      <td>Other</td>\n",
       "      <td>Other</td>\n",
       "      <td>0.0</td>\n",
       "      <td>1</td>\n",
       "      <td>1</td>\n",
       "      <td>0</td>\n",
       "      <td>1</td>\n",
       "      <td>0</td>\n",
       "    </tr>\n",
       "    <tr>\n",
       "      <th>1944</th>\n",
       "      <td>1944</td>\n",
       "      <td>8208.0</td>\n",
       "      <td>0.357296</td>\n",
       "      <td>Straight (that is not gay/lesbian)</td>\n",
       "      <td>Strongly agree</td>\n",
       "      <td>Strongly agree</td>\n",
       "      <td>Stay in your current residence and never move</td>\n",
       "      <td>Yes</td>\n",
       "      <td>Yes</td>\n",
       "      <td>Yes</td>\n",
       "      <td>...</td>\n",
       "      <td>Other</td>\n",
       "      <td>Other</td>\n",
       "      <td>Other</td>\n",
       "      <td>Other</td>\n",
       "      <td>0.0</td>\n",
       "      <td>0</td>\n",
       "      <td>3</td>\n",
       "      <td>0</td>\n",
       "      <td>0</td>\n",
       "      <td>1</td>\n",
       "    </tr>\n",
       "    <tr>\n",
       "      <th>1945</th>\n",
       "      <td>1945</td>\n",
       "      <td>8210.0</td>\n",
       "      <td>1.140623</td>\n",
       "      <td>Straight (that is not gay/lesbian)</td>\n",
       "      <td>Neither agree nor disagree</td>\n",
       "      <td>Neither agree nor disagree</td>\n",
       "      <td>Move to a different community</td>\n",
       "      <td>Yes</td>\n",
       "      <td>No</td>\n",
       "      <td>Yes</td>\n",
       "      <td>...</td>\n",
       "      <td>Other</td>\n",
       "      <td>Other</td>\n",
       "      <td>Other</td>\n",
       "      <td>Other</td>\n",
       "      <td>0.0</td>\n",
       "      <td>0</td>\n",
       "      <td>1</td>\n",
       "      <td>1</td>\n",
       "      <td>0</td>\n",
       "      <td>0</td>\n",
       "    </tr>\n",
       "    <tr>\n",
       "      <th>1946</th>\n",
       "      <td>1946</td>\n",
       "      <td>8216.0</td>\n",
       "      <td>2.862939</td>\n",
       "      <td>Straight (that is not gay/lesbian)</td>\n",
       "      <td>Somewhat agree</td>\n",
       "      <td>Strongly agree</td>\n",
       "      <td>Stay in your current residence and never move</td>\n",
       "      <td>Yes</td>\n",
       "      <td>No</td>\n",
       "      <td>Yes</td>\n",
       "      <td>...</td>\n",
       "      <td>Other</td>\n",
       "      <td>Other</td>\n",
       "      <td>Yes</td>\n",
       "      <td>Other</td>\n",
       "      <td>2.0</td>\n",
       "      <td>0</td>\n",
       "      <td>1</td>\n",
       "      <td>1</td>\n",
       "      <td>0</td>\n",
       "      <td>0</td>\n",
       "    </tr>\n",
       "  </tbody>\n",
       "</table>\n",
       "<p>1947 rows × 264 columns</p>\n",
       "</div>"
      ],
      "text/plain": [
       "      Unnamed: 0  CaseId    WEIGHT                                LGBT  \\\n",
       "0              0    54.0  0.756810  Straight (that is not gay/lesbian)   \n",
       "1              1    56.0  2.931238  Straight (that is not gay/lesbian)   \n",
       "2              2    67.0  6.867710  Straight (that is not gay/lesbian)   \n",
       "3              3    68.0  0.827716  Straight (that is not gay/lesbian)   \n",
       "4              4    72.0  0.712991  Straight (that is not gay/lesbian)   \n",
       "...          ...     ...       ...                                 ...   \n",
       "1942        1942  8204.0  0.408771  Straight (that is not gay/lesbian)   \n",
       "1943        1943  8205.0  0.043247                         Gay/lesbian   \n",
       "1944        1944  8208.0  0.357296  Straight (that is not gay/lesbian)   \n",
       "1945        1945  8210.0  1.140623  Straight (that is not gay/lesbian)   \n",
       "1946        1946  8216.0  2.862939  Straight (that is not gay/lesbian)   \n",
       "\n",
       "                              Q1                          Q2  \\\n",
       "0                 Strongly agree              Strongly agree   \n",
       "1                 Strongly agree              Strongly agree   \n",
       "2                 Strongly agree              Strongly agree   \n",
       "3                 Strongly agree              Strongly agree   \n",
       "4                 Somewhat agree              Somewhat agree   \n",
       "...                          ...                         ...   \n",
       "1942  Neither agree nor disagree  Neither agree nor disagree   \n",
       "1943              Strongly agree              Strongly agree   \n",
       "1944              Strongly agree              Strongly agree   \n",
       "1945  Neither agree nor disagree  Neither agree nor disagree   \n",
       "1946              Somewhat agree              Strongly agree   \n",
       "\n",
       "                                                 Q3  Q4A  Q4B  Q4C  ...  \\\n",
       "0                     Move to a different community   No   No   No  ...   \n",
       "1     Stay in your current residence and never move  Yes   No  Yes  ...   \n",
       "2                     Move to a different community  Yes   No  Yes  ...   \n",
       "3     Stay in your current residence and never move   No  Yes   No  ...   \n",
       "4                     Move to a different community   No  Yes   No  ...   \n",
       "...                                             ...  ...  ...  ...  ...   \n",
       "1942                  Move to a different community   No   No   No  ...   \n",
       "1943  Stay in your current residence and never move  Yes   No  Yes  ...   \n",
       "1944  Stay in your current residence and never move  Yes  Yes  Yes  ...   \n",
       "1945                  Move to a different community  Yes   No  Yes  ...   \n",
       "1946  Stay in your current residence and never move  Yes   No  Yes  ...   \n",
       "\n",
       "     dumover18 dumcollege dumparents dumother countInHouse uses_pt  \\\n",
       "0        Other      Other      Other      Yes          1.0       0   \n",
       "1          Yes      Other      Other    Other          1.0       0   \n",
       "2        Other      Other        Yes      Yes          2.0       0   \n",
       "3        Other      Other      Other    Other          1.0       0   \n",
       "4        Other      Other      Other    Other          1.0       0   \n",
       "...        ...        ...        ...      ...          ...     ...   \n",
       "1942     Other      Other        Yes    Other          1.0       0   \n",
       "1943     Other      Other      Other    Other          0.0       1   \n",
       "1944     Other      Other      Other    Other          0.0       0   \n",
       "1945     Other      Other      Other    Other          0.0       0   \n",
       "1946     Other      Other        Yes    Other          2.0       0   \n",
       "\n",
       "     number_of_modes independent_travel dependent_travel both_travel  \n",
       "0                  2                  1                0           0  \n",
       "1                  1                  1                0           0  \n",
       "2                  0                  0                0           0  \n",
       "3                  0                  0                0           0  \n",
       "4                  1                  1                0           0  \n",
       "...              ...                ...              ...         ...  \n",
       "1942               1                  1                0           0  \n",
       "1943               1                  0                1           0  \n",
       "1944               3                  0                0           1  \n",
       "1945               1                  1                0           0  \n",
       "1946               1                  1                0           0  \n",
       "\n",
       "[1947 rows x 264 columns]"
      ]
     },
     "execution_count": 20,
     "metadata": {},
     "output_type": "execute_result"
    }
   ],
   "source": [
    "#checking\n",
    "df_2018"
   ]
  },
  {
   "cell_type": "code",
   "execution_count": 21,
   "id": "bee779ba-08ab-41b0-9f94-6d0d0adbb3bd",
   "metadata": {},
   "outputs": [
    {
     "data": {
      "text/plain": [
       "0    1028\n",
       "1     919\n",
       "Name: independent_travel, dtype: int64"
      ]
     },
     "execution_count": 21,
     "metadata": {},
     "output_type": "execute_result"
    }
   ],
   "source": [
    "#checking, adds up to 1947\n",
    "df_2018['independent_travel'].value_counts()"
   ]
  },
  {
   "cell_type": "code",
   "execution_count": 22,
   "id": "15d9a309-7866-43d8-b0ee-f9a987eac4a2",
   "metadata": {},
   "outputs": [
    {
     "data": {
      "text/plain": [
       "0    1873\n",
       "1      74\n",
       "Name: dependent_travel, dtype: int64"
      ]
     },
     "execution_count": 22,
     "metadata": {},
     "output_type": "execute_result"
    }
   ],
   "source": [
    "#checking, adds up to 1947\n",
    "df_2018['dependent_travel'].value_counts()"
   ]
  },
  {
   "cell_type": "code",
   "execution_count": 23,
   "id": "7a22ee4e-f723-425e-b9c2-133cdfe52d02",
   "metadata": {},
   "outputs": [
    {
     "data": {
      "text/plain": [
       "0    1140\n",
       "1     807\n",
       "Name: both_travel, dtype: int64"
      ]
     },
     "execution_count": 23,
     "metadata": {},
     "output_type": "execute_result"
    }
   ],
   "source": [
    "#checking, adds up to 1947\n",
    "df_2018['both_travel'].value_counts()"
   ]
  },
  {
   "cell_type": "markdown",
   "id": "e63c09c8-a22b-454a-b020-b541864c64d4",
   "metadata": {},
   "source": [
    "### Establish binary variable for senior"
   ]
  },
  {
   "cell_type": "code",
   "execution_count": 24,
   "id": "3d7d45e0-ac82-460f-bd2c-5da5a4a23ad5",
   "metadata": {},
   "outputs": [],
   "source": [
    "#Create a new binary variable for elderly population\n",
    "df_2018['senior'] = df_2018['AGE4'].apply(lambda x: 1 if x == '60+' else 0).astype(int)"
   ]
  },
  {
   "cell_type": "markdown",
   "id": "9cebfb84-757e-44b8-a0f9-0bf1bce5f84f",
   "metadata": {},
   "source": [
    "# Data Cleaning\n",
    "### *Variables Cleaned for modelling are put in a new data frame*"
   ]
  },
  {
   "cell_type": "code",
   "execution_count": 25,
   "id": "f6fcf7e4-541e-4e4f-9552-43d412ab8db8",
   "metadata": {},
   "outputs": [],
   "source": [
    "# Copy dataframe for cleaning and modelling\n",
    "df_clean = df_2018.copy()"
   ]
  },
  {
   "cell_type": "code",
   "execution_count": 26,
   "id": "a7e1137f-7971-479d-9c77-7298413bb026",
   "metadata": {},
   "outputs": [
    {
     "data": {
      "text/plain": [
       "array(['No', 'SKIPPED ON WEB', 'Yes', 'DON’T KNOW'], dtype=object)"
      ]
     },
     "execution_count": 26,
     "metadata": {},
     "output_type": "execute_result"
    }
   ],
   "source": [
    "df_2018['Q24G'].unique()"
   ]
  },
  {
   "cell_type": "markdown",
   "id": "59928282-d91d-4501-9ea9-899f3afa1b3f",
   "metadata": {},
   "source": [
    "### Change Transportation Mode Questions to binary variables"
   ]
  },
  {
   "cell_type": "code",
   "execution_count": 27,
   "id": "4a7a0c06-a300-4291-8769-e90ed4b534f9",
   "metadata": {},
   "outputs": [],
   "source": [
    "# Answers included either 'Yes', 'No', 'Skipped on Web', or 'Don't Know'. 'Skipped on Web' and 'Don't Know' are classified as they do not use that transportation\n",
    "df_clean['Q24G'] = df_clean['Q24G'].apply(lambda x: 1 if x == 'Yes' else 0).astype(int)\n",
    "df_clean['Q24A'] = df_clean['Q24A'].apply(lambda x: 1 if x == 'Yes' else 0).astype(int)\n",
    "df_clean['Q24B'] = df_clean['Q24B'].apply(lambda x: 1 if x == 'Yes' else 0).astype(int)\n",
    "df_clean['Q24C'] = df_clean['Q24C'].apply(lambda x: 1 if x == 'Yes' else 0).astype(int)\n",
    "df_clean['Q24D'] = df_clean['Q24D'].apply(lambda x: 1 if x == 'Yes' else 0).astype(int)\n",
    "df_clean['Q24E'] = df_clean['Q24E'].apply(lambda x: 1 if x == 'Yes' else 0).astype(int)\n",
    "df_clean['Q24F'] = df_clean['Q24F'].apply(lambda x: 1 if x == 'Yes' else 0).astype(int)\n",
    "df_clean['Q24J'] = df_clean['Q24J'].apply(lambda x: 1 if x == 'Yes' else 0).astype(int)"
   ]
  },
  {
   "cell_type": "markdown",
   "id": "c00fd000-c210-4f99-a005-93c4a37b8409",
   "metadata": {},
   "source": [
    "### Re-Code Importance Factors on a 5 point Scale"
   ]
  },
  {
   "cell_type": "code",
   "execution_count": 28,
   "id": "9e593425-8330-44b5-b6f0-e3777af63aed",
   "metadata": {},
   "outputs": [],
   "source": [
    "#'Skipped on Web' will be classified as a null value since the importance is not recorded. It will be replaced with the mean after importance has been recoded\n",
    "\n",
    "#Recode Importance Level on a 5 point scale and replace variable with appropriate value on scale\n",
    "df_clean['Q28_3A'].replace('Extremely important',5,inplace=True)\n",
    "df_clean['Q28_3A'].replace('Very important',4,inplace=True)\n",
    "df_clean['Q28_3A'].replace('Somewhat important',3,inplace=True)\n",
    "df_clean['Q28_3A'].replace('Not very important',2,inplace=True)\n",
    "df_clean['Q28_3A'].replace('Not at all important',1,inplace=True)\n",
    "df_clean['Q28_3A'].replace('SKIPPED ON WEB',np.NaN,inplace=True)\n",
    "\n",
    "df_clean['Q28_3B'].replace('Extremely important',5,inplace=True)\n",
    "df_clean['Q28_3B'].replace('Very important',4,inplace=True)\n",
    "df_clean['Q28_3B'].replace('Somewhat important',3,inplace=True)\n",
    "df_clean['Q28_3B'].replace('Not very important',2,inplace=True)\n",
    "df_clean['Q28_3B'].replace('Not at all important',1,inplace=True)\n",
    "df_clean['Q28_3B'].replace('SKIPPED ON WEB',np.NaN,inplace=True)\n",
    "\n",
    "df_clean['Q28_3C'].replace('Extremely important',5,inplace=True)\n",
    "df_clean['Q28_3C'].replace('Very important',4,inplace=True)\n",
    "df_clean['Q28_3C'].replace('Somewhat important',3,inplace=True)\n",
    "df_clean['Q28_3C'].replace('Not very important',2,inplace=True)\n",
    "df_clean['Q28_3C'].replace('Not at all important',1,inplace=True)\n",
    "df_clean['Q28_3C'].replace('SKIPPED ON WEB',np.NaN,inplace=True)\n",
    "\n",
    "df_clean['Q28_3D'].replace('Extremely important',5,inplace=True)\n",
    "df_clean['Q28_3D'].replace('Very important',4,inplace=True)\n",
    "df_clean['Q28_3D'].replace('Somewhat important',3,inplace=True)\n",
    "df_clean['Q28_3D'].replace('Not very important',2,inplace=True)\n",
    "df_clean['Q28_3D'].replace('Not at all important',1,inplace=True)\n",
    "df_clean['Q28_3D'].replace('SKIPPED ON WEB',np.NaN,inplace=True)\n",
    "\n",
    "df_clean['Q28_3E'].replace('Extremely important',5,inplace=True)\n",
    "df_clean['Q28_3E'].replace('Very important',4,inplace=True)\n",
    "df_clean['Q28_3E'].replace('Somewhat important',3,inplace=True)\n",
    "df_clean['Q28_3E'].replace('Not very important',2,inplace=True)\n",
    "df_clean['Q28_3E'].replace('Not at all important',1,inplace=True)\n",
    "df_clean['Q28_3E'].replace('SKIPPED ON WEB',np.NaN,inplace=True)\n",
    "\n",
    "df_clean['Q28_3F'].replace('Extremely important',5,inplace=True)\n",
    "df_clean['Q28_3F'].replace('Very important',4,inplace=True)\n",
    "df_clean['Q28_3F'].replace('Somewhat important',3,inplace=True)\n",
    "df_clean['Q28_3F'].replace('Not very important',2,inplace=True)\n",
    "df_clean['Q28_3F'].replace('Not at all important',1,inplace=True)\n",
    "df_clean['Q28_3F'].replace('SKIPPED ON WEB',np.NaN,inplace=True)\n",
    "df_clean['Q28_3F'].replace('DON’T KNOW',np.NaN,inplace=True)"
   ]
  },
  {
   "cell_type": "markdown",
   "id": "2e1de087-7880-42d3-bc98-7c25d9df9375",
   "metadata": {},
   "source": [
    "### -------------Verify Cleaning importance variables was executed correctly-----------------------"
   ]
  },
  {
   "cell_type": "code",
   "execution_count": 29,
   "id": "9df62222-93d5-47f2-a643-2828121664d9",
   "metadata": {},
   "outputs": [
    {
     "data": {
      "text/plain": [
       "0       Not at all important\n",
       "1        Extremely important\n",
       "2         Somewhat important\n",
       "3             Very important\n",
       "4         Not very important\n",
       "                ...         \n",
       "1942    Not at all important\n",
       "1943     Extremely important\n",
       "1944          Very important\n",
       "1945          Very important\n",
       "1946          Very important\n",
       "Name: Q28_3C, Length: 1947, dtype: object"
      ]
     },
     "execution_count": 29,
     "metadata": {},
     "output_type": "execute_result"
    }
   ],
   "source": [
    "df_2018['Q28_3C']"
   ]
  },
  {
   "cell_type": "code",
   "execution_count": 30,
   "id": "92f08bc1-9687-45e1-9559-4ddbafdc835d",
   "metadata": {},
   "outputs": [
    {
     "data": {
      "text/plain": [
       "0       1.0\n",
       "1       5.0\n",
       "2       3.0\n",
       "3       4.0\n",
       "4       2.0\n",
       "       ... \n",
       "1942    1.0\n",
       "1943    5.0\n",
       "1944    4.0\n",
       "1945    4.0\n",
       "1946    4.0\n",
       "Name: Q28_3C, Length: 1947, dtype: float64"
      ]
     },
     "execution_count": 30,
     "metadata": {},
     "output_type": "execute_result"
    }
   ],
   "source": [
    "df_clean[\"Q28_3C\"]"
   ]
  },
  {
   "cell_type": "markdown",
   "id": "37ad4834",
   "metadata": {},
   "source": [
    "# # dropping rows where all answers are the same"
   ]
  },
  {
   "cell_type": "code",
   "execution_count": 33,
   "id": "a8c5b6bc",
   "metadata": {},
   "outputs": [],
   "source": [
    "df_clean = df_clean.loc[~((df_clean['Q28_3A'] == df_clean['Q28_3B']) & (df_clean['Q28_3A'] == df_clean['Q28_3C']) & (df_clean['Q28_3A'] == df_clean['Q28_3D']) & (df_clean['Q28_3A'] == df_clean['Q28_3E'])& (df_clean['Q28_3A'] == df_clean['Q28_3D']))] "
   ]
  },
  {
   "cell_type": "code",
   "execution_count": 34,
   "id": "692bf550",
   "metadata": {},
   "outputs": [
    {
     "data": {
      "text/plain": [
       "<AxesSubplot:>"
      ]
     },
     "execution_count": 34,
     "metadata": {},
     "output_type": "execute_result"
    },
    {
     "data": {
      "image/png": "[encoded data removed]",
      "text/plain": [
       "<Figure size 432x288 with 2 Axes>"
      ]
     },
     "metadata": {
      "needs_background": "light"
     },
     "output_type": "display_data"
    }
   ],
   "source": [
    "sns.heatmap(df_clean[['Q28_3A','Q28_3B','Q28_3C','Q28_3D','Q28_3E','Q28_3F']].corr())"
   ]
  },
  {
   "cell_type": "markdown",
   "id": "3a1d1a5a-98a9-4253-84ca-3d7785ee2653",
   "metadata": {},
   "source": [
    "### Replace Null Values with the mean of it's variable"
   ]
  },
  {
   "cell_type": "code",
   "execution_count": 31,
   "id": "29238188-644e-4ee5-adeb-d8405d8f5485",
   "metadata": {},
   "outputs": [
    {
     "data": {
      "text/html": [
       "<div>\n",
       "<style scoped>\n",
       "    .dataframe tbody tr th:only-of-type {\n",
       "        vertical-align: middle;\n",
       "    }\n",
       "\n",
       "    .dataframe tbody tr th {\n",
       "        vertical-align: top;\n",
       "    }\n",
       "\n",
       "    .dataframe thead tr th {\n",
       "        text-align: left;\n",
       "    }\n",
       "\n",
       "    .dataframe thead tr:last-of-type th {\n",
       "        text-align: right;\n",
       "    }\n",
       "</style>\n",
       "<table border=\"1\" class=\"dataframe\">\n",
       "  <thead>\n",
       "    <tr>\n",
       "      <th></th>\n",
       "      <th colspan=\"8\" halign=\"left\">Q28_3A</th>\n",
       "      <th colspan=\"2\" halign=\"left\">Q28_3B</th>\n",
       "      <th>...</th>\n",
       "      <th colspan=\"2\" halign=\"left\">Q28_3E</th>\n",
       "      <th colspan=\"8\" halign=\"left\">Q28_3F</th>\n",
       "    </tr>\n",
       "    <tr>\n",
       "      <th></th>\n",
       "      <th>count</th>\n",
       "      <th>mean</th>\n",
       "      <th>std</th>\n",
       "      <th>min</th>\n",
       "      <th>25%</th>\n",
       "      <th>50%</th>\n",
       "      <th>75%</th>\n",
       "      <th>max</th>\n",
       "      <th>count</th>\n",
       "      <th>mean</th>\n",
       "      <th>...</th>\n",
       "      <th>75%</th>\n",
       "      <th>max</th>\n",
       "      <th>count</th>\n",
       "      <th>mean</th>\n",
       "      <th>std</th>\n",
       "      <th>min</th>\n",
       "      <th>25%</th>\n",
       "      <th>50%</th>\n",
       "      <th>75%</th>\n",
       "      <th>max</th>\n",
       "    </tr>\n",
       "    <tr>\n",
       "      <th>AGE4</th>\n",
       "      <th></th>\n",
       "      <th></th>\n",
       "      <th></th>\n",
       "      <th></th>\n",
       "      <th></th>\n",
       "      <th></th>\n",
       "      <th></th>\n",
       "      <th></th>\n",
       "      <th></th>\n",
       "      <th></th>\n",
       "      <th></th>\n",
       "      <th></th>\n",
       "      <th></th>\n",
       "      <th></th>\n",
       "      <th></th>\n",
       "      <th></th>\n",
       "      <th></th>\n",
       "      <th></th>\n",
       "      <th></th>\n",
       "      <th></th>\n",
       "      <th></th>\n",
       "    </tr>\n",
       "  </thead>\n",
       "  <tbody>\n",
       "    <tr>\n",
       "      <th>18-29</th>\n",
       "      <td>486.0</td>\n",
       "      <td>3.590535</td>\n",
       "      <td>1.229799</td>\n",
       "      <td>1.0</td>\n",
       "      <td>3.0</td>\n",
       "      <td>4.0</td>\n",
       "      <td>5.0</td>\n",
       "      <td>5.0</td>\n",
       "      <td>484.0</td>\n",
       "      <td>3.795455</td>\n",
       "      <td>...</td>\n",
       "      <td>5.0</td>\n",
       "      <td>5.0</td>\n",
       "      <td>484.0</td>\n",
       "      <td>3.572314</td>\n",
       "      <td>1.224719</td>\n",
       "      <td>1.0</td>\n",
       "      <td>3.0</td>\n",
       "      <td>4.0</td>\n",
       "      <td>5.0</td>\n",
       "      <td>5.0</td>\n",
       "    </tr>\n",
       "    <tr>\n",
       "      <th>30-44</th>\n",
       "      <td>542.0</td>\n",
       "      <td>3.523985</td>\n",
       "      <td>1.270443</td>\n",
       "      <td>1.0</td>\n",
       "      <td>3.0</td>\n",
       "      <td>4.0</td>\n",
       "      <td>5.0</td>\n",
       "      <td>5.0</td>\n",
       "      <td>539.0</td>\n",
       "      <td>3.729128</td>\n",
       "      <td>...</td>\n",
       "      <td>5.0</td>\n",
       "      <td>5.0</td>\n",
       "      <td>541.0</td>\n",
       "      <td>3.715342</td>\n",
       "      <td>1.162821</td>\n",
       "      <td>1.0</td>\n",
       "      <td>3.0</td>\n",
       "      <td>4.0</td>\n",
       "      <td>5.0</td>\n",
       "      <td>5.0</td>\n",
       "    </tr>\n",
       "    <tr>\n",
       "      <th>45-59</th>\n",
       "      <td>442.0</td>\n",
       "      <td>3.506787</td>\n",
       "      <td>1.294047</td>\n",
       "      <td>1.0</td>\n",
       "      <td>3.0</td>\n",
       "      <td>4.0</td>\n",
       "      <td>5.0</td>\n",
       "      <td>5.0</td>\n",
       "      <td>444.0</td>\n",
       "      <td>3.709459</td>\n",
       "      <td>...</td>\n",
       "      <td>5.0</td>\n",
       "      <td>5.0</td>\n",
       "      <td>444.0</td>\n",
       "      <td>3.754505</td>\n",
       "      <td>1.211533</td>\n",
       "      <td>1.0</td>\n",
       "      <td>3.0</td>\n",
       "      <td>4.0</td>\n",
       "      <td>5.0</td>\n",
       "      <td>5.0</td>\n",
       "    </tr>\n",
       "    <tr>\n",
       "      <th>60+</th>\n",
       "      <td>467.0</td>\n",
       "      <td>3.434690</td>\n",
       "      <td>1.248826</td>\n",
       "      <td>1.0</td>\n",
       "      <td>3.0</td>\n",
       "      <td>4.0</td>\n",
       "      <td>4.0</td>\n",
       "      <td>5.0</td>\n",
       "      <td>467.0</td>\n",
       "      <td>3.601713</td>\n",
       "      <td>...</td>\n",
       "      <td>5.0</td>\n",
       "      <td>5.0</td>\n",
       "      <td>467.0</td>\n",
       "      <td>3.680942</td>\n",
       "      <td>1.211055</td>\n",
       "      <td>1.0</td>\n",
       "      <td>3.0</td>\n",
       "      <td>4.0</td>\n",
       "      <td>5.0</td>\n",
       "      <td>5.0</td>\n",
       "    </tr>\n",
       "  </tbody>\n",
       "</table>\n",
       "<p>4 rows × 48 columns</p>\n",
       "</div>"
      ],
      "text/plain": [
       "      Q28_3A                                              Q28_3B            \\\n",
       "       count      mean       std  min  25%  50%  75%  max  count      mean   \n",
       "AGE4                                                                         \n",
       "18-29  486.0  3.590535  1.229799  1.0  3.0  4.0  5.0  5.0  484.0  3.795455   \n",
       "30-44  542.0  3.523985  1.270443  1.0  3.0  4.0  5.0  5.0  539.0  3.729128   \n",
       "45-59  442.0  3.506787  1.294047  1.0  3.0  4.0  5.0  5.0  444.0  3.709459   \n",
       "60+    467.0  3.434690  1.248826  1.0  3.0  4.0  4.0  5.0  467.0  3.601713   \n",
       "\n",
       "       ... Q28_3E      Q28_3F                                               \n",
       "       ...    75%  max  count      mean       std  min  25%  50%  75%  max  \n",
       "AGE4   ...                                                                  \n",
       "18-29  ...    5.0  5.0  484.0  3.572314  1.224719  1.0  3.0  4.0  5.0  5.0  \n",
       "30-44  ...    5.0  5.0  541.0  3.715342  1.162821  1.0  3.0  4.0  5.0  5.0  \n",
       "45-59  ...    5.0  5.0  444.0  3.754505  1.211533  1.0  3.0  4.0  5.0  5.0  \n",
       "60+    ...    5.0  5.0  467.0  3.680942  1.211055  1.0  3.0  4.0  5.0  5.0  \n",
       "\n",
       "[4 rows x 48 columns]"
      ]
     },
     "execution_count": 31,
     "metadata": {},
     "output_type": "execute_result"
    }
   ],
   "source": [
    "#Look at the mean value of each question\n",
    "df_clean.groupby('AGE4')[['Q28_3A','Q28_3B','Q28_3C','Q28_3D','Q28_3E','Q28_3F']].describe()"
   ]
  },
  {
   "cell_type": "markdown",
   "id": "b66b3543-6e4c-49d1-9a0a-58e4b3c43d30",
   "metadata": {},
   "source": [
    "### Since all questions have a mean close to 4, we can re-code all NA variables to 4 (can not use the mean because that would be inbetween two categorical values)"
   ]
  },
  {
   "cell_type": "code",
   "execution_count": 32,
   "id": "666705e9-1784-499d-b617-96aba53a8c02",
   "metadata": {},
   "outputs": [],
   "source": [
    "df_clean['Q28_3A'].fillna(4,inplace=True)\n",
    "df_clean['Q28_3B'].fillna(4,inplace=True)\n",
    "df_clean['Q28_3C'].fillna(4,inplace=True)\n",
    "df_clean['Q28_3D'].fillna(4,inplace=True)\n",
    "df_clean['Q28_3E'].fillna(4,inplace=True)\n",
    "df_clean['Q28_3F'].fillna(4,inplace=True)"
   ]
  },
  {
   "cell_type": "markdown",
   "id": "d13c2542",
   "metadata": {},
   "source": [
    "### Table looking at mean values of importance values for seniors"
   ]
  },
  {
   "cell_type": "code",
   "execution_count": 35,
   "id": "6bdc160e",
   "metadata": {},
   "outputs": [
    {
     "data": {
      "text/plain": [
       "Q28_3A    4.111111\n",
       "Q28_3B    4.185185\n",
       "Q28_3C    4.074074\n",
       "Q28_3D    4.074074\n",
       "Q28_3E    3.888889\n",
       "Q28_3F    3.703704\n",
       "dtype: float64"
      ]
     },
     "execution_count": 35,
     "metadata": {},
     "output_type": "execute_result"
    }
   ],
   "source": [
    "df_clean[(df_clean['AGE4']=='60+') & (df_clean['uses_pt']==1)][['Q28_3A','Q28_3B','Q28_3C','Q28_3D','Q28_3E','Q28_3F']].mean()"
   ]
  },
  {
   "cell_type": "code",
   "execution_count": 37,
   "id": "7447b790-fe9d-4011-a1f2-9329c72d7855",
   "metadata": {},
   "outputs": [
    {
     "name": "stdout",
     "output_type": "stream",
     "text": [
      "1    79\n",
      "Name: uses_pt, dtype: int64\n",
      "0    221\n",
      "1     79\n",
      "Name: uses_pt, dtype: int64\n"
     ]
    },
    {
     "data": {
      "text/plain": [
       "<Figure size 1440x7200 with 0 Axes>"
      ]
     },
     "metadata": {},
     "output_type": "display_data"
    },
    {
     "data": {
      "image/png": "[encoded data removed]",
      "text/plain": [
       "<Figure size 936x720 with 1 Axes>"
      ]
     },
     "metadata": {
      "needs_background": "light"
     },
     "output_type": "display_data"
    }
   ],
   "source": [
    "\n",
    "# Create bins for each importance factor to seniors and track normalized value counts\n",
    "print(df_clean[(df_clean['AGE4']=='18-29') & (df_clean['uses_pt'] == 1)]['uses_pt'].value_counts())\n",
    "print(df_clean[df_clean['AGE4']=='18-29']['uses_pt'].value_counts())\n",
    "under_30 = df_clean[(df_clean['AGE4']=='18-29') & (df_clean['uses_pt'] == 1)]['uses_pt'].value_counts() / df_clean[df_clean['AGE4']=='18-29']['uses_pt'].value_counts().sum()\n",
    "thirty_to_44 = df_clean[(df_clean['AGE4']=='30-44') & (df_clean['uses_pt'] == 1)]['uses_pt'].value_counts() / df_clean[df_clean['AGE4']=='30-44']['uses_pt'].value_counts().sum()\n",
    "forty5_to_59 = df_clean[(df_clean['AGE4']=='45-59') & (df_clean['uses_pt'] == 1)]['uses_pt'].value_counts() / df_clean[df_clean['AGE4']=='45-59']['uses_pt'].value_counts().sum()\n",
    "seniors = df_clean[(df_clean['AGE4']=='60+') & (df_clean['uses_pt'] == 1)]['uses_pt'].value_counts() / df_clean[df_clean['AGE4']=='60+']['uses_pt'].value_counts().sum()\n",
    "\n",
    "#Create a new dataframe with all age groups to visualize\n",
    "age_groups = pd.DataFrame([under_30,thirty_to_44,forty5_to_59,seniors])\n",
    "\n",
    "#Make the graph\n",
    "plt.figure(figsize=(20,100))\n",
    "ax = age_groups.plot.bar(stacked=False,figsize=(13,10),rot=0,color='tab:cyan')\n",
    "\n",
    "plt.title('Age Groups using Public Transportation', fontsize=20)\n",
    "plt.ylabel('Percentage',fontsize=14)\n",
    "plt.xlabel('Age group', fontsize=14)\n",
    "ax.set_xticklabels( ('18-29','30-44','45-59','60+') )\n",
    "ax.tick_params(axis='x', labelsize=20,rotation=0)\n",
    "# remove legend\n",
    "ax.get_legend().remove()\n",
    "# set y axis limit\n",
    "ax.set_ylim([0, 0.5])\n",
    "# we also want the y-axis as percentage\n",
    "ax.yaxis.set_major_formatter(mtick.PercentFormatter())\n",
    "plt.show()"
   ]
  },
  {
   "cell_type": "code",
   "execution_count": 38,
   "id": "3dfd64d1",
   "metadata": {},
   "outputs": [
    {
     "data": {
      "text/html": [
       "<div>\n",
       "<style scoped>\n",
       "    .dataframe tbody tr th:only-of-type {\n",
       "        vertical-align: middle;\n",
       "    }\n",
       "\n",
       "    .dataframe tbody tr th {\n",
       "        vertical-align: top;\n",
       "    }\n",
       "\n",
       "    .dataframe thead th {\n",
       "        text-align: right;\n",
       "    }\n",
       "</style>\n",
       "<table border=\"1\" class=\"dataframe\">\n",
       "  <thead>\n",
       "    <tr style=\"text-align: right;\">\n",
       "      <th></th>\n",
       "      <th>1</th>\n",
       "    </tr>\n",
       "  </thead>\n",
       "  <tbody>\n",
       "    <tr>\n",
       "      <th>uses_pt</th>\n",
       "      <td>0.263333</td>\n",
       "    </tr>\n",
       "    <tr>\n",
       "      <th>uses_pt</th>\n",
       "      <td>0.180887</td>\n",
       "    </tr>\n",
       "    <tr>\n",
       "      <th>uses_pt</th>\n",
       "      <td>0.148649</td>\n",
       "    </tr>\n",
       "    <tr>\n",
       "      <th>uses_pt</th>\n",
       "      <td>0.110656</td>\n",
       "    </tr>\n",
       "  </tbody>\n",
       "</table>\n",
       "</div>"
      ],
      "text/plain": [
       "                1\n",
       "uses_pt  0.263333\n",
       "uses_pt  0.180887\n",
       "uses_pt  0.148649\n",
       "uses_pt  0.110656"
      ]
     },
     "execution_count": 38,
     "metadata": {},
     "output_type": "execute_result"
    }
   ],
   "source": [
    "age_groups"
   ]
  },
  {
   "cell_type": "code",
   "execution_count": 37,
   "id": "a0c732c0",
   "metadata": {},
   "outputs": [
    {
     "data": {
      "text/plain": [
       "<AxesSubplot: xlabel='AGE4,uses_pt'>"
      ]
     },
     "execution_count": 37,
     "metadata": {},
     "output_type": "execute_result"
    },
    {
     "data": {
      "image/png": "[encoded data removed]",
      "text/plain": [
       "<Figure size 640x480 with 1 Axes>"
      ]
     },
     "metadata": {},
     "output_type": "display_data"
    }
   ],
   "source": [
    "df_clean.groupby('AGE4')['uses_pt'].value_counts().plot(kind='line')"
   ]
  },
  {
   "cell_type": "code",
   "execution_count": 38,
   "id": "12d6382c",
   "metadata": {},
   "outputs": [
    {
     "data": {
      "text/html": [
       "<div>\n",
       "<style scoped>\n",
       "    .dataframe tbody tr th:only-of-type {\n",
       "        vertical-align: middle;\n",
       "    }\n",
       "\n",
       "    .dataframe tbody tr th {\n",
       "        vertical-align: top;\n",
       "    }\n",
       "\n",
       "    .dataframe thead th {\n",
       "        text-align: right;\n",
       "    }\n",
       "</style>\n",
       "<table border=\"1\" class=\"dataframe\">\n",
       "  <thead>\n",
       "    <tr style=\"text-align: right;\">\n",
       "      <th></th>\n",
       "      <th>Q28_3A</th>\n",
       "      <th>Q28_3B</th>\n",
       "      <th>Q28_3C</th>\n",
       "      <th>Q28_3D</th>\n",
       "      <th>Q28_3E</th>\n",
       "      <th>Q28_3F</th>\n",
       "    </tr>\n",
       "  </thead>\n",
       "  <tbody>\n",
       "    <tr>\n",
       "      <th>count</th>\n",
       "      <td>165.000000</td>\n",
       "      <td>165.000000</td>\n",
       "      <td>165.000000</td>\n",
       "      <td>165.000000</td>\n",
       "      <td>165.000000</td>\n",
       "      <td>165.000000</td>\n",
       "    </tr>\n",
       "    <tr>\n",
       "      <th>mean</th>\n",
       "      <td>3.969697</td>\n",
       "      <td>4.084848</td>\n",
       "      <td>4.030303</td>\n",
       "      <td>4.169697</td>\n",
       "      <td>3.787879</td>\n",
       "      <td>3.484848</td>\n",
       "    </tr>\n",
       "    <tr>\n",
       "      <th>std</th>\n",
       "      <td>0.984169</td>\n",
       "      <td>1.014565</td>\n",
       "      <td>0.829518</td>\n",
       "      <td>0.887750</td>\n",
       "      <td>0.922535</td>\n",
       "      <td>1.140208</td>\n",
       "    </tr>\n",
       "    <tr>\n",
       "      <th>min</th>\n",
       "      <td>1.000000</td>\n",
       "      <td>1.000000</td>\n",
       "      <td>1.000000</td>\n",
       "      <td>1.000000</td>\n",
       "      <td>1.000000</td>\n",
       "      <td>1.000000</td>\n",
       "    </tr>\n",
       "    <tr>\n",
       "      <th>25%</th>\n",
       "      <td>3.000000</td>\n",
       "      <td>4.000000</td>\n",
       "      <td>3.000000</td>\n",
       "      <td>4.000000</td>\n",
       "      <td>3.000000</td>\n",
       "      <td>3.000000</td>\n",
       "    </tr>\n",
       "    <tr>\n",
       "      <th>50%</th>\n",
       "      <td>4.000000</td>\n",
       "      <td>4.000000</td>\n",
       "      <td>4.000000</td>\n",
       "      <td>4.000000</td>\n",
       "      <td>4.000000</td>\n",
       "      <td>4.000000</td>\n",
       "    </tr>\n",
       "    <tr>\n",
       "      <th>75%</th>\n",
       "      <td>5.000000</td>\n",
       "      <td>5.000000</td>\n",
       "      <td>5.000000</td>\n",
       "      <td>5.000000</td>\n",
       "      <td>4.000000</td>\n",
       "      <td>4.000000</td>\n",
       "    </tr>\n",
       "    <tr>\n",
       "      <th>max</th>\n",
       "      <td>5.000000</td>\n",
       "      <td>5.000000</td>\n",
       "      <td>5.000000</td>\n",
       "      <td>5.000000</td>\n",
       "      <td>5.000000</td>\n",
       "      <td>5.000000</td>\n",
       "    </tr>\n",
       "  </tbody>\n",
       "</table>\n",
       "</div>"
      ],
      "text/plain": [
       "           Q28_3A      Q28_3B      Q28_3C      Q28_3D      Q28_3E      Q28_3F\n",
       "count  165.000000  165.000000  165.000000  165.000000  165.000000  165.000000\n",
       "mean     3.969697    4.084848    4.030303    4.169697    3.787879    3.484848\n",
       "std      0.984169    1.014565    0.829518    0.887750    0.922535    1.140208\n",
       "min      1.000000    1.000000    1.000000    1.000000    1.000000    1.000000\n",
       "25%      3.000000    4.000000    3.000000    4.000000    3.000000    3.000000\n",
       "50%      4.000000    4.000000    4.000000    4.000000    4.000000    4.000000\n",
       "75%      5.000000    5.000000    5.000000    5.000000    4.000000    4.000000\n",
       "max      5.000000    5.000000    5.000000    5.000000    5.000000    5.000000"
      ]
     },
     "execution_count": 38,
     "metadata": {},
     "output_type": "execute_result"
    }
   ],
   "source": [
    "df_clean[(df_clean['AGE4']!='60+') & (df_clean['uses_pt']==1)][['Q28_3A','Q28_3B','Q28_3C','Q28_3D','Q28_3E','Q28_3F']].describe()"
   ]
  },
  {
   "cell_type": "markdown",
   "id": "759be4c4",
   "metadata": {},
   "source": [
    "# T test between elderly and other ages, checked for variance because thats an assumption that needs to be specified"
   ]
  },
  {
   "cell_type": "code",
   "execution_count": 38,
   "id": "01827d23",
   "metadata": {},
   "outputs": [],
   "source": [
    "from scipy.stats import ttest_ind\n",
    "import statistics"
   ]
  },
  {
   "cell_type": "code",
   "execution_count": 39,
   "id": "62178e9c",
   "metadata": {},
   "outputs": [],
   "source": [
    "seniors = df_clean[df_clean['AGE4']=='60+']\n",
    "other_age = df_clean[df_clean['AGE4']!='60+']"
   ]
  },
  {
   "cell_type": "code",
   "execution_count": 40,
   "id": "815746ba",
   "metadata": {},
   "outputs": [
    {
     "name": "stdout",
     "output_type": "stream",
     "text": [
      "False\n"
     ]
    }
   ],
   "source": [
    "print(statistics.variance(seniors['Q28_3A']) == statistics.variance(other_age['Q28_3A']))"
   ]
  },
  {
   "cell_type": "code",
   "execution_count": 41,
   "id": "5540a58f",
   "metadata": {},
   "outputs": [
    {
     "data": {
      "text/plain": [
       "Ttest_indResult(statistic=-0.18824346763883085, pvalue=0.8507794007308157)"
      ]
     },
     "execution_count": 41,
     "metadata": {},
     "output_type": "execute_result"
    }
   ],
   "source": [
    "ttest_ind(seniors['Q28_3A'], other_age['Q28_3A'], equal_var = False)"
   ]
  },
  {
   "cell_type": "code",
   "execution_count": 42,
   "id": "92a1d520",
   "metadata": {},
   "outputs": [
    {
     "name": "stdout",
     "output_type": "stream",
     "text": [
      "False\n"
     ]
    }
   ],
   "source": [
    "print(statistics.variance(seniors['Q28_3B']) == statistics.variance(other_age['Q28_3B']))"
   ]
  },
  {
   "cell_type": "code",
   "execution_count": 43,
   "id": "e26e8bc0",
   "metadata": {},
   "outputs": [
    {
     "data": {
      "text/plain": [
       "Ttest_indResult(statistic=-0.827890568648096, pvalue=0.4082253486718115)"
      ]
     },
     "execution_count": 43,
     "metadata": {},
     "output_type": "execute_result"
    }
   ],
   "source": [
    "ttest_ind(seniors['Q28_3B'], other_age['Q28_3B'], equal_var = False)"
   ]
  },
  {
   "cell_type": "code",
   "execution_count": 44,
   "id": "88de730c",
   "metadata": {},
   "outputs": [
    {
     "name": "stdout",
     "output_type": "stream",
     "text": [
      "False\n"
     ]
    }
   ],
   "source": [
    "print(statistics.variance(seniors['Q28_3C']) == statistics.variance(other_age['Q28_3C']))"
   ]
  },
  {
   "cell_type": "code",
   "execution_count": 45,
   "id": "2661821e",
   "metadata": {},
   "outputs": [
    {
     "data": {
      "text/plain": [
       "Ttest_indResult(statistic=0.48046833419262186, pvalue=0.6311614279247477)"
      ]
     },
     "execution_count": 45,
     "metadata": {},
     "output_type": "execute_result"
    }
   ],
   "source": [
    "ttest_ind(seniors['Q28_3C'], other_age['Q28_3C'], equal_var = False)"
   ]
  },
  {
   "cell_type": "code",
   "execution_count": 46,
   "id": "c485b3b7",
   "metadata": {},
   "outputs": [
    {
     "name": "stdout",
     "output_type": "stream",
     "text": [
      "False\n"
     ]
    }
   ],
   "source": [
    "print(statistics.variance(seniors['Q28_3D']) == statistics.variance(other_age['Q28_3D']))"
   ]
  },
  {
   "cell_type": "code",
   "execution_count": 47,
   "id": "77f0488a",
   "metadata": {},
   "outputs": [
    {
     "data": {
      "text/plain": [
       "Ttest_indResult(statistic=-1.3311202432263092, pvalue=0.18394036241787623)"
      ]
     },
     "execution_count": 47,
     "metadata": {},
     "output_type": "execute_result"
    }
   ],
   "source": [
    "ttest_ind(seniors['Q28_3D'], other_age['Q28_3D'], equal_var = False)"
   ]
  },
  {
   "cell_type": "code",
   "execution_count": 48,
   "id": "33a8e3bd",
   "metadata": {},
   "outputs": [
    {
     "name": "stdout",
     "output_type": "stream",
     "text": [
      "False\n"
     ]
    }
   ],
   "source": [
    "print(statistics.variance(seniors['Q28_3E']) == statistics.variance(other_age['Q28_3E']))"
   ]
  },
  {
   "cell_type": "code",
   "execution_count": 49,
   "id": "1718d214",
   "metadata": {},
   "outputs": [
    {
     "data": {
      "text/plain": [
       "Ttest_indResult(statistic=0.5910986128621435, pvalue=0.554804226599195)"
      ]
     },
     "execution_count": 49,
     "metadata": {},
     "output_type": "execute_result"
    }
   ],
   "source": [
    "ttest_ind(seniors['Q28_3E'],other_age['Q28_3E'], equal_var = False)"
   ]
  },
  {
   "cell_type": "code",
   "execution_count": 50,
   "id": "5569172d",
   "metadata": {},
   "outputs": [
    {
     "name": "stdout",
     "output_type": "stream",
     "text": [
      "False\n"
     ]
    }
   ],
   "source": [
    "print(statistics.variance(seniors['Q28_3F']) == statistics.variance(other_age['Q28_3F']))"
   ]
  },
  {
   "cell_type": "code",
   "execution_count": 51,
   "id": "08705e28",
   "metadata": {},
   "outputs": [
    {
     "data": {
      "text/plain": [
       "Ttest_indResult(statistic=1.8013804768709376, pvalue=0.0723933582769453)"
      ]
     },
     "execution_count": 51,
     "metadata": {},
     "output_type": "execute_result"
    }
   ],
   "source": [
    "ttest_ind(seniors['Q28_3F'], other_age['Q28_3F'], equal_var = False)"
   ]
  },
  {
   "cell_type": "code",
   "execution_count": 52,
   "id": "59e66a07",
   "metadata": {},
   "outputs": [],
   "source": [
    "#none of them are different lol, so we say that there is no difference between the elderly and regular people, so we can use\n",
    "#perceptions of everyone and its the same difference"
   ]
  },
  {
   "cell_type": "markdown",
   "id": "0698ac42",
   "metadata": {},
   "source": [
    "## a box plot"
   ]
  },
  {
   "cell_type": "code",
   "execution_count": 53,
   "id": "4d3ba8b7",
   "metadata": {},
   "outputs": [
    {
     "name": "stderr",
     "output_type": "stream",
     "text": [
      "C:\\Users\\Tonyj\\anaconda3\\lib\\site-packages\\seaborn\\categorical.py:1296: UserWarning: 46.5% of the points cannot be placed; you may want to decrease the size of the markers or use stripplot.\n",
      "  warnings.warn(msg, UserWarning)\n"
     ]
    },
    {
     "data": {
      "image/png": "[encoded data removed]",
      "text/plain": [
       "<Figure size 432x288 with 1 Axes>"
      ]
     },
     "metadata": {
      "needs_background": "light"
     },
     "output_type": "display_data"
    }
   ],
   "source": [
    "ax = sns.boxplot(x='uses_pt', y='Q28_3A', data=df_clean[df_clean['AGE4']=='60+'], color='#99c2a2')\n",
    "ax = sns.swarmplot(x=\"uses_pt\", y=\"Q28_3A\", data=df_clean[df_clean['AGE4']=='60+'], color='#7d0013')\n",
    "plt.show()"
   ]
  },
  {
   "cell_type": "code",
   "execution_count": 59,
   "id": "79452ae0",
   "metadata": {},
   "outputs": [
    {
     "data": {
      "text/plain": [
       "<bound method DataFrame.info of       Unnamed: 0  CaseId    WEIGHT                                LGBT  \\\n",
       "0              0    54.0  0.756810  Straight (that is not gay/lesbian)   \n",
       "1              1    56.0  2.931238  Straight (that is not gay/lesbian)   \n",
       "2              2    67.0  6.867710  Straight (that is not gay/lesbian)   \n",
       "3              3    68.0  0.827716  Straight (that is not gay/lesbian)   \n",
       "4              4    72.0  0.712991  Straight (that is not gay/lesbian)   \n",
       "...          ...     ...       ...                                 ...   \n",
       "1940        1940  8198.0  2.776333  Straight (that is not gay/lesbian)   \n",
       "1941        1941  8200.0  0.920483  Straight (that is not gay/lesbian)   \n",
       "1942        1942  8204.0  0.408771  Straight (that is not gay/lesbian)   \n",
       "1943        1943  8205.0  0.043247                         Gay/lesbian   \n",
       "1945        1945  8210.0  1.140623  Straight (that is not gay/lesbian)   \n",
       "\n",
       "                              Q1                          Q2  \\\n",
       "0                 Strongly agree              Strongly agree   \n",
       "1                 Strongly agree              Strongly agree   \n",
       "2                 Strongly agree              Strongly agree   \n",
       "3                 Strongly agree              Strongly agree   \n",
       "4                 Somewhat agree              Somewhat agree   \n",
       "...                          ...                         ...   \n",
       "1940  Neither agree nor disagree           Somewhat disagree   \n",
       "1941  Neither agree nor disagree              Somewhat agree   \n",
       "1942  Neither agree nor disagree  Neither agree nor disagree   \n",
       "1943              Strongly agree              Strongly agree   \n",
       "1945  Neither agree nor disagree  Neither agree nor disagree   \n",
       "\n",
       "                                                 Q3         Q4A  Q4B  Q4C  \\\n",
       "0                     Move to a different community          No   No   No   \n",
       "1     Stay in your current residence and never move         Yes   No  Yes   \n",
       "2                     Move to a different community         Yes   No  Yes   \n",
       "3     Stay in your current residence and never move          No  Yes   No   \n",
       "4                     Move to a different community          No  Yes   No   \n",
       "...                                             ...         ...  ...  ...   \n",
       "1940                  Move to a different community         Yes   No   No   \n",
       "1941                                       Not sure  DON’T KNOW  Yes  Yes   \n",
       "1942                  Move to a different community          No   No   No   \n",
       "1943  Stay in your current residence and never move         Yes   No  Yes   \n",
       "1945                  Move to a different community         Yes   No  Yes   \n",
       "\n",
       "      ... dumcollege dumparents dumother countInHouse uses_pt number_of_modes  \\\n",
       "0     ...      Other      Other      Yes          1.0       0               2   \n",
       "1     ...      Other      Other    Other          1.0       0               1   \n",
       "2     ...      Other        Yes      Yes          2.0       0               0   \n",
       "3     ...      Other      Other    Other          1.0       0               0   \n",
       "4     ...      Other      Other    Other          1.0       0               1   \n",
       "...   ...        ...        ...      ...          ...     ...             ...   \n",
       "1940  ...      Other      Other    Other          2.0       0               2   \n",
       "1941  ...      Other        Yes    Other          1.0       0               1   \n",
       "1942  ...      Other        Yes    Other          1.0       0               1   \n",
       "1943  ...      Other      Other    Other          0.0       1               1   \n",
       "1945  ...      Other      Other    Other          0.0       0               1   \n",
       "\n",
       "     independent_travel dependent_travel both_travel senior  \n",
       "0                     1                0           0      1  \n",
       "1                     1                0           0      1  \n",
       "2                     0                0           0      0  \n",
       "3                     0                0           0      0  \n",
       "4                     1                0           0      0  \n",
       "...                 ...              ...         ...    ...  \n",
       "1940                  1                0           0      0  \n",
       "1941                  0                1           0      0  \n",
       "1942                  1                0           0      0  \n",
       "1943                  0                1           0      0  \n",
       "1945                  1                0           0      1  \n",
       "\n",
       "[1059 rows x 265 columns]>"
      ]
     },
     "execution_count": 59,
     "metadata": {},
     "output_type": "execute_result"
    }
   ],
   "source": [
    "df_clean.info"
   ]
  },
  {
   "cell_type": "code",
   "execution_count": 54,
   "id": "28debf56",
   "metadata": {},
   "outputs": [
    {
     "ename": "NameError",
     "evalue": "name 'df' is not defined",
     "output_type": "error",
     "traceback": [
      "\u001b[1;31m---------------------------------------------------------------------------\u001b[0m",
      "\u001b[1;31mNameError\u001b[0m                                 Traceback (most recent call last)",
      "\u001b[1;32m~\\AppData\\Local\\Temp/ipykernel_26848/4285965614.py\u001b[0m in \u001b[0;36m<module>\u001b[1;34m\u001b[0m\n\u001b[0;32m      1\u001b[0m \u001b[1;32mimport\u001b[0m \u001b[0mscipy\u001b[0m\u001b[1;33m.\u001b[0m\u001b[0mstats\u001b[0m \u001b[1;32mas\u001b[0m \u001b[0mstats\u001b[0m\u001b[1;33m\u001b[0m\u001b[1;33m\u001b[0m\u001b[0m\n\u001b[0;32m      2\u001b[0m \u001b[1;31m# stats f_oneway functions takes the groups as input and returns ANOVA F and p value\u001b[0m\u001b[1;33m\u001b[0m\u001b[1;33m\u001b[0m\u001b[0m\n\u001b[1;32m----> 3\u001b[1;33m \u001b[0mfvalue\u001b[0m\u001b[1;33m,\u001b[0m \u001b[0mpvalue\u001b[0m \u001b[1;33m=\u001b[0m \u001b[0mstats\u001b[0m\u001b[1;33m.\u001b[0m\u001b[0mf_oneway\u001b[0m\u001b[1;33m(\u001b[0m\u001b[0mdf\u001b[0m\u001b[1;33m[\u001b[0m\u001b[1;34m'1'\u001b[0m\u001b[1;33m]\u001b[0m\u001b[1;33m,\u001b[0m \u001b[0mdf\u001b[0m\u001b[1;33m[\u001b[0m\u001b[1;34m'0'\u001b[0m\u001b[1;33m]\u001b[0m\u001b[1;33m,\u001b[0m\u001b[1;33m)\u001b[0m\u001b[1;33m\u001b[0m\u001b[1;33m\u001b[0m\u001b[0m\n\u001b[0m\u001b[0;32m      4\u001b[0m \u001b[0mprint\u001b[0m\u001b[1;33m(\u001b[0m\u001b[0mfvalue\u001b[0m\u001b[1;33m,\u001b[0m \u001b[0mpvalue\u001b[0m\u001b[1;33m)\u001b[0m\u001b[1;33m\u001b[0m\u001b[1;33m\u001b[0m\u001b[0m\n",
      "\u001b[1;31mNameError\u001b[0m: name 'df' is not defined"
     ]
    }
   ],
   "source": [
    "import scipy.stats as stats\n",
    "# stats f_oneway functions takes the groups as input and returns ANOVA F and p value\n",
    "fvalue, pvalue = stats.f_oneway(df['1'], df['0'],)\n",
    "print(fvalue, pvalue)"
   ]
  },
  {
   "cell_type": "markdown",
   "id": "54d93af7-76ca-4b5a-ac37-9136a591a524",
   "metadata": {},
   "source": [
    "### -----------------------------------------------------------------------------------------------------------------------"
   ]
  },
  {
   "cell_type": "markdown",
   "id": "accd92b2-0b24-4638-8fea-cd968fa617e3",
   "metadata": {},
   "source": [
    "# Visualizations-these have changed a bit because they are being done on cleaned data, not sure if we want to do a before and after cleaning"
   ]
  },
  {
   "cell_type": "code",
   "execution_count": null,
   "id": "a57d25e9-6529-4bef-afb4-cc59d339dfe1",
   "metadata": {},
   "outputs": [],
   "source": [
    "# Create bins for each transportation mode used by seniors and track normalized value counts\n",
    "pub_trans = seniors['Q24G'].value_counts(sort=False,normalize=True)\n",
    "walk = seniors['Q24A'].value_counts(sort=False,normalize=True)\n",
    "drive = seniors['Q24B'].value_counts(sort=False,normalize=True)\n",
    "others_drive = seniors['Q24C'].value_counts(sort=False,normalize=True)\n",
    "taxi = seniors['Q24D'].value_counts(sort=False,normalize=True)\n",
    "uber = seniors['Q24E'].value_counts(sort=False,normalize=True)\n",
    "special_trans = seniors['Q24F'].value_counts(sort=False,normalize=True)\n",
    "no_leave = seniors['Q24J'].value_counts(sort=False,normalize=True)\n",
    "\n",
    "#Create a new dataframe with all the types of transit modes to visualize\n",
    "transit_modes = pd.DataFrame([pub_trans,walk,drive,others_drive,taxi,uber,special_trans,no_leave])\n",
    "\n",
    "#Make the graph\n",
    "plt.figure(figsize=(20,100))\n",
    "ax = transit_modes[1].plot.bar(stacked=False,figsize=(13,10),rot=0)\n",
    "\n",
    "plt.title('Modes of Transportation for Seniors', fontsize=20)\n",
    "plt.ylabel('',fontsize=14)\n",
    "ax.set_xticklabels( ('Public Transit', 'Walk','Drive','Have Others Drive Them','Taxi','Uber/Lyft','Special Transit','Does not Leave House') )\n",
    "ax.tick_params(axis='x', labelsize=20,rotation=65)\n",
    "plt.show()"
   ]
  },
  {
   "cell_type": "code",
   "execution_count": 63,
   "id": "49606d65-8929-4d12-bcc4-b0031b6bb4c9",
   "metadata": {},
   "outputs": [
    {
     "data": {
      "text/plain": [
       "<Figure size 1440x7200 with 0 Axes>"
      ]
     },
     "metadata": {},
     "output_type": "display_data"
    },
    {
     "data": {
      "image/png": "[encoded data removed]",
      "text/plain": [
       "<Figure size 936x720 with 1 Axes>"
      ]
     },
     "metadata": {
      "needs_background": "light"
     },
     "output_type": "display_data"
    }
   ],
   "source": [
    "# Create bins for each importance factor to seniors and track normalized value counts\n",
    "close = seniors['Q28_3A'].value_counts(sort=True,normalize=True)\n",
    "affordable = seniors['Q28_3B'].value_counts(sort=False,normalize=True)\n",
    "maintained = seniors['Q28_3C'].value_counts(sort=False,normalize=True)\n",
    "timely = seniors['Q28_3D'].value_counts(sort=False,normalize=True)\n",
    "safe = seniors['Q28_3E'].value_counts(sort=False,normalize=True)\n",
    "special_services = seniors['Q28_3F'].value_counts(sort=False,normalize=True)\n",
    "\n",
    "#Create a new dataframe with all the types of transit modes to visualize\n",
    "importance_factors = pd.DataFrame([close,affordable,maintained,timely,safe,special_services])\n",
    "\n",
    "#Make the graph\n",
    "plt.figure(figsize=(20,100))\n",
    "ax = importance_factors.plot.bar(stacked=False,figsize=(13,10),rot=0)\n",
    "\n",
    "plt.title('Importance Factors for Seniors', fontsize=20)\n",
    "plt.ylabel('',fontsize=14)\n",
    "ax.set_xticklabels( ('Close to Home','Affordable','Well-Maintained','Timely','Safe','Special Services') )\n",
    "ax.tick_params(axis='x', labelsize=20,rotation=65)\n",
    "plt.show()"
   ]
  },
  {
   "cell_type": "code",
   "execution_count": null,
   "id": "0839bc0e-2cc6-4f4c-8091-b397a6d8f365",
   "metadata": {},
   "outputs": [],
   "source": [
    "# how many types of transportation modes do seniors use-kaylee\n",
    "\n",
    "# I want to use groupby feature to see the breakdown of each mode, but that still needs to come because that info\n",
    "# isn't in the seniors database yet, and I also need to make sure its in order with that random 0\n",
    "plt.figure(figsize=(20,100))\n",
    "ax = seniors['number_of_modes'].value_counts(sort=True).plot.bar(stacked=False,figsize=(13,10),rot=0)\n",
    "plt.title('How Many Different Modes of Transportation Are Used by Seniors', fontsize=20)\n",
    "plt.ylabel('',fontsize=14)\n",
    "ax.tick_params(axis='x', labelsize=20,rotation=65)\n",
    "plt.show()"
   ]
  },
  {
   "cell_type": "code",
   "execution_count": null,
   "id": "1406f06b-8559-4aec-be51-ef931f7ba810",
   "metadata": {},
   "outputs": [],
   "source": [
    "sns.regplot(data=df_clean,x='Q28_3E',y='uses_pt')"
   ]
  },
  {
   "cell_type": "code",
   "execution_count": null,
   "id": "8a34bfae-718b-48cb-8208-9c3712cb2742",
   "metadata": {},
   "outputs": [],
   "source": [
    "for i in df_clean[['Q28_3A','Q28_3B','Q28_3C','Q28_3D','Q28_3E','Q28_3F']].columns:\n",
    "    pd.crosstab(df_clean[i],df_clean['uses_pt'],normalize='index').plot(kind='bar')\n",
    "    plt.title(i)\n",
    "    plt.show()"
   ]
  },
  {
   "cell_type": "code",
   "execution_count": null,
   "id": "d5bc1354-fc49-4c3c-83a2-44f1a60c5e2d",
   "metadata": {},
   "outputs": [],
   "source": [
    "df_clean.loc[(df_clean['Salary_in_1000']>=100) & (df_clean['Age']< 60)]"
   ]
  },
  {
   "cell_type": "code",
   "execution_count": null,
   "id": "055ad7b2-6c53-42b6-96e2-c30097b6c874",
   "metadata": {},
   "outputs": [],
   "source": [
    "# Create bins for each importance factor to seniors and track normalized value counts\n",
    "close = df_clean.loc[(df_clean['uses_pt']==1) & (df_clean['AGE4']=='60+')['Q28_3A']].value_counts(sort=False,normalize=True)\n",
    "affordable = df_clean.loc[(df_clean['uses_pt']==1) & (df_clean['AGE4']=='60+')['Q28_3B']].value_counts(sort=False,normalize=True)\n",
    "maintained = df_clean.loc[(df_clean['uses_pt']==1) & (df_clean['AGE4']=='60+')['Q28_3C']].value_counts(sort=False,normalize=True)\n",
    "timely = df_clean.loc[(df_clean['uses_pt']==1) & (df_clean['AGE4']=='60+')['Q28_3D']].value_counts(sort=False,normalize=True)\n",
    "safe = df_clean.loc[(df_clean['uses_pt']==1) & (df_clean['AGE4']=='60+')['Q28_3E']].value_counts(sort=False,normalize=True)\n",
    "special_services = df_clean.loc[(df_clean['uses_pt']==1) & (df_clean['AGE4']=='60+')['Q28_3F']].value_counts(sort=False,normalize=True)\n",
    "\n",
    "#Create a new dataframe with all the types of transit modes to visualize\n",
    "importance_factors = pd.DataFrame([close,affordable,maintained,timely,safe,special_services])\n",
    "\n",
    "chart_frame = importance_factors.transpose()\n",
    "\n",
    "#Make the graph\n",
    "plt.figure(figsize=(20,100))\n",
    "ax = chart_frame.plot.line(figsize=(13,10),rot=0)\n",
    "\n",
    "plt.title('Importance Factors for Seniors who use Public Transportation', fontsize=20)\n",
    "plt.ylabel('Percentage of Respondents',fontsize=14)\n",
    "ax.set_xticklabels(('Not at all Important','Not very important','Somewhat important','Very Important','Extremely Important'))\n",
    "ax.tick_params(axis='x', labelsize=20,rotation=65)\n",
    "ax.set_xticks([1,2,3,4,5])\n",
    "plt.show()"
   ]
  },
  {
   "cell_type": "code",
   "execution_count": null,
   "id": "86972f19-1f88-4c67-a861-dc99af8df221",
   "metadata": {},
   "outputs": [],
   "source": [
    "df_clean.to_csv('Data/clean_df.csv')"
   ]
  },
  {
   "cell_type": "code",
   "execution_count": null,
   "id": "2bc090b7-1092-4dd0-92bd-35ef5dc4ebbc",
   "metadata": {},
   "outputs": [],
   "source": []
  }
 ],
 "metadata": {
  "kernelspec": {
   "display_name": "Python 3 (ipykernel)",
   "language": "python",
   "name": "python3"
  },
  "language_info": {
   "codemirror_mode": {
    "name": "ipython",
    "version": 3
   },
   "file_extension": ".py",
   "mimetype": "text/x-python",
   "name": "python",
   "nbconvert_exporter": "python",
   "pygments_lexer": "ipython3",
   "version": "3.9.7"
  }
 },
 "nbformat": 4,
 "nbformat_minor": 5
}
