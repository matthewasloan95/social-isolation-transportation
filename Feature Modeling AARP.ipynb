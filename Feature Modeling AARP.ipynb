{
 "cells": [
  {
   "cell_type": "code",
   "execution_count": 1,
   "id": "431a167c-12a4-4e2f-919a-33fa1ada16fb",
   "metadata": {
    "tags": []
   },
   "outputs": [],
   "source": [
    "# package imports\n",
    "import pandas as pd\n",
    "from sklearn.model_selection import train_test_split\n",
    "# from sklearn import tree\n",
    "from sklearn.tree import DecisionTreeClassifier\n",
    "from sklearn.model_selection import GridSearchCV\n",
    "from imblearn.over_sampling import SMOTENC, SMOTEN\n",
    "import matplotlib.pyplot as plt "
   ]
  },
  {
   "cell_type": "code",
   "execution_count": 2,
   "id": "801c554c-1086-402a-aed7-d6cd0fc0ac81",
   "metadata": {
    "tags": []
   },
   "outputs": [],
   "source": [
    "# load data\n",
    "aarp = pd.read_csv('Data/clean_AARP.csv')"
   ]
  },
  {
   "cell_type": "code",
   "execution_count": 3,
   "id": "a8070d94-e57f-4c9e-9fdc-d60e23a83ebb",
   "metadata": {
    "tags": []
   },
   "outputs": [],
   "source": [
    "# list vars\n",
    "model_vars = ['AGE4_recode', 'D6_recode', 'D8_recode', 'D9C_recode', 'D18_recode', 'D26_recode', 'MARITAL_recode', 'EDUC4_recode', 'RACETHNICITY_recode', 'GENDER_recode', 'HHSIZE', 'INCOME_recode']\n",
    "\n",
    "# aarp be aarp\n",
    "aarp = aarp[model_vars]\n",
    "\n",
    "aarp['RACETHNICITY_recode'] = pd.Categorical(aarp['RACETHNICITY_recode'])\n",
    "aarp['GENDER_recode'] = pd.Categorical(aarp['GENDER_recode'])\n",
    "aarp['MARITAL_recode'] = pd.Categorical(aarp['MARITAL_recode'])\n",
    "aarp['D26_recode'] = pd.Categorical(aarp['D26_recode'])\n",
    "aarp['D18_recode'] = pd.Categorical(aarp['D18_recode'])\n",
    "\n",
    "# recode D9C to binary\n",
    "# if you never feel SI then 1, else 2, \n",
    "# then 0, 1 binary\n",
    "aarp['is_si'] = aarp['D9C_recode'].apply(lambda x: 1 if x == 1 else 1 if x == 2 else 3)\n",
    "aarp['is_si'] = aarp['is_si'].apply(lambda x: 0 if x == 1 else 1)"
   ]
  },
  {
   "cell_type": "code",
   "execution_count": 4,
   "id": "9b887930-1325-44b2-a237-8148e7bb1f17",
   "metadata": {
    "tags": []
   },
   "outputs": [],
   "source": [
    "# make decision tree object\n",
    "clf = DecisionTreeClassifier(random_state=42)"
   ]
  },
  {
   "cell_type": "code",
   "execution_count": 5,
   "id": "e0d2bb24-55a3-41c4-8fd7-3eab3291573f",
   "metadata": {
    "tags": []
   },
   "outputs": [],
   "source": [
    "# make our x and y\n",
    "x = aarp[model_vars].drop(['D9C_recode', 'AGE4_recode'], axis=1)\n",
    "y = aarp['is_si']"
   ]
  },
  {
   "cell_type": "code",
   "execution_count": 6,
   "id": "30602d6b-92e2-479a-96c1-e86f9596366b",
   "metadata": {
    "tags": []
   },
   "outputs": [],
   "source": [
    "# train and test sets\n",
    "x_train, x_test, y_train, y_test = train_test_split(x, y, test_size=0.33, random_state=42)"
   ]
  },
  {
   "cell_type": "code",
   "execution_count": 7,
   "id": "a0341c8e-8052-49f8-a7ca-dc6f1ea0ae3a",
   "metadata": {
    "tags": []
   },
   "outputs": [
    {
     "data": {
      "text/plain": [
       "0.583596214511041"
      ]
     },
     "execution_count": 7,
     "metadata": {},
     "output_type": "execute_result"
    }
   ],
   "source": [
    "# decision tree regular fit\n",
    "clf.fit(x_train,y_train)\n",
    "clf.score(x_test, y_test)"
   ]
  },
  {
   "cell_type": "code",
   "execution_count": 8,
   "id": "2ad710ba-6ca1-4594-9f04-33f3f4a28dee",
   "metadata": {
    "tags": []
   },
   "outputs": [
    {
     "data": {
      "text/plain": [
       "0.6793336803748048"
      ]
     },
     "execution_count": 8,
     "metadata": {},
     "output_type": "execute_result"
    }
   ],
   "source": [
    "# baseline\n",
    "aarp['is_si'].value_counts()[0]/aarp['is_si'].value_counts().sum()\n",
    "# 68% baseline.."
   ]
  },
  {
   "cell_type": "code",
   "execution_count": 9,
   "id": "e54d6d20-8443-489f-929a-47ef5cb41812",
   "metadata": {
    "tags": []
   },
   "outputs": [
    {
     "data": {
      "text/plain": [
       "0    1305\n",
       "1     616\n",
       "Name: is_si, dtype: int64"
      ]
     },
     "execution_count": 9,
     "metadata": {},
     "output_type": "execute_result"
    }
   ],
   "source": [
    "# 79%... what quantities?\n",
    "aarp['is_si'].value_counts()"
   ]
  },
  {
   "cell_type": "code",
   "execution_count": 10,
   "id": "e90d489d-4440-4a7b-84d4-8512f8972a34",
   "metadata": {
    "tags": []
   },
   "outputs": [],
   "source": [
    "# prepare grid search\n",
    "param_grid = { \n",
    "    'max_leaf_nodes': range(2,1000,22),\n",
    "    'max_features': ['auto', 'sqrt', 'log2'],\n",
    "    'max_depth' : range(1,100, 6),\n",
    "    'criterion' :['gini', 'entropy', 'log_loss'],\n",
    "    'max_features': ['sqrt', 'log2', None]\n",
    "}"
   ]
  },
  {
   "cell_type": "code",
   "execution_count": 11,
   "id": "580bcc48-5986-4dd6-aadd-0cb908830d74",
   "metadata": {
    "tags": []
   },
   "outputs": [
    {
     "data": {
      "text/html": [
       "<style>#sk-container-id-1 {color: black;background-color: white;}#sk-container-id-1 pre{padding: 0;}#sk-container-id-1 div.sk-toggleable {background-color: white;}#sk-container-id-1 label.sk-toggleable__label {cursor: pointer;display: block;width: 100%;margin-bottom: 0;padding: 0.3em;box-sizing: border-box;text-align: center;}#sk-container-id-1 label.sk-toggleable__label-arrow:before {content: \"▸\";float: left;margin-right: 0.25em;color: #696969;}#sk-container-id-1 label.sk-toggleable__label-arrow:hover:before {color: black;}#sk-container-id-1 div.sk-estimator:hover label.sk-toggleable__label-arrow:before {color: black;}#sk-container-id-1 div.sk-toggleable__content {max-height: 0;max-width: 0;overflow: hidden;text-align: left;background-color: #f0f8ff;}#sk-container-id-1 div.sk-toggleable__content pre {margin: 0.2em;color: black;border-radius: 0.25em;background-color: #f0f8ff;}#sk-container-id-1 input.sk-toggleable__control:checked~div.sk-toggleable__content {max-height: 200px;max-width: 100%;overflow: auto;}#sk-container-id-1 input.sk-toggleable__control:checked~label.sk-toggleable__label-arrow:before {content: \"▾\";}#sk-container-id-1 div.sk-estimator input.sk-toggleable__control:checked~label.sk-toggleable__label {background-color: #d4ebff;}#sk-container-id-1 div.sk-label input.sk-toggleable__control:checked~label.sk-toggleable__label {background-color: #d4ebff;}#sk-container-id-1 input.sk-hidden--visually {border: 0;clip: rect(1px 1px 1px 1px);clip: rect(1px, 1px, 1px, 1px);height: 1px;margin: -1px;overflow: hidden;padding: 0;position: absolute;width: 1px;}#sk-container-id-1 div.sk-estimator {font-family: monospace;background-color: #f0f8ff;border: 1px dotted black;border-radius: 0.25em;box-sizing: border-box;margin-bottom: 0.5em;}#sk-container-id-1 div.sk-estimator:hover {background-color: #d4ebff;}#sk-container-id-1 div.sk-parallel-item::after {content: \"\";width: 100%;border-bottom: 1px solid gray;flex-grow: 1;}#sk-container-id-1 div.sk-label:hover label.sk-toggleable__label {background-color: #d4ebff;}#sk-container-id-1 div.sk-serial::before {content: \"\";position: absolute;border-left: 1px solid gray;box-sizing: border-box;top: 0;bottom: 0;left: 50%;z-index: 0;}#sk-container-id-1 div.sk-serial {display: flex;flex-direction: column;align-items: center;background-color: white;padding-right: 0.2em;padding-left: 0.2em;position: relative;}#sk-container-id-1 div.sk-item {position: relative;z-index: 1;}#sk-container-id-1 div.sk-parallel {display: flex;align-items: stretch;justify-content: center;background-color: white;position: relative;}#sk-container-id-1 div.sk-item::before, #sk-container-id-1 div.sk-parallel-item::before {content: \"\";position: absolute;border-left: 1px solid gray;box-sizing: border-box;top: 0;bottom: 0;left: 50%;z-index: -1;}#sk-container-id-1 div.sk-parallel-item {display: flex;flex-direction: column;z-index: 1;position: relative;background-color: white;}#sk-container-id-1 div.sk-parallel-item:first-child::after {align-self: flex-end;width: 50%;}#sk-container-id-1 div.sk-parallel-item:last-child::after {align-self: flex-start;width: 50%;}#sk-container-id-1 div.sk-parallel-item:only-child::after {width: 0;}#sk-container-id-1 div.sk-dashed-wrapped {border: 1px dashed gray;margin: 0 0.4em 0.5em 0.4em;box-sizing: border-box;padding-bottom: 0.4em;background-color: white;}#sk-container-id-1 div.sk-label label {font-family: monospace;font-weight: bold;display: inline-block;line-height: 1.2em;}#sk-container-id-1 div.sk-label-container {text-align: center;}#sk-container-id-1 div.sk-container {/* jupyter's `normalize.less` sets `[hidden] { display: none; }` but bootstrap.min.css set `[hidden] { display: none !important; }` so we also need the `!important` here to be able to override the default hidden behavior on the sphinx rendered scikit-learn.org. See: https://github.com/scikit-learn/scikit-learn/issues/21755 */display: inline-block !important;position: relative;}#sk-container-id-1 div.sk-text-repr-fallback {display: none;}</style><div id=\"sk-container-id-1\" class=\"sk-top-container\"><div class=\"sk-text-repr-fallback\"><pre>GridSearchCV(cv=4, estimator=DecisionTreeClassifier(random_state=42), n_jobs=-1,\n",
       "             param_grid={&#x27;criterion&#x27;: [&#x27;gini&#x27;, &#x27;entropy&#x27;, &#x27;log_loss&#x27;],\n",
       "                         &#x27;max_depth&#x27;: range(1, 100, 6),\n",
       "                         &#x27;max_features&#x27;: [&#x27;sqrt&#x27;, &#x27;log2&#x27;, None],\n",
       "                         &#x27;max_leaf_nodes&#x27;: range(2, 1000, 22)})</pre><b>In a Jupyter environment, please rerun this cell to show the HTML representation or trust the notebook. <br />On GitHub, the HTML representation is unable to render, please try loading this page with nbviewer.org.</b></div><div class=\"sk-container\" hidden><div class=\"sk-item sk-dashed-wrapped\"><div class=\"sk-label-container\"><div class=\"sk-label sk-toggleable\"><input class=\"sk-toggleable__control sk-hidden--visually\" id=\"sk-estimator-id-1\" type=\"checkbox\" ><label for=\"sk-estimator-id-1\" class=\"sk-toggleable__label sk-toggleable__label-arrow\">GridSearchCV</label><div class=\"sk-toggleable__content\"><pre>GridSearchCV(cv=4, estimator=DecisionTreeClassifier(random_state=42), n_jobs=-1,\n",
       "             param_grid={&#x27;criterion&#x27;: [&#x27;gini&#x27;, &#x27;entropy&#x27;, &#x27;log_loss&#x27;],\n",
       "                         &#x27;max_depth&#x27;: range(1, 100, 6),\n",
       "                         &#x27;max_features&#x27;: [&#x27;sqrt&#x27;, &#x27;log2&#x27;, None],\n",
       "                         &#x27;max_leaf_nodes&#x27;: range(2, 1000, 22)})</pre></div></div></div><div class=\"sk-parallel\"><div class=\"sk-parallel-item\"><div class=\"sk-item\"><div class=\"sk-label-container\"><div class=\"sk-label sk-toggleable\"><input class=\"sk-toggleable__control sk-hidden--visually\" id=\"sk-estimator-id-2\" type=\"checkbox\" ><label for=\"sk-estimator-id-2\" class=\"sk-toggleable__label sk-toggleable__label-arrow\">estimator: DecisionTreeClassifier</label><div class=\"sk-toggleable__content\"><pre>DecisionTreeClassifier(random_state=42)</pre></div></div></div><div class=\"sk-serial\"><div class=\"sk-item\"><div class=\"sk-estimator sk-toggleable\"><input class=\"sk-toggleable__control sk-hidden--visually\" id=\"sk-estimator-id-3\" type=\"checkbox\" ><label for=\"sk-estimator-id-3\" class=\"sk-toggleable__label sk-toggleable__label-arrow\">DecisionTreeClassifier</label><div class=\"sk-toggleable__content\"><pre>DecisionTreeClassifier(random_state=42)</pre></div></div></div></div></div></div></div></div></div></div>"
      ],
      "text/plain": [
       "GridSearchCV(cv=4, estimator=DecisionTreeClassifier(random_state=42), n_jobs=-1,\n",
       "             param_grid={'criterion': ['gini', 'entropy', 'log_loss'],\n",
       "                         'max_depth': range(1, 100, 6),\n",
       "                         'max_features': ['sqrt', 'log2', None],\n",
       "                         'max_leaf_nodes': range(2, 1000, 22)})"
      ]
     },
     "execution_count": 11,
     "metadata": {},
     "output_type": "execute_result"
    }
   ],
   "source": [
    "# do the grid search\n",
    "CV_DT = GridSearchCV(estimator=clf, param_grid=param_grid, cv= 4, n_jobs=-1) \n",
    "CV_DT.fit(x_train, y_train)"
   ]
  },
  {
   "cell_type": "code",
   "execution_count": 12,
   "id": "7d0767d9-912d-400d-92ee-3a6bbf03f64d",
   "metadata": {
    "tags": []
   },
   "outputs": [
    {
     "data": {
      "text/plain": [
       "0.6750788643533123"
      ]
     },
     "execution_count": 12,
     "metadata": {},
     "output_type": "execute_result"
    }
   ],
   "source": [
    "# score it\n",
    "CV_DT.score(x_test, y_test)"
   ]
  },
  {
   "cell_type": "code",
   "execution_count": null,
   "id": "069460a2-457b-4d4f-b750-96b020fdbcf9",
   "metadata": {
    "tags": []
   },
   "outputs": [],
   "source": [
    "# 67... even grid search can't get it much better?"
   ]
  },
  {
   "cell_type": "code",
   "execution_count": 14,
   "id": "3fead618-425e-4414-878d-c71631f0077c",
   "metadata": {
    "tags": []
   },
   "outputs": [
    {
     "name": "stdout",
     "output_type": "stream",
     "text": [
      "0.09\tD6_recode\n",
      "0.122\tD8_recode\n",
      "0.124\tD18_recode\n",
      "0.038\tD26_recode\n",
      "0.069\tMARITAL_recode\n",
      "0.095\tEDUC4_recode\n",
      "0.078\tRACETHNICITY_recode\n",
      "0.049\tGENDER_recode\n",
      "0.105\tHHSIZE\n",
      "0.231\tINCOME_recode\n"
     ]
    }
   ],
   "source": [
    "# what are the feature importances?\n",
    "for importance, feature in zip(clf.feature_importances_, clf.feature_names_in_):\n",
    "    print(f'{round(importance,3)}\\t{feature}')"
   ]
  },
  {
   "cell_type": "code",
   "execution_count": 15,
   "id": "45c49abd-b389-4917-ac89-cafbe07d992a",
   "metadata": {
    "tags": []
   },
   "outputs": [
    {
     "name": "stdout",
     "output_type": "stream",
     "text": [
      "---------- score for age 4 0.68% -----------\n",
      "0.114\tD6_recode\n",
      "0.096\tD8_recode\n",
      "0.135\tD18_recode\n",
      "0.058\tD26_recode\n",
      "0.173\tMARITAL_recode\n",
      "0.063\tEDUC4_recode\n",
      "0.094\tRACETHNICITY_recode\n",
      "0.05\tGENDER_recode\n",
      "0.059\tHHSIZE\n",
      "0.157\tINCOME_recode\n",
      "---------- score for age 2 0.511% -----------\n",
      "0.125\tD6_recode\n",
      "0.155\tD8_recode\n",
      "0.099\tD18_recode\n",
      "0.033\tD26_recode\n",
      "0.112\tMARITAL_recode\n",
      "0.072\tEDUC4_recode\n",
      "0.098\tRACETHNICITY_recode\n",
      "0.052\tGENDER_recode\n",
      "0.085\tHHSIZE\n",
      "0.17\tINCOME_recode\n",
      "---------- score for age 3 0.578% -----------\n",
      "0.107\tD6_recode\n",
      "0.164\tD8_recode\n",
      "0.112\tD18_recode\n",
      "0.055\tD26_recode\n",
      "0.112\tMARITAL_recode\n",
      "0.055\tEDUC4_recode\n",
      "0.048\tRACETHNICITY_recode\n",
      "0.026\tGENDER_recode\n",
      "0.156\tHHSIZE\n",
      "0.165\tINCOME_recode\n",
      "---------- score for age 1 0.484% -----------\n",
      "0.084\tD6_recode\n",
      "0.105\tD8_recode\n",
      "0.093\tD18_recode\n",
      "0.02\tD26_recode\n",
      "0.064\tMARITAL_recode\n",
      "0.14\tEDUC4_recode\n",
      "0.119\tRACETHNICITY_recode\n",
      "0.038\tGENDER_recode\n",
      "0.137\tHHSIZE\n",
      "0.199\tINCOME_recode\n"
     ]
    }
   ],
   "source": [
    "# DT for each age category... regular decision tree\n",
    "for ages in aarp['AGE4_recode'].unique():\n",
    "    age_aarp = aarp.loc[aarp['AGE4_recode'] == ages]\n",
    "    x = age_aarp.drop(['D9C_recode', 'AGE4_recode', 'is_si'], axis=1)\n",
    "    y = age_aarp['is_si']\n",
    "    x_train, x_test, y_train, y_test = train_test_split(x, y, test_size=0.33, random_state=42)\n",
    "    DecisionTreeClassifier(random_state=42)\n",
    "    clf.fit(x_train,y_train)\n",
    "    print(f'---------- score for age {ages} {round(clf.score(x_test, y_test),3)}% -----------')\n",
    "    \n",
    "    for importance, feature in zip(clf.feature_importances_, clf.feature_names_in_):\n",
    "        print(f'{round(importance,3)}\\t{feature}')"
   ]
  },
  {
   "cell_type": "code",
   "execution_count": 16,
   "id": "ef1e200b-ccfc-4ef9-91f7-ff3ea8342595",
   "metadata": {
    "tags": []
   },
   "outputs": [
    {
     "name": "stdout",
     "output_type": "stream",
     "text": [
      "---------- score for age 4 0.81% -----------\n",
      "0.0\tD6_recode\n",
      "0.0\tD8_recode\n",
      "0.0\tD18_recode\n",
      "0.0\tD26_recode\n",
      "1.0\tMARITAL_recode\n",
      "0.0\tEDUC4_recode\n",
      "0.0\tRACETHNICITY_recode\n",
      "0.0\tGENDER_recode\n",
      "0.0\tHHSIZE\n",
      "0.0\tINCOME_recode\n",
      "---------- score for age 2 0.629% -----------\n",
      "0.247\tD6_recode\n",
      "0.202\tD8_recode\n",
      "0.077\tD18_recode\n",
      "0.048\tD26_recode\n",
      "0.123\tMARITAL_recode\n",
      "0.028\tEDUC4_recode\n",
      "0.133\tRACETHNICITY_recode\n",
      "0.037\tGENDER_recode\n",
      "0.022\tHHSIZE\n",
      "0.084\tINCOME_recode\n",
      "---------- score for age 3 0.673% -----------\n",
      "0.1\tD6_recode\n",
      "0.117\tD8_recode\n",
      "0.094\tD18_recode\n",
      "0.098\tD26_recode\n",
      "0.105\tMARITAL_recode\n",
      "0.0\tEDUC4_recode\n",
      "0.068\tRACETHNICITY_recode\n",
      "0.049\tGENDER_recode\n",
      "0.223\tHHSIZE\n",
      "0.147\tINCOME_recode\n",
      "---------- score for age 1 0.572% -----------\n",
      "0.213\tD6_recode\n",
      "0.047\tD8_recode\n",
      "0.025\tD18_recode\n",
      "0.047\tD26_recode\n",
      "0.152\tMARITAL_recode\n",
      "0.086\tEDUC4_recode\n",
      "0.035\tRACETHNICITY_recode\n",
      "0.048\tGENDER_recode\n",
      "0.108\tHHSIZE\n",
      "0.239\tINCOME_recode\n"
     ]
    }
   ],
   "source": [
    "# DT for each age category... regular decision tree\n",
    "\n",
    "# prepare grid search\n",
    "# \n",
    "param_grid = { \n",
    "    'max_leaf_nodes': range(2,1000,22),\n",
    "    'max_features': ['auto', 'sqrt', 'log2'],\n",
    "    'max_depth' : range(1,100, 6),\n",
    "    'criterion' :['gini', 'entropy', 'log_loss'],\n",
    "    'max_features': ['sqrt', 'log2', None]\n",
    "}\n",
    "\n",
    "for ages in aarp['AGE4_recode'].unique():\n",
    "    age_aarp = aarp.loc[aarp['AGE4_recode'] == ages]\n",
    "    x = age_aarp.drop(['D9C_recode', 'AGE4_recode', 'is_si'], axis=1)\n",
    "    y = age_aarp['is_si']\n",
    "    x_train, x_test, y_train, y_test = train_test_split(x, y, test_size=0.33, random_state=42)\n",
    "    DecisionTreeClassifier(random_state=42)\n",
    "    # do the grid search\n",
    "    CV_DT = GridSearchCV(estimator=clf, param_grid=param_grid, cv= 4, n_jobs=-1) \n",
    "    CV_DT.fit(x_train, y_train)\n",
    "    print(f'---------- score for age {ages} {round(CV_DT.best_estimator_.score(x_test, y_test),3)}% -----------')\n",
    "    \n",
    "    for importance, feature in zip(CV_DT.best_estimator_.feature_importances_, CV_DT.feature_names_in_):\n",
    "        print(f'{round(importance,3)}\\t{feature}')"
   ]
  },
  {
   "cell_type": "markdown",
   "id": "e6b779ec-f423-473a-9861-e73c0cf9da17",
   "metadata": {},
   "source": [
    "### same as above but upsampling training data"
   ]
  },
  {
   "cell_type": "code",
   "execution_count": 17,
   "id": "e49e9b1f-ade5-476c-86fd-be7111b44f12",
   "metadata": {
    "tags": []
   },
   "outputs": [],
   "source": [
    "# make train and test set\n",
    "aarp_train, aarp_test = train_test_split(aarp, test_size=0.33, random_state=42)"
   ]
  },
  {
   "cell_type": "code",
   "execution_count": 18,
   "id": "e31d05e0-8b0a-4bf6-97b8-110295173c20",
   "metadata": {
    "tags": []
   },
   "outputs": [
    {
     "data": {
      "text/plain": [
       "0    883\n",
       "1    404\n",
       "Name: is_si, dtype: int64"
      ]
     },
     "execution_count": 18,
     "metadata": {},
     "output_type": "execute_result"
    }
   ],
   "source": [
    "aarp_train['is_si'].value_counts()"
   ]
  },
  {
   "cell_type": "code",
   "execution_count": 19,
   "id": "02c0d06d-e250-49f6-b4b3-c1ac3f88f423",
   "metadata": {
    "tags": []
   },
   "outputs": [],
   "source": [
    "# upsample train set\n",
    "to_resample = aarp_train.loc[aarp['is_si'] ==1]\n",
    "our_resample = to_resample.sample(n = 479, replace = True, random_state=42)\n",
    "aarp_train_rebal = pd.concat([aarp_train, our_resample])"
   ]
  },
  {
   "cell_type": "code",
   "execution_count": 20,
   "id": "5cbd7c14-1f89-4ae2-a184-13753fd5e43e",
   "metadata": {
    "tags": []
   },
   "outputs": [],
   "source": [
    "# manually create x,y test and trains\n",
    "x_train = aarp_train_rebal.drop(['D9C_recode', 'AGE4_recode', 'is_si'], axis=1)\n",
    "x_test = aarp_test.drop(['D9C_recode', 'AGE4_recode', 'is_si'], axis=1)\n",
    "y_train = aarp_train_rebal['is_si']\n",
    "y_test = aarp_test['is_si']"
   ]
  },
  {
   "cell_type": "code",
   "execution_count": 21,
   "id": "17199fee-5624-4c39-9b11-6b56b8b34b2c",
   "metadata": {
    "tags": []
   },
   "outputs": [
    {
     "data": {
      "text/plain": [
       "0    883\n",
       "1    883\n",
       "Name: is_si, dtype: int64"
      ]
     },
     "execution_count": 21,
     "metadata": {},
     "output_type": "execute_result"
    }
   ],
   "source": [
    "aarp_train_rebal['is_si'].value_counts()"
   ]
  },
  {
   "cell_type": "code",
   "execution_count": 22,
   "id": "107bebc9-162e-4d5b-8ab2-37debf5292ca",
   "metadata": {
    "tags": []
   },
   "outputs": [
    {
     "data": {
      "text/html": [
       "<style>#sk-container-id-2 {color: black;background-color: white;}#sk-container-id-2 pre{padding: 0;}#sk-container-id-2 div.sk-toggleable {background-color: white;}#sk-container-id-2 label.sk-toggleable__label {cursor: pointer;display: block;width: 100%;margin-bottom: 0;padding: 0.3em;box-sizing: border-box;text-align: center;}#sk-container-id-2 label.sk-toggleable__label-arrow:before {content: \"▸\";float: left;margin-right: 0.25em;color: #696969;}#sk-container-id-2 label.sk-toggleable__label-arrow:hover:before {color: black;}#sk-container-id-2 div.sk-estimator:hover label.sk-toggleable__label-arrow:before {color: black;}#sk-container-id-2 div.sk-toggleable__content {max-height: 0;max-width: 0;overflow: hidden;text-align: left;background-color: #f0f8ff;}#sk-container-id-2 div.sk-toggleable__content pre {margin: 0.2em;color: black;border-radius: 0.25em;background-color: #f0f8ff;}#sk-container-id-2 input.sk-toggleable__control:checked~div.sk-toggleable__content {max-height: 200px;max-width: 100%;overflow: auto;}#sk-container-id-2 input.sk-toggleable__control:checked~label.sk-toggleable__label-arrow:before {content: \"▾\";}#sk-container-id-2 div.sk-estimator input.sk-toggleable__control:checked~label.sk-toggleable__label {background-color: #d4ebff;}#sk-container-id-2 div.sk-label input.sk-toggleable__control:checked~label.sk-toggleable__label {background-color: #d4ebff;}#sk-container-id-2 input.sk-hidden--visually {border: 0;clip: rect(1px 1px 1px 1px);clip: rect(1px, 1px, 1px, 1px);height: 1px;margin: -1px;overflow: hidden;padding: 0;position: absolute;width: 1px;}#sk-container-id-2 div.sk-estimator {font-family: monospace;background-color: #f0f8ff;border: 1px dotted black;border-radius: 0.25em;box-sizing: border-box;margin-bottom: 0.5em;}#sk-container-id-2 div.sk-estimator:hover {background-color: #d4ebff;}#sk-container-id-2 div.sk-parallel-item::after {content: \"\";width: 100%;border-bottom: 1px solid gray;flex-grow: 1;}#sk-container-id-2 div.sk-label:hover label.sk-toggleable__label {background-color: #d4ebff;}#sk-container-id-2 div.sk-serial::before {content: \"\";position: absolute;border-left: 1px solid gray;box-sizing: border-box;top: 0;bottom: 0;left: 50%;z-index: 0;}#sk-container-id-2 div.sk-serial {display: flex;flex-direction: column;align-items: center;background-color: white;padding-right: 0.2em;padding-left: 0.2em;position: relative;}#sk-container-id-2 div.sk-item {position: relative;z-index: 1;}#sk-container-id-2 div.sk-parallel {display: flex;align-items: stretch;justify-content: center;background-color: white;position: relative;}#sk-container-id-2 div.sk-item::before, #sk-container-id-2 div.sk-parallel-item::before {content: \"\";position: absolute;border-left: 1px solid gray;box-sizing: border-box;top: 0;bottom: 0;left: 50%;z-index: -1;}#sk-container-id-2 div.sk-parallel-item {display: flex;flex-direction: column;z-index: 1;position: relative;background-color: white;}#sk-container-id-2 div.sk-parallel-item:first-child::after {align-self: flex-end;width: 50%;}#sk-container-id-2 div.sk-parallel-item:last-child::after {align-self: flex-start;width: 50%;}#sk-container-id-2 div.sk-parallel-item:only-child::after {width: 0;}#sk-container-id-2 div.sk-dashed-wrapped {border: 1px dashed gray;margin: 0 0.4em 0.5em 0.4em;box-sizing: border-box;padding-bottom: 0.4em;background-color: white;}#sk-container-id-2 div.sk-label label {font-family: monospace;font-weight: bold;display: inline-block;line-height: 1.2em;}#sk-container-id-2 div.sk-label-container {text-align: center;}#sk-container-id-2 div.sk-container {/* jupyter's `normalize.less` sets `[hidden] { display: none; }` but bootstrap.min.css set `[hidden] { display: none !important; }` so we also need the `!important` here to be able to override the default hidden behavior on the sphinx rendered scikit-learn.org. See: https://github.com/scikit-learn/scikit-learn/issues/21755 */display: inline-block !important;position: relative;}#sk-container-id-2 div.sk-text-repr-fallback {display: none;}</style><div id=\"sk-container-id-2\" class=\"sk-top-container\"><div class=\"sk-text-repr-fallback\"><pre>GridSearchCV(cv=4, estimator=DecisionTreeClassifier(random_state=42), n_jobs=-1,\n",
       "             param_grid={&#x27;criterion&#x27;: [&#x27;gini&#x27;, &#x27;entropy&#x27;, &#x27;log_loss&#x27;],\n",
       "                         &#x27;max_depth&#x27;: range(1, 100, 6),\n",
       "                         &#x27;max_features&#x27;: [&#x27;sqrt&#x27;, &#x27;log2&#x27;, None],\n",
       "                         &#x27;max_leaf_nodes&#x27;: range(2, 1000, 22)})</pre><b>In a Jupyter environment, please rerun this cell to show the HTML representation or trust the notebook. <br />On GitHub, the HTML representation is unable to render, please try loading this page with nbviewer.org.</b></div><div class=\"sk-container\" hidden><div class=\"sk-item sk-dashed-wrapped\"><div class=\"sk-label-container\"><div class=\"sk-label sk-toggleable\"><input class=\"sk-toggleable__control sk-hidden--visually\" id=\"sk-estimator-id-4\" type=\"checkbox\" ><label for=\"sk-estimator-id-4\" class=\"sk-toggleable__label sk-toggleable__label-arrow\">GridSearchCV</label><div class=\"sk-toggleable__content\"><pre>GridSearchCV(cv=4, estimator=DecisionTreeClassifier(random_state=42), n_jobs=-1,\n",
       "             param_grid={&#x27;criterion&#x27;: [&#x27;gini&#x27;, &#x27;entropy&#x27;, &#x27;log_loss&#x27;],\n",
       "                         &#x27;max_depth&#x27;: range(1, 100, 6),\n",
       "                         &#x27;max_features&#x27;: [&#x27;sqrt&#x27;, &#x27;log2&#x27;, None],\n",
       "                         &#x27;max_leaf_nodes&#x27;: range(2, 1000, 22)})</pre></div></div></div><div class=\"sk-parallel\"><div class=\"sk-parallel-item\"><div class=\"sk-item\"><div class=\"sk-label-container\"><div class=\"sk-label sk-toggleable\"><input class=\"sk-toggleable__control sk-hidden--visually\" id=\"sk-estimator-id-5\" type=\"checkbox\" ><label for=\"sk-estimator-id-5\" class=\"sk-toggleable__label sk-toggleable__label-arrow\">estimator: DecisionTreeClassifier</label><div class=\"sk-toggleable__content\"><pre>DecisionTreeClassifier(random_state=42)</pre></div></div></div><div class=\"sk-serial\"><div class=\"sk-item\"><div class=\"sk-estimator sk-toggleable\"><input class=\"sk-toggleable__control sk-hidden--visually\" id=\"sk-estimator-id-6\" type=\"checkbox\" ><label for=\"sk-estimator-id-6\" class=\"sk-toggleable__label sk-toggleable__label-arrow\">DecisionTreeClassifier</label><div class=\"sk-toggleable__content\"><pre>DecisionTreeClassifier(random_state=42)</pre></div></div></div></div></div></div></div></div></div></div>"
      ],
      "text/plain": [
       "GridSearchCV(cv=4, estimator=DecisionTreeClassifier(random_state=42), n_jobs=-1,\n",
       "             param_grid={'criterion': ['gini', 'entropy', 'log_loss'],\n",
       "                         'max_depth': range(1, 100, 6),\n",
       "                         'max_features': ['sqrt', 'log2', None],\n",
       "                         'max_leaf_nodes': range(2, 1000, 22)})"
      ]
     },
     "execution_count": 22,
     "metadata": {},
     "output_type": "execute_result"
    }
   ],
   "source": [
    "# grid search it\n",
    "CV_DT = GridSearchCV(estimator=clf, param_grid=param_grid, cv= 4, n_jobs=-1) \n",
    "CV_DT.fit(x_train, y_train)"
   ]
  },
  {
   "cell_type": "code",
   "execution_count": 23,
   "id": "50112239-b7b9-403c-86fb-c6fe7f4c11de",
   "metadata": {
    "tags": []
   },
   "outputs": [
    {
     "data": {
      "text/plain": [
       "0.6025236593059937"
      ]
     },
     "execution_count": 23,
     "metadata": {},
     "output_type": "execute_result"
    }
   ],
   "source": [
    "CV_DT.score(x_test, y_test)"
   ]
  },
  {
   "cell_type": "code",
   "execution_count": 24,
   "id": "6d5ede6d-e8fe-48aa-957d-a2d2dc4e4268",
   "metadata": {
    "tags": []
   },
   "outputs": [
    {
     "name": "stdout",
     "output_type": "stream",
     "text": [
      "\n",
      "---------- score for age 4: 0.68% ----------\n",
      "0.18\tD6_recode\n",
      "0.099\tD8_recode\n",
      "0.188\tD18_recode\n",
      "0.025\tD26_recode\n",
      "0.074\tMARITAL_recode\n",
      "0.063\tEDUC4_recode\n",
      "0.117\tRACETHNICITY_recode\n",
      "0.027\tGENDER_recode\n",
      "0.028\tHHSIZE\n",
      "0.199\tINCOME_recode\n",
      "\n",
      "training set size: \n",
      "1    253\n",
      "0    253\n",
      "Name: is_si, dtype: int64\n",
      "testing set size:  \n",
      "0    124\n",
      "1     29\n",
      "Name: is_si, dtype: int64\n",
      "\n",
      "---------- score for age 2: 0.551% ----------\n",
      "0.124\tD6_recode\n",
      "0.143\tD8_recode\n",
      "0.045\tD18_recode\n",
      "0.029\tD26_recode\n",
      "0.11\tMARITAL_recode\n",
      "0.135\tEDUC4_recode\n",
      "0.046\tRACETHNICITY_recode\n",
      "0.039\tGENDER_recode\n",
      "0.135\tHHSIZE\n",
      "0.193\tINCOME_recode\n",
      "\n",
      "training set size: \n",
      "0    241\n",
      "1    241\n",
      "Name: is_si, dtype: int64\n",
      "testing set size:  \n",
      "0    117\n",
      "1     61\n",
      "Name: is_si, dtype: int64\n",
      "\n",
      "---------- score for age 3: 0.673% ----------\n",
      "0.154\tD6_recode\n",
      "0.15\tD8_recode\n",
      "0.092\tD18_recode\n",
      "0.037\tD26_recode\n",
      "0.07\tMARITAL_recode\n",
      "0.095\tEDUC4_recode\n",
      "0.061\tRACETHNICITY_recode\n",
      "0.027\tGENDER_recode\n",
      "0.164\tHHSIZE\n",
      "0.152\tINCOME_recode\n",
      "\n",
      "training set size: \n",
      "1    221\n",
      "0    221\n",
      "Name: is_si, dtype: int64\n",
      "testing set size:  \n",
      "0    103\n",
      "1     44\n",
      "Name: is_si, dtype: int64\n",
      "\n",
      "---------- score for age 1: 0.503% ----------\n",
      "0.127\tD6_recode\n",
      "0.145\tD8_recode\n",
      "0.075\tD18_recode\n",
      "0.029\tD26_recode\n",
      "0.106\tMARITAL_recode\n",
      "0.079\tEDUC4_recode\n",
      "0.128\tRACETHNICITY_recode\n",
      "0.055\tGENDER_recode\n",
      "0.104\tHHSIZE\n",
      "0.153\tINCOME_recode\n",
      "\n",
      "training set size: \n",
      "1    162\n",
      "0    162\n",
      "Name: is_si, dtype: int64\n",
      "testing set size:  \n",
      "0    84\n",
      "1    75\n",
      "Name: is_si, dtype: int64\n"
     ]
    }
   ],
   "source": [
    "# DT for each age category\n",
    "# Also have ridiculous grid search parameters to make it quick since we end up using SMOTE below\n",
    "\n",
    "for ages in aarp['AGE4_recode'].unique():\n",
    "    \n",
    "    # grab aarp for single age group\n",
    "    aged_aarp = aarp.loc[aarp['AGE4_recode'] == ages]\n",
    "    \n",
    "    # split into train and test\n",
    "    aarp_train, aarp_test = train_test_split(aged_aarp, test_size=0.33, random_state=42)\n",
    "    \n",
    "    # upsample train set\n",
    "    # make sure that the 0 count is larger\n",
    "    if aarp_train['is_si'].value_counts()[0] - aarp_train['is_si'].value_counts()[1] > 0:\n",
    "        amt_to_rebal = aarp_train['is_si'].value_counts()[0] - aarp_train['is_si'].value_counts()[1]\n",
    "        \n",
    "        to_resample = aarp_train.loc[aarp['is_si'] ==1]\n",
    "        our_resample = to_resample.sample(n = amt_to_rebal, replace = True, random_state=42)\n",
    "        aarp_train_rebal = pd.concat([aarp_train, our_resample])\n",
    "    else:\n",
    "        # make sure the number is positive and we recode 1 instead\n",
    "        amt_to_rebal = (aarp_train['is_si'].value_counts()[0] - aarp_train['is_si'].value_counts()[1]) * -1\n",
    "        to_resample = aarp_train.loc[aarp_train['is_si'] ==0]\n",
    "        our_resample = to_resample.sample(n = amt_to_rebal, replace = True, random_state=42)\n",
    "        aarp_train_rebal = pd.concat([aarp_train, our_resample])\n",
    "        \n",
    "    \n",
    "    # manually create x,y test and trains\n",
    "    x_train = aarp_train_rebal.drop(['D9C_recode', 'AGE4_recode', 'is_si'], axis=1)\n",
    "    x_test = aarp_test.drop(['D9C_recode', 'AGE4_recode', 'is_si'], axis=1)\n",
    "    y_train = aarp_train_rebal['is_si']\n",
    "    y_test = aarp_test['is_si']\n",
    "    \n",
    "    # new decision tree\n",
    "    clf = DecisionTreeClassifier(random_state=42)\n",
    "    \n",
    "    # grid to search\n",
    "    param_grid = { \n",
    "    'max_leaf_nodes': range(2,1000,55),\n",
    "    'max_features': ['auto', 'sqrt', 'log2'], \n",
    "    'max_depth' : range(1,100, 9),\n",
    "    'criterion' :['gini', 'entropy', 'log_loss'],\n",
    "    'max_features': ['sqrt', 'log2', None]\n",
    "}\n",
    "    # new grid search using decision tree and grid from above\n",
    "    CV_DT = GridSearchCV(estimator=clf, param_grid=param_grid, cv = 4, n_jobs=-1) \n",
    "    \n",
    "    # let's 'train'\n",
    "    CV_DT.fit(x_train, y_train)\n",
    "    \n",
    "    # print the results\n",
    "    print(f'\\n---------- score for age {ages}: {round(CV_DT.score(x_test, y_test),3)}% ----------')\n",
    "    \n",
    "    for importance, feature in zip(CV_DT.best_estimator_.feature_importances_, CV_DT.feature_names_in_):\n",
    "        print(f'{round(importance,3)}\\t{feature}')\n",
    "        \n",
    "    ###### print train and test set sizes\n",
    "    print(f'\\ntraining set size: \\n{y_train.value_counts()}')\n",
    "    print(f'testing set size:  \\n{y_test.value_counts()}')\n",
    "    ###### "
   ]
  },
  {
   "cell_type": "markdown",
   "id": "b4a0731a-6d42-44f1-bcd0-38906a1d371d",
   "metadata": {},
   "source": [
    "### trying imbalanced-learn"
   ]
  },
  {
   "cell_type": "code",
   "execution_count": 25,
   "id": "4d7e3633-afb1-4bbd-ae73-ed74ffb03006",
   "metadata": {
    "tags": []
   },
   "outputs": [],
   "source": [
    "# testing random, SMOTE and ADASYN(these cannot handle continous and categorical, use SMOTENC), \n",
    "# SMOTENC is for numerical and categorical features, but not good for categorical ONLY datasets. \n",
    "# use the parameter categorical_features to specify which are categorical\n",
    "# SMOTENC for numerical AND categorical\n",
    "# SMOTEN for categorical ONLY"
   ]
  },
  {
   "cell_type": "code",
   "execution_count": 26,
   "id": "47695d28-0a53-48d0-9a95-6bf74a5103c4",
   "metadata": {},
   "outputs": [],
   "source": [
    "# first we need the indexes of the categorical columns\n",
    "cat_idxs =[]\n",
    "for idx, dtype in zip(range(len(aarp.dtypes)), aarp.dtypes):\n",
    "    if dtype == 'category':\n",
    "        cat_idxs.append(idx)"
   ]
  },
  {
   "cell_type": "code",
   "execution_count": 27,
   "id": "d7621142-634b-425d-9812-6a295613d009",
   "metadata": {
    "tags": []
   },
   "outputs": [
    {
     "data": {
      "text/plain": [
       "[4, 5, 6, 8, 9]"
      ]
     },
     "execution_count": 27,
     "metadata": {},
     "output_type": "execute_result"
    }
   ],
   "source": [
    "cat_idxs"
   ]
  },
  {
   "cell_type": "code",
   "execution_count": 28,
   "id": "9147e39f-35dc-48d9-961c-2845b599f207",
   "metadata": {
    "tags": []
   },
   "outputs": [
    {
     "data": {
      "text/plain": [
       "0    883\n",
       "1    404\n",
       "Name: is_si, dtype: int64"
      ]
     },
     "execution_count": 28,
     "metadata": {},
     "output_type": "execute_result"
    }
   ],
   "source": [
    "# now let's see how balanced this is originally\n",
    "aarp_train, aarp_test = train_test_split(aarp, test_size=0.33, random_state=42)\n",
    "\n",
    "# break these up into x and y's\n",
    "x_train = aarp_train.drop(['D9C_recode', 'AGE4_recode', 'is_si'], axis=1)\n",
    "x_test = aarp_test.drop(['D9C_recode', 'AGE4_recode', 'is_si'], axis=1)\n",
    "y_train = aarp_train['is_si']\n",
    "y_test = aarp_test['is_si']\n",
    "\n",
    "y_train.value_counts()"
   ]
  },
  {
   "cell_type": "code",
   "execution_count": 29,
   "id": "cb19ff61-befa-4c9f-980d-2edf1e61ecf5",
   "metadata": {
    "tags": []
   },
   "outputs": [],
   "source": [
    "sm = SMOTENC(random_state=42, categorical_features=cat_idxs)"
   ]
  },
  {
   "cell_type": "code",
   "execution_count": 30,
   "id": "923b9670-7a61-456f-ba98-1c2cfc67e23c",
   "metadata": {
    "tags": []
   },
   "outputs": [],
   "source": [
    "x_bal, y_bal = sm.fit_resample(x_train, y_train)"
   ]
  },
  {
   "cell_type": "code",
   "execution_count": 31,
   "id": "5a80eadf-f684-49fb-9fe6-8dc18c06dde1",
   "metadata": {
    "tags": []
   },
   "outputs": [
    {
     "data": {
      "text/plain": [
       "0    883\n",
       "1    883\n",
       "Name: is_si, dtype: int64"
      ]
     },
     "execution_count": 31,
     "metadata": {},
     "output_type": "execute_result"
    }
   ],
   "source": [
    "y_bal.value_counts()"
   ]
  },
  {
   "cell_type": "markdown",
   "id": "f49a56fc-0dea-4543-87b8-c78c360fdf14",
   "metadata": {},
   "source": [
    "## SMOTENC\n",
    "### okaaaayy that was easy? Let's put it into our age loop.  \n",
    "#### It will clean up some code seeing that we don't need our pandas sample code and if-statement anymore"
   ]
  },
  {
   "cell_type": "code",
   "execution_count": 32,
   "id": "864febd0-5874-4ddb-a877-6fe2aa8e43d8",
   "metadata": {},
   "outputs": [],
   "source": [
    "#Creating dataframes to hold feature importances\n",
    "fi_df1 = pd.DataFrame()\n",
    "fi_df2 = pd.DataFrame()\n",
    "fi_df3 = pd.DataFrame()\n",
    "fi_df4 = pd.DataFrame()\n",
    "summary_plot = pd.DataFrame()"
   ]
  },
  {
   "cell_type": "code",
   "execution_count": 33,
   "id": "b2579c80-1a9a-4bed-bf05-6be585345371",
   "metadata": {
    "tags": []
   },
   "outputs": [
    {
     "name": "stdout",
     "output_type": "stream",
     "text": [
      "\n",
      "---------- score for age 4: 0.693% ----------\n",
      "0.15\tD6_recode\n",
      "0.114\tD8_recode\n",
      "0.107\tD18_recode\n",
      "0.092\tD26_recode\n",
      "0.059\tMARITAL_recode\n",
      "0.091\tEDUC4_recode\n",
      "0.109\tRACETHNICITY_recode\n",
      "0.016\tGENDER_recode\n",
      "0.037\tHHSIZE\n",
      "0.225\tINCOME_recode\n",
      "\n",
      "training set size: \n",
      "1    253\n",
      "0    253\n",
      "Name: is_si, dtype: int64\n",
      "testing set size:  \n",
      "0    124\n",
      "1     29\n",
      "Name: is_si, dtype: int64\n",
      "\n",
      "---------- score for age 2: 0.607% ----------\n",
      "0.116\tD6_recode\n",
      "0.125\tD8_recode\n",
      "0.09\tD18_recode\n",
      "0.034\tD26_recode\n",
      "0.101\tMARITAL_recode\n",
      "0.096\tEDUC4_recode\n",
      "0.082\tRACETHNICITY_recode\n",
      "0.028\tGENDER_recode\n",
      "0.115\tHHSIZE\n",
      "0.213\tINCOME_recode\n",
      "\n",
      "training set size: \n",
      "0    241\n",
      "1    241\n",
      "Name: is_si, dtype: int64\n",
      "testing set size:  \n",
      "0    117\n",
      "1     61\n",
      "Name: is_si, dtype: int64\n",
      "\n",
      "---------- score for age 3: 0.605% ----------\n",
      "0.115\tD6_recode\n",
      "0.163\tD8_recode\n",
      "0.062\tD18_recode\n",
      "0.053\tD26_recode\n",
      "0.032\tMARITAL_recode\n",
      "0.044\tEDUC4_recode\n",
      "0.119\tRACETHNICITY_recode\n",
      "0.022\tGENDER_recode\n",
      "0.193\tHHSIZE\n",
      "0.196\tINCOME_recode\n",
      "\n",
      "training set size: \n",
      "1    221\n",
      "0    221\n",
      "Name: is_si, dtype: int64\n",
      "testing set size:  \n",
      "0    103\n",
      "1     44\n",
      "Name: is_si, dtype: int64\n",
      "\n",
      "---------- score for age 1: 0.535% ----------\n",
      "0.204\tD6_recode\n",
      "0.145\tD8_recode\n",
      "0.026\tD18_recode\n",
      "0.031\tD26_recode\n",
      "0.061\tMARITAL_recode\n",
      "0.021\tEDUC4_recode\n",
      "0.06\tRACETHNICITY_recode\n",
      "0.075\tGENDER_recode\n",
      "0.195\tHHSIZE\n",
      "0.183\tINCOME_recode\n",
      "\n",
      "training set size: \n",
      "1    162\n",
      "0    162\n",
      "Name: is_si, dtype: int64\n",
      "testing set size:  \n",
      "0    84\n",
      "1    75\n",
      "Name: is_si, dtype: int64\n"
     ]
    }
   ],
   "source": [
    "# DT for each age category\n",
    "for ages in aarp['AGE4_recode'].unique():\n",
    "    \n",
    "    # grab aarp for single age group\n",
    "    aged_aarp = aarp.loc[aarp['AGE4_recode'] == ages]\n",
    "    \n",
    "    # split into train and test\n",
    "    aarp_train, aarp_test = train_test_split(aged_aarp, test_size=0.33, random_state=42)\n",
    "\n",
    "    # upsample train set\n",
    "    # first we need the indexes of the categorical columns\n",
    "    # cat_idxs =[]\n",
    "    # for idx, dtype in zip(range(len(aged_aarp.dtypes)), aged_aarp.dtypes):\n",
    "    #     if dtype == 'category':\n",
    "    #         cat_idxs.append(idx)\n",
    "            \n",
    "    # then create our imbalance object\n",
    "    # sm = SMOTENC(random_state=42, categorical_features=cat_idxs)\n",
    "    sm = SMOTEN(random_state=42)\n",
    "    \n",
    "    # manually create x,y test and trains\n",
    "    x_train = aarp_train.drop(['D9C_recode', 'AGE4_recode', 'is_si'], axis=1)\n",
    "    x_test = aarp_test.drop(['D9C_recode', 'AGE4_recode', 'is_si'], axis=1)\n",
    "    y_train = aarp_train['is_si']\n",
    "    y_test = aarp_test['is_si']\n",
    "    \n",
    "    x_train, y_train = sm.fit_resample(x_train, y_train)\n",
    "    \n",
    "    # new decision tree\n",
    "    clf = DecisionTreeClassifier(random_state=42)\n",
    "    \n",
    "    # grid to search\n",
    "    param_grid = { \n",
    "    'max_leaf_nodes': range(2,1000,11),\n",
    "    'max_features': ['auto', 'sqrt', 'log2'], \n",
    "    'max_depth' : range(1,100, 3),\n",
    "    'criterion' :['gini', 'entropy', 'log_loss'],\n",
    "    'max_features': ['sqrt', 'log2', None]\n",
    "}\n",
    "    # new grid search using decision tree and grid from above\n",
    "    CV_DT = GridSearchCV(estimator=clf, param_grid=param_grid, cv= 5, n_jobs=-1) \n",
    "    \n",
    "    # let's 'train'\n",
    "    CV_DT.fit(x_train, y_train)\n",
    "    \n",
    "    # print the results\n",
    "    print(f'\\n---------- score for age {ages}: {round(CV_DT.score(x_test, y_test),3)}% ----------')\n",
    "    \n",
    "    for importance, feature in zip(CV_DT.best_estimator_.feature_importances_, CV_DT.feature_names_in_):\n",
    "        print(f'{round(importance,3)}\\t{feature}')\n",
    "        \n",
    "        #Saving summary data to a dataframe for plots\n",
    "        if ages ==1:\n",
    "            fi_new = {'importance': (round(importance,3)), 'feature': feature}\n",
    "            fi_df1 = pd.concat([fi_df1, pd.DataFrame(fi_new, index=[feature])])#, ignore_index=True)\n",
    "\n",
    "        if ages==2:\n",
    "            fi_new = {'importance': (round(importance,3)), 'feature': feature}\n",
    "            fi_df2 = pd.concat([fi_df2, pd.DataFrame(fi_new, index=[feature])])#, ignore_index=True)\n",
    "            \n",
    "        if ages==3:\n",
    "            fi_new = {'importance': (round(importance,3)), 'feature': feature}\n",
    "            fi_df3 = pd.concat([fi_df3, pd.DataFrame(fi_new, index=[feature])])#, ignore_index=True)\n",
    "\n",
    "        if ages==4:\n",
    "            fi_new = {'importance': (round(importance,3)), 'feature': feature}\n",
    "            fi_df4 = pd.concat([fi_df4, pd.DataFrame(fi_new, index=[feature])])#, ignore_index=True)\n",
    "        \n",
    "    ###### print train and test set sizes\n",
    "    print(f'\\ntraining set size: \\n{y_train.value_counts()}')\n",
    "    print(f'testing set size:  \\n{y_test.value_counts()}')\n",
    "    ###### "
   ]
  },
  {
   "cell_type": "code",
   "execution_count": 34,
   "id": "96d081d3-46de-4821-8945-90327e0b8515",
   "metadata": {},
   "outputs": [],
   "source": [
    "#Add a new column in each summary dataframe that indicates the Age group of the dataframe\n",
    "fi_df1['Age Group'] = '18-29'\n",
    "fi_df2['Age Group'] = '30-44'\n",
    "fi_df3['Age Group'] = '45-59'\n",
    "fi_df4['Age Group'] = '60+'\n",
    "\n",
    "#Create a new data frame to hold data that will be used for plotting\n",
    "summary_plot = pd.concat([fi_df1,fi_df2,fi_df3,fi_df4])"
   ]
  },
  {
   "cell_type": "code",
   "execution_count": 35,
   "id": "e63c6eba-218f-45b3-ac8d-004cc5cf5fc3",
   "metadata": {},
   "outputs": [],
   "source": [
    "summary_plot.replace(to_replace={'D6_recode': 'Overall Health',\n",
    "                         'D8_recode':'Frequency of contact, non-household', \n",
    "                         'D18_recode':'Employment Status',\n",
    "                         'D26_recode':'Community Type',\n",
    "                         'MARITAL_recode':'Marital Status',\n",
    "                         'RACETHNICITY_recode':'Race/Ethnicity',\n",
    "                         'GENDER_recode':'Gender',\n",
    "                         'HHSIZE':'Household Size',\n",
    "                         'EDUC4_recode': 'Education',\n",
    "                         'INCOME_recode': 'Income'},inplace=True)"
   ]
  },
  {
   "cell_type": "code",
   "execution_count": 41,
   "id": "45cb17b5-2498-4b7a-bb54-c06e9e2429a1",
   "metadata": {
    "tags": []
   },
   "outputs": [
    {
     "data": {
      "text/plain": [
       "<matplotlib.legend.Legend at 0x2822c1e90>"
      ]
     },
     "execution_count": 41,
     "metadata": {},
     "output_type": "execute_result"
    },
    {
     "data": {
      "image/png": "[encoded data removed]",
      "text/plain": [
       "<Figure size 800x700 with 1 Axes>"
      ]
     },
     "metadata": {},
     "output_type": "display_data"
    }
   ],
   "source": [
    "#plt.figure(figsize=(10,10))\n",
    "from matplotlib.colors import ListedColormap\n",
    "\n",
    "colors = ['tab:blue', 'tab:green', 'tab:red', 'tab:gray']\n",
    "cmap = ListedColormap(colors)\n",
    "\n",
    "ax = summary_plot.pivot(columns='Age Group', index='feature').plot.barh(figsize=(8,7),rot=0,cmap=cmap)#['tab:blue','tab:green','tab:red','tab:gray'])#\n",
    "\n",
    "\n",
    "plt.title('Variables Affecting Social Isolation AARP', fontsize=18)\n",
    "plt.xlabel('Importance Level',fontsize=15)\n",
    "plt.ylabel('',fontsize=15)\n",
    "plt.legend(labels=['18-26 years old','30-44 years old','45-59 years old','60+ years old'],fontsize=13)\n",
    "#ax.tick_params(axis='x',labelsize=12)\n",
    "#ax.tick_params(axis='y', labelsize=10)\n",
    "# ax.set_yticklabels(['# of Weekday Interactions', 'Mental Health', 'Physical Health','Job Overtime','Married','Participation in Groups','Job Satisfaction','Work From Home'])\n",
    "# plt.setp(ax.yaxis.get_majorticklabels(), ha=\"right\" )"
   ]
  },
  {
   "cell_type": "code",
   "execution_count": null,
   "id": "2a4ca076-c9b7-4ba0-9483-43e99838d352",
   "metadata": {
    "tags": []
   },
   "outputs": [],
   "source": [
    "summary_plot.pivot(index='feature',columns='Age Group')"
   ]
  },
  {
   "cell_type": "code",
   "execution_count": null,
   "id": "86978272-925e-43a6-b8cc-4739b5b48c12",
   "metadata": {},
   "outputs": [],
   "source": []
  }
 ],
 "metadata": {
  "kernelspec": {
   "display_name": "Python [conda env:DTSC] *",
   "language": "python",
   "name": "conda-env-DTSC-py"
  },
  "language_info": {
   "codemirror_mode": {
    "name": "ipython",
    "version": 3
   },
   "file_extension": ".py",
   "mimetype": "text/x-python",
   "name": "python",
   "nbconvert_exporter": "python",
   "pygments_lexer": "ipython3",
   "version": "3.11.0"
  }
 },
 "nbformat": 4,
 "nbformat_minor": 5
}
