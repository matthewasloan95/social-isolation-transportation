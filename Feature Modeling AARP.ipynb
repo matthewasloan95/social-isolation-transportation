{
 "cells": [
  {
   "cell_type": "code",
   "execution_count": 9,
   "id": "431a167c-12a4-4e2f-919a-33fa1ada16fb",
   "metadata": {
    "tags": []
   },
   "outputs": [],
   "source": [
    "# package imports\n",
    "import pandas as pd\n",
    "# from sklearn.model_selection import train_test_split\n",
    "# from sklearn import tree\n",
    "# from sklearn.tree import DecisionTreeClassifier\n",
    "# import matplotlib.pyplot as plt "
   ]
  },
  {
   "cell_type": "code",
   "execution_count": 10,
   "id": "801c554c-1086-402a-aed7-d6cd0fc0ac81",
   "metadata": {
    "tags": []
   },
   "outputs": [],
   "source": [
    "# load data\n",
    "aarp = pd.read_csv('Data/clean_AARP.csv')"
   ]
  },
  {
   "cell_type": "code",
   "execution_count": 13,
   "id": "a8070d94-e57f-4c9e-9fdc-d60e23a83ebb",
   "metadata": {
    "tags": []
   },
   "outputs": [],
   "source": [
    "# list vars\n",
    "model_vars = ['AGE4_recode', 'INCOME', 'D6_recode', 'D8_recode', 'D9C_recode', 'D18_recode', 'D26_recode', 'MARITAL_recode', 'EDUC4_recode', 'RACETHNICITY_recode', 'GENDER_recode', 'HHSIZE', 'INCOME_recode']\n",
    "\n",
    "# aarp be aarp\n",
    "aarp = aarp[model_vars]\n",
    "\n",
    "aarp['RACETHNICITY_recode'] = pd.Categorical(aarp['RACETHNICITY_recode'])\n",
    "aarp['GENDER_recode'] = pd.Categorical(aarp['GENDER_recode'])\n",
    "aarp['MARITAL_recode'] = pd.Categorical(aarp['MARITAL_recode'])\n",
    "aarp['D26_recode'] = pd.Categorical(aarp['D26_recode'])\n",
    "aarp['D18_recode'] = pd.Categorical(aarp['D18_recode'])"
   ]
  },
  {
   "cell_type": "code",
   "execution_count": 14,
   "id": "fb9017c4-c092-42e4-b14d-cc0f213df063",
   "metadata": {
    "tags": []
   },
   "outputs": [
    {
     "data": {
      "text/plain": [
       "AGE4_recode               int64\n",
       "INCOME                   object\n",
       "D6_recode                 int64\n",
       "D8_recode                 int64\n",
       "D9C_recode                int64\n",
       "D18_recode             category\n",
       "D26_recode             category\n",
       "MARITAL_recode         category\n",
       "EDUC4_recode              int64\n",
       "RACETHNICITY_recode    category\n",
       "GENDER_recode          category\n",
       "HHSIZE                    int64\n",
       "INCOME_recode             int64\n",
       "dtype: object"
      ]
     },
     "execution_count": 14,
     "metadata": {},
     "output_type": "execute_result"
    }
   ],
   "source": [
    "aarp.dtypes"
   ]
  },
  {
   "cell_type": "code",
   "execution_count": null,
   "id": "9b887930-1325-44b2-a237-8148e7bb1f17",
   "metadata": {},
   "outputs": [],
   "source": []
  }
 ],
 "metadata": {
  "kernelspec": {
   "display_name": "Python [conda env:DTSC] *",
   "language": "python",
   "name": "conda-env-DTSC-py"
  },
  "language_info": {
   "codemirror_mode": {
    "name": "ipython",
    "version": 3
   },
   "file_extension": ".py",
   "mimetype": "text/x-python",
   "name": "python",
   "nbconvert_exporter": "python",
   "pygments_lexer": "ipython3",
   "version": "3.11.0"
  }
 },
 "nbformat": 4,
 "nbformat_minor": 5
}
