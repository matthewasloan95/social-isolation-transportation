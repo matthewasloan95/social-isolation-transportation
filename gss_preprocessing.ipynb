{
 "cells": [
  {
   "cell_type": "code",
   "execution_count": 1,
   "metadata": {
    "tags": []
   },
   "outputs": [
    {
     "name": "stderr",
     "output_type": "stream",
     "text": [
      "C:\\Users\\dnhor\\anaconda3\\lib\\site-packages\\pandas\\core\\computation\\expressions.py:20: UserWarning: Pandas requires version '2.7.3' or newer of 'numexpr' (version '2.7.1' currently installed).\n",
      "  from pandas.core.computation.check import NUMEXPR_INSTALLED\n"
     ]
    }
   ],
   "source": [
    "import pandas as pd"
   ]
  },
  {
   "cell_type": "code",
   "execution_count": 2,
   "metadata": {
    "tags": []
   },
   "outputs": [],
   "source": [
    "gss = pd.read_csv('Data/gss18.csv', low_memory=False)"
   ]
  },
  {
   "cell_type": "code",
   "execution_count": 3,
   "metadata": {
    "tags": []
   },
   "outputs": [],
   "source": [
    "interesting_variables = ['LONELY2', 'SATJOB', 'MOREDAYS', 'WRKHOME', 'HLTHPHYS', 'HLTHMNTL', 'CONWKDAY', 'PARTLSC', 'AGE','MARITAL','INTCNTCT']\n",
    "\n",
    "# GSS rid of HOMPOP, will HOUSEHOLD SIZE use from AARP\n",
    "gss = gss[interesting_variables]"
   ]
  },
  {
   "cell_type": "code",
   "execution_count": 4,
   "metadata": {
    "tags": []
   },
   "outputs": [
    {
     "name": "stdout",
     "output_type": "stream",
     "text": [
      "0.503%\t1182 null values in LONELY2\n",
      "0.259%\t609 null values in SATJOB\n",
      "0.403%\t947 null values in MOREDAYS\n",
      "0.396%\t930 null values in WRKHOME\n",
      "0.008%\t19 null values in HLTHPHYS\n",
      "0.008%\t19 null values in HLTHMNTL\n",
      "0.503%\t1180 null values in CONWKDAY\n",
      "0.503%\t1182 null values in PARTLSC\n",
      "0.003%\t7 null values in AGE\n",
      "0.001%\t2 null values in MARITAL\n",
      "0.502%\t1179 null values in INTCNTCT\n"
     ]
    }
   ],
   "source": [
    "# how many nulls?\n",
    "# Loop through each column\n",
    "# and check the amount of nulls.\n",
    "# Only print if there are more than 0.\n",
    "\n",
    "for col in gss.columns:\n",
    "    if gss[col].isnull().sum() > 0:\n",
    "        print(f'{round(gss[col].isnull().sum()/gss.shape[0],3)}%\\t{gss[col].isnull().sum()} null values in {col}')"
   ]
  },
  {
   "cell_type": "code",
   "execution_count": 5,
   "metadata": {
    "tags": []
   },
   "outputs": [],
   "source": [
    "# recode social isolation\n",
    "gss['is_si'] = gss['LONELY2'].apply(lambda x: 1 if (x == 3 or x == 4 or x == 5) else 0)"
   ]
  },
  {
   "cell_type": "code",
   "execution_count": 6,
   "metadata": {},
   "outputs": [],
   "source": [
    "# recode marital status to married/not married\n",
    "\n",
    "gss['marital_cat']= gss['MARITAL'].apply(lambda x: 1 if (x==1) else 0)"
   ]
  },
  {
   "cell_type": "code",
   "execution_count": 8,
   "metadata": {},
   "outputs": [],
   "source": [
    "gss['SATJOB']= gss['SATJOB'].map({1.0: 4, 2.0: 3, 3.0: 2, 4.0: 1})"
   ]
  },
  {
   "cell_type": "code",
   "execution_count": 9,
   "metadata": {},
   "outputs": [],
   "source": [
    "gss['HLTHPHYS']= gss['HLTHPHYS'].map({1.0: 5, 2.0: 4, 3.0: 3, 4.0: 2, 5.0: 1})"
   ]
  },
  {
   "cell_type": "code",
   "execution_count": 10,
   "metadata": {},
   "outputs": [],
   "source": [
    "gss['HLTHMNTL']= gss['HLTHMNTL'].map({1.0: 5, 2.0: 4, 3.0: 3, 4.0: 2, 5.0: 1})"
   ]
  },
  {
   "cell_type": "code",
   "execution_count": 11,
   "metadata": {},
   "outputs": [],
   "source": [
    "gss['PARTLSC']= gss['PARTLSC'].map({1.0: 5, 2.0: 4, 3.0: 3, 4.0: 2, 5.0: 1})"
   ]
  },
  {
   "cell_type": "code",
   "execution_count": 14,
   "metadata": {},
   "outputs": [],
   "source": [
    "gss['INTCNTCT']= gss['INTCNTCT'].map({1.0: 6, 2.0: 5, 3.0: 4, 4.0: 3, 5.0: 2, 6.0: 1})"
   ]
  },
  {
   "cell_type": "code",
   "execution_count": 16,
   "metadata": {
    "tags": []
   },
   "outputs": [],
   "source": [
    "bins = [-1,0,7,14,21,31]\n",
    "\n",
    "gss['MOREWEEKS'] = pd.cut(gss['MOREDAYS'],bins,labels=['0','1','2','3','4'])\n",
    "####### Work days ########"
   ]
  },
  {
   "cell_type": "code",
   "execution_count": 17,
   "metadata": {
    "tags": []
   },
   "outputs": [],
   "source": [
    "bins = [18,29,44,59,89]\n",
    "\n",
    "gss['Age Group'] = pd.cut(gss['AGE'],bins,labels=[1,2,3,4])\n",
    "####### Age group ########"
   ]
  },
  {
   "cell_type": "code",
   "execution_count": 18,
   "metadata": {
    "tags": []
   },
   "outputs": [],
   "source": [
    "#bins= [0,11,12,15,21]\n",
    "\n",
    "#gss['EDUC'] = pd.cut(gss['EDUC'],bins,labels=[1,2,3,4])#labels=['No HS Diploma','HS Graduate','Some College','BA or Above'])\n",
    "######## EDUCATION ######"
   ]
  },
  {
   "cell_type": "code",
   "execution_count": 19,
   "metadata": {
    "tags": []
   },
   "outputs": [],
   "source": [
    "gss = gss.dropna()"
   ]
  },
  {
   "cell_type": "code",
   "execution_count": 20,
   "metadata": {},
   "outputs": [
    {
     "data": {
      "text/plain": [
       "5.0    227\n",
       "6.0    172\n",
       "4.0    165\n",
       "3.0     98\n",
       "2.0     27\n",
       "Name: INTCNTCT, dtype: int64"
      ]
     },
     "execution_count": 20,
     "metadata": {},
     "output_type": "execute_result"
    }
   ],
   "source": [
    "gss['INTCNTCT'].value_counts()"
   ]
  },
  {
   "cell_type": "code",
   "execution_count": 21,
   "metadata": {
    "tags": []
   },
   "outputs": [],
   "source": [
    "gss.to_csv('Data/clean_gss.csv')"
   ]
  },
  {
   "cell_type": "code",
   "execution_count": null,
   "metadata": {},
   "outputs": [],
   "source": []
  }
 ],
 "metadata": {
  "kernelspec": {
   "display_name": "Python 3",
   "language": "python",
   "name": "python3"
  },
  "language_info": {
   "codemirror_mode": {
    "name": "ipython",
    "version": 3
   },
   "file_extension": ".py",
   "mimetype": "text/x-python",
   "name": "python",
   "nbconvert_exporter": "python",
   "pygments_lexer": "ipython3",
   "version": "3.8.5"
  }
 },
 "nbformat": 4,
 "nbformat_minor": 4
}
