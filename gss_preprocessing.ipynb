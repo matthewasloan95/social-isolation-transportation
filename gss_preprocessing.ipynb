{
 "cells": [
  {
   "cell_type": "code",
   "execution_count": 36,
   "metadata": {
    "tags": []
   },
   "outputs": [],
   "source": [
    "import pandas as pd"
   ]
  },
  {
   "cell_type": "code",
   "execution_count": 37,
   "metadata": {
    "tags": []
   },
   "outputs": [],
   "source": [
    "gss = pd.read_csv('Data/gss18.csv', low_memory=False)"
   ]
  },
  {
   "cell_type": "code",
   "execution_count": 38,
   "metadata": {
    "tags": []
   },
   "outputs": [],
   "source": [
    "interesting_variables = ['LONELY2', 'SATJOB', 'MOREDAYS', 'WRKHOME', 'HLTHPHYS', 'HLTHMNTL', 'CONWKDAY', 'PARTLSC', 'AGE','MARITAL','INTCNTCT']\n",
    "\n",
    "# GSS rid of HOMPOP, will HOUSEHOLD SIZE use from AARP\n",
    "gss = gss[interesting_variables]"
   ]
  },
  {
   "cell_type": "code",
   "execution_count": 39,
   "metadata": {
    "tags": []
   },
   "outputs": [
    {
     "name": "stdout",
     "output_type": "stream",
     "text": [
      "0.503%\t1182 null values in LONELY2\n",
      "0.259%\t609 null values in SATJOB\n",
      "0.403%\t947 null values in MOREDAYS\n",
      "0.396%\t930 null values in WRKHOME\n",
      "0.008%\t19 null values in HLTHPHYS\n",
      "0.008%\t19 null values in HLTHMNTL\n",
      "0.503%\t1180 null values in CONWKDAY\n",
      "0.503%\t1182 null values in PARTLSC\n",
      "0.003%\t7 null values in AGE\n",
      "0.001%\t2 null values in MARITAL\n",
      "0.502%\t1179 null values in INTCNTCT\n"
     ]
    }
   ],
   "source": [
    "# how many nulls?\n",
    "# Loop through each column\n",
    "# and check the amount of nulls.\n",
    "# Only print if there are more than 0.\n",
    "\n",
    "for col in gss.columns:\n",
    "    if gss[col].isnull().sum() > 0:\n",
    "        print(f'{round(gss[col].isnull().sum()/gss.shape[0],3)}%\\t{gss[col].isnull().sum()} null values in {col}')"
   ]
  },
  {
   "cell_type": "code",
   "execution_count": 40,
   "metadata": {
    "tags": []
   },
   "outputs": [],
   "source": [
    "# recode social isolation\n",
    "gss['is_si'] = gss['LONELY2'].apply(lambda x: 1 if (x == 3 or x == 4 or x == 5) else 0)"
   ]
  },
  {
   "cell_type": "code",
   "execution_count": 41,
   "metadata": {},
   "outputs": [],
   "source": [
    "# recode marital status to married/not married\n",
    "\n",
    "gss['marital_cat']= gss['MARITAL'].apply(lambda x: 1 if (x==1) else 0)"
   ]
  },
  {
   "cell_type": "code",
   "execution_count": 42,
   "metadata": {
    "tags": []
   },
   "outputs": [],
   "source": [
    "bins = [-1,0,7,14,21,31]\n",
    "\n",
    "gss['MOREWEEKS'] = pd.cut(gss['MOREDAYS'],bins,labels=['0','1','2','3','4'])\n",
    "####### Work days ########"
   ]
  },
  {
   "cell_type": "code",
   "execution_count": 43,
   "metadata": {
    "tags": []
   },
   "outputs": [],
   "source": [
    "bins = [18,29,44,59,89]\n",
    "\n",
    "gss['Age Group'] = pd.cut(gss['AGE'],bins,labels=[1,2,3,4])\n",
    "####### Age group ########"
   ]
  },
  {
   "cell_type": "code",
   "execution_count": 44,
   "metadata": {
    "tags": []
   },
   "outputs": [],
   "source": [
    "#bins= [0,11,12,15,21]\n",
    "\n",
    "#gss['EDUC'] = pd.cut(gss['EDUC'],bins,labels=[1,2,3,4])#labels=['No HS Diploma','HS Graduate','Some College','BA or Above'])\n",
    "######## EDUCATION ######"
   ]
  },
  {
   "cell_type": "code",
   "execution_count": 45,
   "metadata": {
    "tags": []
   },
   "outputs": [],
   "source": [
    "gss = gss.dropna()"
   ]
  },
  {
   "cell_type": "code",
   "execution_count": 46,
   "metadata": {},
   "outputs": [
    {
     "data": {
      "text/plain": [
       "2.0    227\n",
       "1.0    172\n",
       "3.0    165\n",
       "4.0     98\n",
       "5.0     27\n",
       "Name: INTCNTCT, dtype: int64"
      ]
     },
     "execution_count": 46,
     "metadata": {},
     "output_type": "execute_result"
    }
   ],
   "source": [
    "gss['INTCNTCT'].value_counts()"
   ]
  },
  {
   "cell_type": "code",
   "execution_count": 47,
   "metadata": {
    "tags": []
   },
   "outputs": [],
   "source": [
    "gss.to_csv('Data/clean_gss.csv')"
   ]
  },
  {
   "cell_type": "code",
   "execution_count": null,
   "metadata": {},
   "outputs": [],
   "source": []
  }
 ],
 "metadata": {
  "kernelspec": {
   "display_name": "Python 3",
   "language": "python",
   "name": "python3"
  },
  "language_info": {
   "codemirror_mode": {
    "name": "ipython",
    "version": 3
   },
   "file_extension": ".py",
   "mimetype": "text/x-python",
   "name": "python",
   "nbconvert_exporter": "python",
   "pygments_lexer": "ipython3",
   "version": "3.8.5"
  }
 },
 "nbformat": 4,
 "nbformat_minor": 4
}
