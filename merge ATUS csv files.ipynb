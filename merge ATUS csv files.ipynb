{
 "cells": [
  {
   "cell_type": "code",
   "execution_count": 2,
   "id": "49d2afaa-7419-4ba0-ae71-23a01236ef91",
   "metadata": {
    "tags": []
   },
   "outputs": [],
   "source": [
    "# imports\n",
    "import pandas as pd"
   ]
  },
  {
   "cell_type": "code",
   "execution_count": 3,
   "id": "61f8c986-3f8d-4eda-afa2-5402cd478494",
   "metadata": {
    "tags": []
   },
   "outputs": [],
   "source": [
    "# cols to use\n",
    "############## ADD TO THIS LIST IF YOU WANT TO ADD MORE ##############\n",
    "# want to add---\n",
    "colms = ['PREMPNOT','PEMARITL', 'PRTAGE', 'PTDTRACE', 'HEFAMINC', 'HEHOUSUT', 'GEREG', 'HRHTYPE', 'HRNUMHOU', 'PEEDUCA', 'PEDISOUT', 'PEDISREM', 'PESEX', 't120101', 't120308', 'TRTALONE']"
   ]
  },
  {
   "cell_type": "code",
   "execution_count": 16,
   "id": "de61570e-9d6f-4bb0-ba30-4f621f3858fe",
   "metadata": {
    "tags": []
   },
   "outputs": [],
   "source": [
    "# loading each individual ASUS file (pre converted to parquet)\n",
    "# and managing some columns we don't need yet in the large ones\n",
    "\n",
    "df1 = pd.read_csv('Data/ATUS/atusact_2018.csv') # this one is fine\n",
    "\n",
    "df2 = pd.read_csv('Data/ATUS/atussum_2018.csv') # we need to remove a lot of colms before we merge\n",
    "# for colm in df2.columns:\n",
    "#     if 't0' in str(colm) or 't1' in str(colm) or 't5' in str(colm):\n",
    "#         df2 = df2.drop(columns=colm)\n",
    "        \n",
    "df3 = pd.read_csv('Data/ATUS/atuswho_2018.csv') # this one is fine\n",
    "\n",
    "# this one is like 60mb as a csv so it is a parquet \n",
    "df4 = pd.read_parquet('Data/ATUS/atuscps_2018.parquet') # this one... has a lot. Not merging yet\n",
    "# df4 = df4[['TUCASEID', 'PEEDUCA', 'PEDISOUT', 'PEDISREM', 'PREMPNOT','PEMARITL', 'PRTAGE', 'PTDTRACE']]\n",
    "\n",
    "df5 = pd.read_csv('Data/ATUS/atusrostec_2018.csv') # this one is fine\n",
    "\n",
    "df6 = pd.read_csv('Data/ATUS/atusresp_2018.csv') # this one also has a lot. Not merging yet\n",
    "\n",
    "df7 = pd.read_csv('Data/ATUS/atusrost_2018.csv') # this one is fine"
   ]
  },
  {
   "cell_type": "code",
   "execution_count": 9,
   "id": "032adcca-d3c3-4e38-ab81-3b08f5153c67",
   "metadata": {
    "tags": []
   },
   "outputs": [
    {
     "name": "stderr",
     "output_type": "stream",
     "text": [
      "/var/folders/dl/7fdpm9yx3jj7qxjmtbg0tnwm0000gn/T/ipykernel_7855/3154981231.py:9: FutureWarning: Passing 'suffixes' which cause duplicate columns {'Unnamed: 0_x'} in the result is deprecated and will raise a MergeError in a future version.\n",
      "  merged_df = merged_df.merge(df4, on='TUCASEID')# , how='left')\n",
      "/var/folders/dl/7fdpm9yx3jj7qxjmtbg0tnwm0000gn/T/ipykernel_7855/3154981231.py:18: FutureWarning: Passing 'suffixes' which cause duplicate columns {'Unnamed: 0_x', 'TULINENO_x'} in the result is deprecated and will raise a MergeError in a future version.\n",
      "  merged_df = merged_df.merge(df7, on='TUCASEID')#, how='left')\n"
     ]
    }
   ],
   "source": [
    "# merging df's\n",
    "\n",
    "merged_df = df1.merge(df2, on='TUCASEID')#, how='left')\n",
    "merged_df.drop_duplicates(subset='TUCASEID', inplace=True)\n",
    "\n",
    "merged_df = merged_df.merge(df3, on='TUCASEID')#, how='left')\n",
    "merged_df.drop_duplicates(subset='TUCASEID', inplace=True)\n",
    "\n",
    "merged_df = merged_df.merge(df4, on='TUCASEID')# , how='left')\n",
    "merged_df.drop_duplicates(subset='TUCASEID', inplace=True)\n",
    "\n",
    "# merged_df = merged_df.merge(df5, on='TUCASEID')#, how='left')\n",
    "# merged_df.drop_duplicates(subset='TUCASEID', inplace=True)\n",
    "\n",
    "merged_df = merged_df.merge(df6, on='TUCASEID')\n",
    "merged_df.drop_duplicates(subset='TUCASEID', inplace=True)\n",
    "\n",
    "merged_df = merged_df.merge(df7, on='TUCASEID')#, how='left')\n",
    "merged_df.drop_duplicates(subset='TUCASEID', inplace=True)\n",
    "\n",
    "# why must I do df4 again?\n",
    "\n",
    "merged_df = merged_df.merge(df4[['TUCASEID', 'PEEDUCA', 'PTDTRACE', 'GEREG']], on='TUCASEID')\n",
    "merged_df.drop_duplicates(subset='TUCASEID', inplace = True)\n",
    "\n",
    "merged_df = merged_df.merge(df4[['TUCASEID', 'GEREG']], on='TUCASEID')\n",
    "merged_df.drop_duplicates(subset='TUCASEID', inplace = True)"
   ]
  },
  {
   "cell_type": "code",
   "execution_count": 10,
   "id": "dcb73312-1cfc-4cee-a12e-539f926112cc",
   "metadata": {
    "tags": []
   },
   "outputs": [
    {
     "data": {
      "text/plain": [
       "(9593, 1031)"
      ]
     },
     "execution_count": 10,
     "metadata": {},
     "output_type": "execute_result"
    }
   ],
   "source": [
    "merged_df.shape"
   ]
  },
  {
   "cell_type": "code",
   "execution_count": 11,
   "id": "64bdccca-3e84-4b76-ade2-8a8c907972f9",
   "metadata": {
    "tags": []
   },
   "outputs": [],
   "source": [
    "# are we missing any?\n",
    "# if there is no output then there are no missing variables\n",
    "for x in colms:\n",
    "    if x not in merged_df.columns:\n",
    "        print(x)"
   ]
  },
  {
   "cell_type": "code",
   "execution_count": 12,
   "id": "b0e1aa9e-a88c-4220-bf50-e9459c03c775",
   "metadata": {
    "tags": []
   },
   "outputs": [],
   "source": [
    "# good, let's save as our csv to use\n",
    "merged_df.to_csv('Data/ATUS/most_ATUS_merged_2018_dupes_dropped.csv')"
   ]
  },
  {
   "cell_type": "code",
   "execution_count": 13,
   "id": "671219b1-d5b8-46b6-b6fc-9b7d42967796",
   "metadata": {
    "tags": []
   },
   "outputs": [
    {
     "name": "stdout",
     "output_type": "stream",
     "text": [
      "PREMPNOT is found in\tThe ATUS-CPS file\n",
      "PEMARITL is found in\tThe ATUS-CPS file\n",
      "PRTAGE is found in\tThe ATUS-CPS file\n",
      "PTDTRACE is found in\tThe Activity summary file\n",
      "PTDTRACE is found in\tThe ATUS-CPS file\n",
      "HEFAMINC is found in\tThe ATUS-CPS file\n",
      "HEHOUSUT is found in\tThe ATUS-CPS file\n",
      "GEREG is found in\tThe ATUS-CPS file\n",
      "HRHTYPE is found in\tThe ATUS-CPS file\n",
      "HRNUMHOU is found in\tThe ATUS-CPS file\n",
      "PEEDUCA is found in\tThe Activity summary file\n",
      "PEEDUCA is found in\tThe ATUS-CPS file\n",
      "PEDISOUT is found in\tThe ATUS-CPS file\n",
      "PEDISREM is found in\tThe ATUS-CPS file\n",
      "PESEX is found in\tThe ATUS-CPS file\n",
      "t120101 is found in\tThe Activity summary file\n",
      "t120308 is found in\tThe Activity summary file\n",
      "TRTALONE is found in\tThe Respondent file\n"
     ]
    }
   ],
   "source": [
    "# checking which files have which vars\n",
    "var_dict = {'df1': 'The Activity file ',\n",
    "            'df2': 'The Activity summary file',\n",
    "            'df3': 'The Who file',\n",
    "            'df4': 'The ATUS-CPS file',\n",
    "            'df5': '<not merged> The Eldercare Roster file', \n",
    "            'df6': 'The Respondent file',\n",
    "            'df7': 'The Roster file'}\n",
    "\n",
    "for x in colms:\n",
    "    if x in df1:\n",
    "        print(f'{x} is found in\\t' + var_dict['df1'])\n",
    "    if x in df2:\n",
    "        print(f'{x} is found in\\t' + var_dict['df2'])\n",
    "    if x in df3:\n",
    "        print(f'{x} is found in\\t' + var_dict['df3'])\n",
    "    if x in df4:\n",
    "        print(f'{x} is found in\\t' + var_dict['df4'])\n",
    "    if x in df5:\n",
    "        print(f'{x} is found in\\t' + var_dict['df5'])\n",
    "    if x in df6:\n",
    "        print(f'{x} is found in\\t' + var_dict['df6'])\n",
    "    if x in df7:\n",
    "        print(f'{x} is found in\\t' + var_dict['df7'])"
   ]
  },
  {
   "cell_type": "code",
   "execution_count": 14,
   "id": "1233d1c5-0cfa-4e3a-828a-3377af621035",
   "metadata": {
    "tags": []
   },
   "outputs": [
    {
     "data": {
      "text/plain": [
       "0      572\n",
       "1      990\n",
       "2        1\n",
       "3       47\n",
       "4      200\n",
       "5      810\n",
       "6       45\n",
       "7      900\n",
       "8      155\n",
       "9        0\n",
       "10     185\n",
       "11     128\n",
       "12     895\n",
       "13      71\n",
       "14      75\n",
       "15     368\n",
       "16     200\n",
       "17     140\n",
       "18      60\n",
       "19     300\n",
       "20     123\n",
       "21     210\n",
       "22     525\n",
       "23      10\n",
       "24     405\n",
       "25    1090\n",
       "26     316\n",
       "27     630\n",
       "28     255\n",
       "29     240\n",
       "Name: TRTALONE, dtype: int64"
      ]
     },
     "execution_count": 14,
     "metadata": {},
     "output_type": "execute_result"
    }
   ],
   "source": [
    "df6.head(30)['TRTALONE']"
   ]
  },
  {
   "cell_type": "code",
   "execution_count": null,
   "id": "71438c0a-40ea-4874-9eef-893dd3549fe0",
   "metadata": {},
   "outputs": [],
   "source": []
  }
 ],
 "metadata": {
  "kernelspec": {
   "display_name": "Python [conda env:DTSC] *",
   "language": "python",
   "name": "conda-env-DTSC-py"
  },
  "language_info": {
   "codemirror_mode": {
    "name": "ipython",
    "version": 3
   },
   "file_extension": ".py",
   "mimetype": "text/x-python",
   "name": "python",
   "nbconvert_exporter": "python",
   "pygments_lexer": "ipython3",
   "version": "3.11.0"
  }
 },
 "nbformat": 4,
 "nbformat_minor": 5
}
