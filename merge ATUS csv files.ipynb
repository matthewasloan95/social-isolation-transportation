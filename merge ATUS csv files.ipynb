{
 "cells": [
  {
   "cell_type": "code",
   "execution_count": 1,
   "id": "49d2afaa-7419-4ba0-ae71-23a01236ef91",
   "metadata": {
    "tags": []
   },
   "outputs": [],
   "source": [
    "# imports\n",
    "import pandas as pd"
   ]
  },
  {
   "cell_type": "code",
   "execution_count": 2,
   "id": "61f8c986-3f8d-4eda-afa2-5402cd478494",
   "metadata": {
    "tags": []
   },
   "outputs": [],
   "source": [
    "# cols to use\n",
    "############## ADD TO THIS LIST IF YOU WANT TO ADD MORE ##############\n",
    "colms = ['PREMPNOT','PEMARITL', 'PRTAGE', 'PTDTRACE', 'HEFAMINC', 'HEHOUSUT', 'GEREG', 'HRHTYPE', 'HRNUMHOU', 'PEEDUCA', 'PEDISOUT', 'PEDISREM', 'PESEX']"
   ]
  },
  {
   "cell_type": "code",
   "execution_count": 3,
   "id": "de61570e-9d6f-4bb0-ba30-4f621f3858fe",
   "metadata": {
    "tags": []
   },
   "outputs": [],
   "source": [
    "# loading each individual ASUS file (pre converted to parquet)\n",
    "# and managing some columns we don't need yet in the large ones\n",
    "\n",
    "df1 = pd.read_parquet('Data/ATUS/atusact_2017.parquet') # this one is fine\n",
    "\n",
    "df2 = pd.read_parquet('Data/ATUS/atussum_2017.parquet') # we need to remove a lot of colms before we merge\n",
    "for colm in df2.columns:\n",
    "    if 't0' in str(colm) or 't1' in str(colm) or 't5' in str(colm):\n",
    "        df2 = df2.drop(columns=colm)\n",
    "        \n",
    "df3 = pd.read_parquet('Data/ATUS/atuswho_2017.parquet') # this one is fine\n",
    "\n",
    "df4 = pd.read_parquet('Data/ATUS/atuscps_2017.parquet') # this one... has a lot. Not merging yet\n",
    "# df4 = df4[['TUCASEID', 'PEEDUCA', 'PEDISOUT', 'PEDISREM', 'PREMPNOT','PEMARITL', 'PRTAGE', 'PTDTRACE']]\n",
    "\n",
    "df5 = pd.read_parquet('Data/ATUS/atusrostec_2017.parquet') # this one is fine\n",
    "\n",
    "df6 = pd.read_parquet('Data/ATUS/atusresp_2017.parquet') # this one also has a lot. Not merging yet\n",
    "\n",
    "df7 = pd.read_parquet('Data/ATUS/atusrost_2017.parquet') # this one is fine\n",
    "\n",
    "# saving these as parquet files because they take up next to 0 space (compared to csv's)\n",
    "\n",
    "    # df1.to_parquet('Data/ATUS/atusact_2017.parquet')\n",
    "    # df2.to_parquet('Data/ATUS/atussum_2017.parquet')\n",
    "    # df3.to_parquet('Data/ATUS/atuswho_2017.parquet')\n",
    "    # df4.to_parquet('Data/ATUS/atuscps_2017.parquet')\n",
    "    # df5.to_parquet('Data/ATUS/atusrostec_2017.parquet')\n",
    "    # df6.to_parquet('Data/ATUS/atusresp_2017.parquet')\n",
    "    # df7.to_parquet('Data/ATUS/atusrost_2017.parquet')"
   ]
  },
  {
   "cell_type": "code",
   "execution_count": 4,
   "id": "032adcca-d3c3-4e38-ab81-3b08f5153c67",
   "metadata": {
    "tags": []
   },
   "outputs": [
    {
     "name": "stderr",
     "output_type": "stream",
     "text": [
      "/var/folders/dl/7fdpm9yx3jj7qxjmtbg0tnwm0000gn/T/ipykernel_5387/3154981231.py:18: FutureWarning: Passing 'suffixes' which cause duplicate columns {'TULINENO_x'} in the result is deprecated and will raise a MergeError in a future version.\n",
      "  merged_df = merged_df.merge(df7, on='TUCASEID')#, how='left')\n"
     ]
    }
   ],
   "source": [
    "# merging df's\n",
    "\n",
    "merged_df = df1.merge(df2, on='TUCASEID')#, how='left')\n",
    "merged_df.drop_duplicates(subset='TUCASEID', inplace=True)\n",
    "\n",
    "merged_df = merged_df.merge(df3, on='TUCASEID')#, how='left')\n",
    "merged_df.drop_duplicates(subset='TUCASEID', inplace=True)\n",
    "\n",
    "merged_df = merged_df.merge(df4, on='TUCASEID')# , how='left')\n",
    "merged_df.drop_duplicates(subset='TUCASEID', inplace=True)\n",
    "\n",
    "# merged_df = merged_df.merge(df5, on='TUCASEID')#, how='left')\n",
    "# merged_df.drop_duplicates(subset='TUCASEID', inplace=True)\n",
    "\n",
    "merged_df = merged_df.merge(df6, on='TUCASEID')\n",
    "merged_df.drop_duplicates(subset='TUCASEID', inplace=True)\n",
    "\n",
    "merged_df = merged_df.merge(df7, on='TUCASEID')#, how='left')\n",
    "merged_df.drop_duplicates(subset='TUCASEID', inplace=True)\n",
    "\n",
    "# why must I do df4 again?\n",
    "\n",
    "merged_df = merged_df.merge(df4[['TUCASEID', 'PEEDUCA', 'PTDTRACE', 'GEREG']], on='TUCASEID')\n",
    "merged_df.drop_duplicates(subset='TUCASEID', inplace = True)\n",
    "\n",
    "merged_df = merged_df.merge(df4[['TUCASEID', 'GEREG']], on='TUCASEID')\n",
    "merged_df.drop_duplicates(subset='TUCASEID', inplace = True)"
   ]
  },
  {
   "cell_type": "code",
   "execution_count": 8,
   "id": "dcb73312-1cfc-4cee-a12e-539f926112cc",
   "metadata": {
    "tags": []
   },
   "outputs": [
    {
     "data": {
      "text/plain": [
       "(10223, 623)"
      ]
     },
     "execution_count": 8,
     "metadata": {},
     "output_type": "execute_result"
    }
   ],
   "source": [
    "merged_df.shape"
   ]
  },
  {
   "cell_type": "code",
   "execution_count": 7,
   "id": "64bdccca-3e84-4b76-ade2-8a8c907972f9",
   "metadata": {
    "tags": []
   },
   "outputs": [],
   "source": [
    "# are we missing any?\n",
    "for x in colms:\n",
    "    if x not in merged_df.columns:\n",
    "        print(x)"
   ]
  },
  {
   "cell_type": "code",
   "execution_count": 11,
   "id": "b0e1aa9e-a88c-4220-bf50-e9459c03c775",
   "metadata": {
    "tags": []
   },
   "outputs": [],
   "source": [
    "# good, let's save as our csv to use\n",
    "merged_df.to_csv('Data/ATUS/most_ATUS_merged_2017_dupes_dropped.csv')"
   ]
  },
  {
   "cell_type": "code",
   "execution_count": null,
   "id": "fcf9dff9-1766-40ef-a477-19a4473e3f8b",
   "metadata": {},
   "outputs": [],
   "source": []
  }
 ],
 "metadata": {
  "kernelspec": {
   "display_name": "Python [conda env:DTSC] *",
   "language": "python",
   "name": "conda-env-DTSC-py"
  },
  "language_info": {
   "codemirror_mode": {
    "name": "ipython",
    "version": 3
   },
   "file_extension": ".py",
   "mimetype": "text/x-python",
   "name": "python",
   "nbconvert_exporter": "python",
   "pygments_lexer": "ipython3",
   "version": "3.11.0"
  }
 },
 "nbformat": 4,
 "nbformat_minor": 5
}
