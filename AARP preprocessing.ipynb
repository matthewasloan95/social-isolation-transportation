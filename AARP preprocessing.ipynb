{
 "cells": [
  {
   "cell_type": "code",
   "execution_count": 1,
   "id": "bea5155b-a6b7-4cbd-b271-40cbbdbd19af",
   "metadata": {
    "tags": []
   },
   "outputs": [],
   "source": [
    "# imports\n",
    "import pandas as pd\n",
    "from pandas.api.types import CategoricalDtype"
   ]
  },
  {
   "cell_type": "code",
   "execution_count": 2,
   "id": "5718a4fb-5876-4d5d-8f6d-692487a7102a",
   "metadata": {
    "tags": []
   },
   "outputs": [],
   "source": [
    "# load aarp\n",
    "AARP = pd.read_csv('Data/aarp.csv', low_memory=False)"
   ]
  },
  {
   "cell_type": "code",
   "execution_count": 3,
   "id": "a784d7d2-941e-4602-ad61-0f96ee371704",
   "metadata": {
    "tags": []
   },
   "outputs": [],
   "source": [
    "# list of vars\n",
    "interesting_variables = ['AGE4', 'INCOME', 'D6', 'D8', 'D9C', 'D18', 'D26', 'MARITAL', 'EDUC4', 'RACETHNICITY', 'GENDER', 'HHSIZE']\n",
    "                         \n",
    "# d6: how is your health?\n",
    "# d8: How often do you have contact with family, friends, or neighbors who do not live with you?\n",
    "# D9C How often you feel isolated?\n",
    "# D18 What is your current employment status?\n",
    "# D26. Which best describes the community where you live?\n",
    "# MARITAL. Marital status\n",
    "# EDUC4. 4-level education\n",
    "\n",
    "AARP = AARP[interesting_variables]"
   ]
  },
  {
   "cell_type": "markdown",
   "id": "193eab7c-cf48-46a5-93e8-540508724c7f",
   "metadata": {},
   "source": [
    "### Checking Nulls"
   ]
  },
  {
   "cell_type": "code",
   "execution_count": 4,
   "id": "1cb08386-b2e6-4534-879a-e7c9a4f1e833",
   "metadata": {
    "tags": []
   },
   "outputs": [],
   "source": [
    "# how many nulls?\n",
    "# Loop through each column\n",
    "# and check the amount of nulls.\n",
    "# Only print if there are more than 0.\n",
    "\n",
    "for col in AARP.columns:\n",
    "    if AARP[col].isnull().sum() > 0:\n",
    "        print(f'{round(AARP[col].isnull().sum()/AARP.shape[0],3)}%\\t{AARP[col].isnull().sum()} null values in {col}')"
   ]
  },
  {
   "cell_type": "code",
   "execution_count": 5,
   "id": "870fd69f-b0bc-4098-9cbe-167079efeff5",
   "metadata": {
    "tags": []
   },
   "outputs": [
    {
     "name": "stdout",
     "output_type": "stream",
     "text": [
      "AGE4:\t['60+' '30-44' '45-59' '18-29']\n",
      "INCOME:\t['$25,000 to $29,999' '$40,000 to $49,999' '$100,000 to $124,999'\n",
      " '$200,000 or more' '$150,000 to $174,999' '$50,000 to $59,999'\n",
      " '$125,000 to $149,999' '$60,000 to $74,999' '$85,000 to $99,999'\n",
      " '$5,000 to $9,999' '$20,000 to $24,999' '$75,000 to $84,999'\n",
      " '$35,000 to $39,999' '$30,000 to $34,999' '$15,000 to $19,999'\n",
      " '$10,000 to $14,999' 'Less than $5,000' '$175,000 to $199,999']\n",
      "D6:\t['Good' 'Very good' 'Excellent' 'Fair' 'Poor' 'SKIPPED ON WEB']\n",
      "D8:\t['Everyday' 'Several times a week' 'Once every 2 or 3 weeks' 'Once a week'\n",
      " 'Less than monthly' 'Once a month' 'Never' 'SKIPPED ON WEB']\n",
      "D9C:\t['Never' 'Rarely' 'Sometimes' 'Often' 'SKIPPED ON WEB']\n",
      "D18:\t['Self-employed part-time' 'Employed full-time'\n",
      " 'Unemployed and looking for work' 'Self-employed full-time'\n",
      " 'Employed part-time' 'Retired and not working at all'\n",
      " 'Or are you not in the labor force for other reasons' 'SKIPPED ON WEB']\n",
      "D26:\t['Rural area' 'Suburban with a mix of offices, apartments and shops'\n",
      " 'Urban near mix of offices, apartments and shops'\n",
      " 'Suburban and mostly residential' 'Urban and mostly residential'\n",
      " 'Small town' 'SKIPPED ON WEB' 'DON’T KNOW']\n",
      "MARITAL:\t['Widowed' 'Never married' 'Married' 'Living with partner' 'Separated'\n",
      " 'Divorced']\n",
      "EDUC4:\t['BA or above' 'HS graduate or equivalent' 'Some college' 'No HS diploma']\n",
      "RACETHNICITY:\t['White, non-Hispanic' 'Hispanic' '2+, non-Hispanic' 'Black, non-Hispanic'\n",
      " 'Asian, non-Hispanic' 'Other, non-Hispanic']\n",
      "GENDER:\t['Female' 'Male']\n",
      "HHSIZE:\t[1. 6. 4. 5. 2. 3.]\n"
     ]
    }
   ],
   "source": [
    "# list all unique values\n",
    "for col in AARP.columns:\n",
    "    print(f'{col}:\\t{AARP[col].unique()}')"
   ]
  },
  {
   "cell_type": "code",
   "execution_count": 6,
   "id": "5f1af7a6-65fe-444b-a575-ed364522fb76",
   "metadata": {
    "tags": []
   },
   "outputs": [
    {
     "data": {
      "text/plain": [
       "(1947, 12)"
      ]
     },
     "execution_count": 6,
     "metadata": {},
     "output_type": "execute_result"
    }
   ],
   "source": [
    "AARP.shape"
   ]
  },
  {
   "cell_type": "code",
   "execution_count": 7,
   "id": "4f6de152-3814-4463-9b38-2e112fa739ce",
   "metadata": {
    "tags": []
   },
   "outputs": [],
   "source": [
    "# okay... no nulls because we have 'SKIPPED ON WEB'\n",
    "# let's turn those into nulls and then remove na's\n",
    "AARP = AARP.replace(['SKIPPED ON WEB', \"DON’T KNOW\"], pd.NA)"
   ]
  },
  {
   "cell_type": "code",
   "execution_count": 8,
   "id": "71bc5952-ea12-471b-bcbe-9baba0ab52bc",
   "metadata": {
    "tags": []
   },
   "outputs": [
    {
     "name": "stdout",
     "output_type": "stream",
     "text": [
      "0.002%\t4 null values in D6\n",
      "0.003%\t6 null values in D8\n",
      "0.006%\t11 null values in D9C\n",
      "0.004%\t8 null values in D18\n",
      "0.008%\t15 null values in D26\n"
     ]
    }
   ],
   "source": [
    "# how many nulls?\n",
    "# Loop through each column\n",
    "# and check the amount of nulls.\n",
    "# Only print if there are more than 0.\n",
    "\n",
    "for col in AARP.columns:\n",
    "    if AARP[col].isnull().sum() > 0:\n",
    "        print(f'{round(AARP[col].isnull().sum()/AARP.shape[0],3)}%\\t{AARP[col].isnull().sum()} null values in {col}')"
   ]
  },
  {
   "cell_type": "code",
   "execution_count": 9,
   "id": "1c51e352-86c4-48c9-8845-07a9343019a1",
   "metadata": {
    "tags": []
   },
   "outputs": [
    {
     "data": {
      "text/plain": [
       "(1921, 12)"
      ]
     },
     "execution_count": 9,
     "metadata": {},
     "output_type": "execute_result"
    }
   ],
   "source": [
    "# seriously? Fewer than like 30 individuals skipped these or didn't know?\n",
    "AARP = AARP.dropna()\n",
    "AARP.shape"
   ]
  },
  {
   "cell_type": "markdown",
   "id": "3e81fac6-2144-4721-aab3-b16ec5262099",
   "metadata": {},
   "source": [
    "### Recoding"
   ]
  },
  {
   "cell_type": "code",
   "execution_count": 10,
   "id": "490a8d84-14d2-414b-bbcc-c8de89db998b",
   "metadata": {
    "tags": []
   },
   "outputs": [
    {
     "name": "stdout",
     "output_type": "stream",
     "text": [
      "AGE4:\t['60+' '30-44' '45-59' '18-29']\n",
      "INCOME:\t['$25,000 to $29,999' '$40,000 to $49,999' '$100,000 to $124,999'\n",
      " '$200,000 or more' '$150,000 to $174,999' '$50,000 to $59,999'\n",
      " '$125,000 to $149,999' '$60,000 to $74,999' '$85,000 to $99,999'\n",
      " '$5,000 to $9,999' '$20,000 to $24,999' '$75,000 to $84,999'\n",
      " '$35,000 to $39,999' '$30,000 to $34,999' '$15,000 to $19,999'\n",
      " '$10,000 to $14,999' 'Less than $5,000' '$175,000 to $199,999']\n",
      "D6:\t['Good' 'Very good' 'Excellent' 'Fair' 'Poor']\n",
      "D8:\t['Everyday' 'Several times a week' 'Once every 2 or 3 weeks' 'Once a week'\n",
      " 'Less than monthly' 'Once a month' 'Never']\n",
      "D9C:\t['Never' 'Rarely' 'Sometimes' 'Often']\n",
      "D18:\t['Self-employed part-time' 'Employed full-time'\n",
      " 'Unemployed and looking for work' 'Self-employed full-time'\n",
      " 'Employed part-time' 'Retired and not working at all'\n",
      " 'Or are you not in the labor force for other reasons']\n",
      "D26:\t['Rural area' 'Suburban with a mix of offices, apartments and shops'\n",
      " 'Urban near mix of offices, apartments and shops'\n",
      " 'Suburban and mostly residential' 'Urban and mostly residential'\n",
      " 'Small town']\n",
      "MARITAL:\t['Widowed' 'Never married' 'Married' 'Living with partner' 'Separated'\n",
      " 'Divorced']\n",
      "EDUC4:\t['BA or above' 'HS graduate or equivalent' 'Some college' 'No HS diploma']\n",
      "RACETHNICITY:\t['White, non-Hispanic' 'Hispanic' '2+, non-Hispanic' 'Black, non-Hispanic'\n",
      " 'Asian, non-Hispanic' 'Other, non-Hispanic']\n",
      "GENDER:\t['Female' 'Male']\n",
      "HHSIZE:\t[1. 6. 4. 5. 2. 3.]\n"
     ]
    }
   ],
   "source": [
    "# let's see these unique values again and then start recoding\n",
    "# list all unique values\n",
    "for col in AARP.columns:\n",
    "    print(f'{col}:\\t{AARP[col].unique()}')"
   ]
  },
  {
   "cell_type": "code",
   "execution_count": 11,
   "id": "5c23479f-a80f-4c56-af4f-095d36864f16",
   "metadata": {
    "tags": []
   },
   "outputs": [],
   "source": [
    "# o AGE4 ['60+' '30-44' '45-59' '18-29'] -> [4,2,3,1] \n",
    "# o D6: ['Good' 'Very good' 'Excellent' 'Fair' 'Poor'] -> [3,4,5,2,1]\n",
    "\n",
    "# o D8:['Everyday' 'Several times a week' 'Once every 2 or 3 weeks' 'Once a week' 'Less than monthly' 'Once a month' 'Never'] -> [7, 6, 4, 5, 2, 3, 1]\n",
    "\n",
    "# o D9C: ['Never' 'Rarely' 'Sometimes' 'Often'] -> [1, 2, 3, 4]\n",
    "\n",
    "# c D18: ['Self-employed part-time' 'Employed full-time'\n",
    " # 'Unemployed and looking for work' 'Self-employed full-time'\n",
    " # 'Employed part-time' 'Retired and not working at all'\n",
    " # 'Or are you not in the labor force for other reasons'] -> use pd categorize\n",
    "    \n",
    "# c D26: ['Rural area' 'Suburban with a mix of offices, apartments and shops'\n",
    " # 'Urban near mix of offices, apartments and shops'\n",
    " # 'Suburban and mostly residential' 'Urban and mostly residential'\n",
    " # 'Small town'] -> Rural & small town -> Rural [1] else not rural [2]\n",
    "\n",
    "# c MARITAL: ['Widowed' 'Never married' 'Married' 'Living with partner' 'Separated' 'Divorced'] -> use pd categorize\n",
    "\n",
    "# o EDUC4: ['BA or above' 'HS graduate or equivalent' 'Some college' 'No HS diploma'] -> [4, 2, 3, 1]\n",
    "# c RACETHNICITY: ['White, non-Hispanic' 'Hispanic' '2+, non-Hispanic' 'Black, non-Hispanic' 'Asian, non-Hispanic' 'Other, non-Hispanic'] -> use pd categorize\n",
    "# c GENDER: ['Female' 'Male'] -> [0, 1]\n",
    "# o HHSIZE: [1. 6. 4. 5. 2. 3.] as is (maybe convert to int)\n",
    "\n",
    "\n",
    "# recode age ordinal\n",
    "AARP['AGE4_recode'] = AARP['AGE4'].apply(lambda x: 4 if x == '60+' else 2 if x == '30-44' else 3 if x == '45-59' else 1 if x == '18-29' else -1)\n",
    "\n",
    "# recode D6 ordinal\n",
    "AARP['D6_recode'] = AARP['D6'].apply(lambda x: 3 if x == 'Good' else 4 if x == 'Very good' else 5 if x == 'Excellent' else 2 if x == 'Fair' else 1 if x == 'Poor' else -1)\n",
    "\n",
    "# recode D8 ordinal\n",
    "AARP['D8_recode'] = AARP['D8'].apply(lambda x: 1 if x == 'Never' else 2 if x == 'Less than monthly' else 3 if x == 'Once a month' else 4 if x == 'Once every 2 or 3 weeks' else 5 if x == 'Once a week' else 6 if x == 'Several times a week' else 7 if x == 'Everyday' else -1)\n",
    "\n",
    "# recode D9C ordinal\n",
    "AARP['D9C_recode'] = AARP['D9C'].apply(lambda x: 1 if x == 'Never' else 2 if x == 'Rarely' else 3 if x == 'Sometimes' else 4 if x == 'Often' else -1)\n",
    "\n",
    "# recode D18 categorical\n",
    "# recode like usual, convert to categorical dtype\n",
    "AARP['D18_recode'] = AARP['D18'].apply(lambda x: 1 if x == 'Self-employed part-time' else 2 if x == 'Employed full-time' else 3 if x == 'Employed part-time' else 4 if x == 'Retired and not working at all' else 5 if x == 'Or are you not in the labor force for other reasons' else 6 if x == 'Unemployed and looking for work' else 7 if x == 'Self-employed full-time' else -1)\n",
    "AARP['D18_recode'] = pd.Categorical(AARP['D18_recode'])\n",
    "\n",
    "# recode D26 categorical\n",
    "AARP['D26_recode'] = AARP['D26'].apply(lambda x: 1 if x == 'Rural area' else 1 if x == 'Small town' else 2)\n",
    "AARP['D26_recode'] = pd.Categorical(AARP['D26_recode'])\n",
    "\n",
    "# recode MARITAL categoical\n",
    "AARP['MARITAL_recode'] = AARP['MARITAL'].apply(lambda x: 1 if x == 'Widowed' else 2 if x == 'Never married' else 3 if x == 'Married' else 4 if x == 'Living with partner' else 5 if x == 'Separated' else 6 if x == 'Divorced' else -1)\n",
    "AARP['MARITAL_recode'] = pd.Categorical(AARP['MARITAL_recode'])\n",
    "\n",
    "# recode education ordinal\n",
    "AARP['EDUC4_recode'] = AARP['EDUC4'].apply(lambda x: 1 if x == 'No HS diploma' else 2 if x == 'HS graduate or equivalent' else 3 if x == 'Some college' else 4 if x == 'BA or above' else -1)\n",
    "\n",
    "# recode RACETHNICITY categorical\n",
    "AARP['RACETHNICITY_recode'] = AARP['RACETHNICITY'].apply(lambda x: 1 if x == 'White, non-Hispanic' else 2 if x == 'Hispanic' else 3 if x == '2+, non-Hispanic' else 4 if x == 'Black, non-Hispanic' else 5 if x == 'Asian, non-Hispanic' else 6 if x == 'Other, non-Hispanic' else -1)\n",
    "AARP['RACETHNICITY_recode'] = pd.Categorical(AARP['RACETHNICITY_recode'])\n",
    "\n",
    "AARP['HHSIZE'] = AARP['HHSIZE'].astype(pd.Int32Dtype())"
   ]
  },
  {
   "cell_type": "markdown",
   "id": "f282f1d7-c284-48a5-988f-331cc2a64462",
   "metadata": {},
   "source": [
    "### save cleaned csv"
   ]
  },
  {
   "cell_type": "code",
   "execution_count": 12,
   "id": "4f000873-4cff-4054-b3f2-065bd0cc178f",
   "metadata": {
    "tags": []
   },
   "outputs": [],
   "source": [
    "AARP.to_csv('Data/clean_AARP.csv')"
   ]
  }
 ],
 "metadata": {
  "kernelspec": {
   "display_name": "Python [conda env:DTSC] *",
   "language": "python",
   "name": "conda-env-DTSC-py"
  },
  "language_info": {
   "codemirror_mode": {
    "name": "ipython",
    "version": 3
   },
   "file_extension": ".py",
   "mimetype": "text/x-python",
   "name": "python",
   "nbconvert_exporter": "python",
   "pygments_lexer": "ipython3",
   "version": "3.11.0"
  }
 },
 "nbformat": 4,
 "nbformat_minor": 5
}
