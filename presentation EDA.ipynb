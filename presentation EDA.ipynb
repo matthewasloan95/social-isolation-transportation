{
 "cells": [
  {
   "cell_type": "code",
   "execution_count": 12,
   "id": "f0fa4a50-332e-4e0b-98a7-8bb6f84ba628",
   "metadata": {
    "tags": []
   },
   "outputs": [],
   "source": [
    "# imports\n",
    "import pandas as pd"
   ]
  },
  {
   "cell_type": "code",
   "execution_count": 13,
   "id": "c3a12e65-f64c-4f31-9dcf-a1b75732f952",
   "metadata": {
    "tags": []
   },
   "outputs": [],
   "source": [
    "# read csv\n",
    "df = pd.read_csv('Data/ATUS/most_ATUS_merged_2017_dupes_dropped.csv')"
   ]
  },
  {
   "cell_type": "code",
   "execution_count": 14,
   "id": "cbf0636e-aa55-43be-94d6-3c2569ef9b4f",
   "metadata": {},
   "outputs": [],
   "source": [
    "# cols to use\n",
    "############## ADD TO THIS LIST TO ADD MORE COLMS ##############\n",
    "############## if does not exist add to merging NB ##############\n",
    "colms = ['PREMPNOT','PEMARITL', 'PRTAGE', 'PTDTRACE', 'HEFAMINC', 'HEHOUSUT', 'GEREG', 'HRHTYPE', 'HRNUMHOU', 'PEEDUCA', 'PEDISOUT', 'PEDISREM', 'PESEX']\n",
    "\n",
    "df = df[colms]"
   ]
  },
  {
   "cell_type": "code",
   "execution_count": null,
   "id": "2ae3ab26-d615-4a16-adc9-0def7dcf4751",
   "metadata": {},
   "outputs": [],
   "source": [
    "# "
   ]
  }
 ],
 "metadata": {
  "kernelspec": {
   "display_name": "Python [conda env:DTSC] *",
   "language": "python",
   "name": "conda-env-DTSC-py"
  },
  "language_info": {
   "codemirror_mode": {
    "name": "ipython",
    "version": 3
   },
   "file_extension": ".py",
   "mimetype": "text/x-python",
   "name": "python",
   "nbconvert_exporter": "python",
   "pygments_lexer": "ipython3",
   "version": "3.11.0"
  }
 },
 "nbformat": 4,
 "nbformat_minor": 5
}
