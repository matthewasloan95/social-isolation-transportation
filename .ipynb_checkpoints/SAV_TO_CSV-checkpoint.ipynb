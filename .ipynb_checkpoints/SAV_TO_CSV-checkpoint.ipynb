{
 "cells": [
  {
   "cell_type": "code",
   "execution_count": 1,
   "id": "7f8cd017-b29a-4350-8858-04c8edf73b58",
   "metadata": {},
   "outputs": [],
   "source": [
    "import pandas as pd"
   ]
  },
  {
   "cell_type": "code",
   "execution_count": 2,
   "id": "7fd76814-ca78-4e09-a468-7f6271b1604b",
   "metadata": {},
   "outputs": [],
   "source": [
    "aarp_2017 = pd.read_spss('Data/2017 AARP/AARP AFC_Final Data_SPSS_2017 Aggregate.SAV')"
   ]
  },
  {
   "cell_type": "code",
   "execution_count": 6,
   "id": "4fb9818d-72ff-48e2-a07c-b777850d6dd0",
   "metadata": {},
   "outputs": [],
   "source": [
    "aarp_2017.to_csv('Data/2017 AARP/aarp_2017.csv')"
   ]
  },
  {
   "cell_type": "code",
   "execution_count": null,
   "id": "e845e80c-1c87-4e0c-8ddc-5723e7f254c5",
   "metadata": {},
   "outputs": [],
   "source": []
  }
 ],
 "metadata": {
  "kernelspec": {
   "display_name": "Python [conda env:DataMining] *",
   "language": "python",
   "name": "conda-env-DataMining-py"
  },
  "language_info": {
   "codemirror_mode": {
    "name": "ipython",
    "version": 3
   },
   "file_extension": ".py",
   "mimetype": "text/x-python",
   "name": "python",
   "nbconvert_exporter": "python",
   "pygments_lexer": "ipython3",
   "version": "3.9.13"
  }
 },
 "nbformat": 4,
 "nbformat_minor": 5
}
